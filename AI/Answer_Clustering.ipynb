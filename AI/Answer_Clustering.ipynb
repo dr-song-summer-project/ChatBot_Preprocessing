{
  "nbformat": 4,
  "nbformat_minor": 0,
  "metadata": {
    "colab": {
      "name": "Answer_Clustering.ipynb",
      "provenance": [],
      "collapsed_sections": [],
      "authorship_tag": "ABX9TyNVfCyPMEjT5Q+PayCsddDK",
      "include_colab_link": true
    },
    "kernelspec": {
      "name": "python3",
      "display_name": "Python 3"
    },
    "language_info": {
      "name": "python"
    }
  },
  "cells": [
    {
      "cell_type": "markdown",
      "metadata": {
        "id": "view-in-github",
        "colab_type": "text"
      },
      "source": [
        "<a href=\"https://colab.research.google.com/github/dr-song-summer-project/ChatBot_Preprocessing/blob/main/AI/Answer_Clustering.ipynb\" target=\"_parent\"><img src=\"https://colab.research.google.com/assets/colab-badge.svg\" alt=\"Open In Colab\"/></a>"
      ]
    },
    {
      "cell_type": "code",
      "metadata": {
        "colab": {
          "base_uri": "https://localhost:8080/"
        },
        "id": "oR-zyLfEvTRw",
        "outputId": "3d8c93da-f42f-4f67-c1a6-e53039369c41"
      },
      "source": [
        "!pip install openpyxl"
      ],
      "execution_count": null,
      "outputs": [
        {
          "output_type": "stream",
          "text": [
            "Requirement already satisfied: openpyxl in /usr/local/lib/python3.7/dist-packages (2.5.9)\n",
            "Requirement already satisfied: et-xmlfile in /usr/local/lib/python3.7/dist-packages (from openpyxl) (1.1.0)\n",
            "Requirement already satisfied: jdcal in /usr/local/lib/python3.7/dist-packages (from openpyxl) (1.4.1)\n"
          ],
          "name": "stdout"
        }
      ]
    },
    {
      "cell_type": "code",
      "metadata": {
        "colab": {
          "base_uri": "https://localhost:8080/"
        },
        "id": "Tln4E2Y1v2ZG",
        "outputId": "0a8337b7-33fb-41d4-93ea-8eec802060b4"
      },
      "source": [
        "from google.colab import drive\n",
        "drive.mount('/gdrive', force_remount=True)"
      ],
      "execution_count": null,
      "outputs": [
        {
          "output_type": "stream",
          "text": [
            "Mounted at /gdrive\n"
          ],
          "name": "stdout"
        }
      ]
    },
    {
      "cell_type": "markdown",
      "metadata": {
        "id": "LJad_KJwvT4v"
      },
      "source": [
        "# 답변 Clustering "
      ]
    },
    {
      "cell_type": "code",
      "metadata": {
        "id": "UFrob-js9Z8-"
      },
      "source": [
        "sse = []"
      ],
      "execution_count": null,
      "outputs": []
    },
    {
      "cell_type": "code",
      "metadata": {
        "colab": {
          "base_uri": "https://localhost:8080/",
          "height": 414
        },
        "id": "Gb_UB-NjtDUC",
        "outputId": "ebe607f3-9284-48df-eb0e-a34d2a935efe"
      },
      "source": [
        "import pandas as pd\n",
        "import re\n",
        "from sklearn.feature_extraction.text import CountVectorizer\n",
        "from sklearn.preprocessing import normalize\n",
        "from sklearn.cluster import KMeans\n",
        "\n",
        "path = '/gdrive/My Drive/Colab Notebooks/Src/형태소분석_annotation_2000.xlsx'\n",
        "\n",
        "df = pd.read_excel(path)\n",
        "data = pd.DataFrame()\n",
        "data['annotation_Q'] = df['질문 요약']\n",
        "\n",
        "def preprocessing(sentence):\n",
        "    # sentence =re.sub('[^가-힣ㄱ-ㅎㅏ-ㅣa-zA-Z]', ' ', sentence)\n",
        "    # 추출을 할 리스트가 string형식이 아니었던 거시어따..!\n",
        "    sentence =re.sub('[^가-힣ㄱ-ㅎㅏ-ㅣa-zA-Z]', ' ', str(sentence))\n",
        "    return sentence\n",
        "\n",
        "df['content_cleaned'] = data['annotation_Q'].apply(preprocessing)\n",
        "content = df['content_cleaned'].tolist()\n",
        "\n",
        "# CountVectrizer로 토큰화\n",
        "vectorizer = CountVectorizer()\n",
        "X = vectorizer.fit_transform(content)\n",
        "\n",
        "# l2 정규화\n",
        "X = normalize(X)\n",
        "\n",
        "# 군집화 할 그룹의 갯수 정의\n",
        "n_clusters = 12\n",
        "\n",
        "# k-means 알고리즘 적용\n",
        "kmeans = KMeans(n_clusters=n_clusters).fit(X)\n",
        "\n",
        "# trained labels and cluster centers\n",
        "labels = kmeans.labels_\n",
        "centers = kmeans.cluster_centers_\n",
        "\n",
        "# labels에 merge\n",
        "df['labels'] = labels\n",
        "\n",
        "df.loc[df['labels']==10,['content_cleaned', 'labels']]"
      ],
      "execution_count": null,
      "outputs": [
        {
          "output_type": "execute_result",
          "data": {
            "text/html": [
              "<div>\n",
              "<style scoped>\n",
              "    .dataframe tbody tr th:only-of-type {\n",
              "        vertical-align: middle;\n",
              "    }\n",
              "\n",
              "    .dataframe tbody tr th {\n",
              "        vertical-align: top;\n",
              "    }\n",
              "\n",
              "    .dataframe thead th {\n",
              "        text-align: right;\n",
              "    }\n",
              "</style>\n",
              "<table border=\"1\" class=\"dataframe\">\n",
              "  <thead>\n",
              "    <tr style=\"text-align: right;\">\n",
              "      <th></th>\n",
              "      <th>content_cleaned</th>\n",
              "      <th>labels</th>\n",
              "    </tr>\n",
              "  </thead>\n",
              "  <tbody>\n",
              "    <tr>\n",
              "      <th>9</th>\n",
              "      <td>사후 피임약 생리 전 복용하다 생리 시작햇 그냥 피임약 복용 무리 엄나</td>\n",
              "      <td>10</td>\n",
              "    </tr>\n",
              "    <tr>\n",
              "      <th>53</th>\n",
              "      <td>생리 끝나다 일 내 복용 시작하다 피임 잘 되다 것</td>\n",
              "      <td>10</td>\n",
              "    </tr>\n",
              "    <tr>\n",
              "      <th>57</th>\n",
              "      <td>월 일 생리 시작하다 그리고 월 일 오후 시 피임약 복용 생리 일 되다 날 관계 가...</td>\n",
              "      <td>10</td>\n",
              "    </tr>\n",
              "    <tr>\n",
              "      <th>64</th>\n",
              "      <td>사 후 피임약 복용하다 주일 후 경구 피임약 복용 하다 다 하다 피임 그대로 유 지...</td>\n",
              "      <td>10</td>\n",
              "    </tr>\n",
              "    <tr>\n",
              "      <th>74</th>\n",
              "      <td>생리 시작하다 피임약 새 거 뜯다 하루 복용하다 지금 복용 안 하다 있다 일 되다 ...</td>\n",
              "      <td>10</td>\n",
              "    </tr>\n",
              "    <tr>\n",
              "      <th>...</th>\n",
              "      <td>...</td>\n",
              "      <td>...</td>\n",
              "    </tr>\n",
              "    <tr>\n",
              "      <th>1969</th>\n",
              "      <td>피임약 복용 중단 후 생리 불순 다시 시작되다</td>\n",
              "      <td>10</td>\n",
              "    </tr>\n",
              "    <tr>\n",
              "      <th>1976</th>\n",
              "      <td>피임약 복용 후 생리 때 덩어리 나오다</td>\n",
              "      <td>10</td>\n",
              "    </tr>\n",
              "    <tr>\n",
              "      <th>1978</th>\n",
              "      <td>사후 피임약 복용 후 생리 늦 지다 있다</td>\n",
              "      <td>10</td>\n",
              "    </tr>\n",
              "    <tr>\n",
              "      <th>1985</th>\n",
              "      <td>사후 피임약 복용 후 생리 얼마나 미루다 지다 나다</td>\n",
              "      <td>10</td>\n",
              "    </tr>\n",
              "    <tr>\n",
              "      <th>1998</th>\n",
              "      <td>피임약 복용 중단 후 생리 시작하다</td>\n",
              "      <td>10</td>\n",
              "    </tr>\n",
              "  </tbody>\n",
              "</table>\n",
              "<p>156 rows × 2 columns</p>\n",
              "</div>"
            ],
            "text/plain": [
              "                                        content_cleaned  labels\n",
              "9               사후 피임약 생리 전 복용하다 생리 시작햇 그냥 피임약 복용 무리 엄나      10\n",
              "53                         생리 끝나다 일 내 복용 시작하다 피임 잘 되다 것      10\n",
              "57    월 일 생리 시작하다 그리고 월 일 오후 시 피임약 복용 생리 일 되다 날 관계 가...      10\n",
              "64    사 후 피임약 복용하다 주일 후 경구 피임약 복용 하다 다 하다 피임 그대로 유 지...      10\n",
              "74    생리 시작하다 피임약 새 거 뜯다 하루 복용하다 지금 복용 안 하다 있다 일 되다 ...      10\n",
              "...                                                 ...     ...\n",
              "1969                          피임약 복용 중단 후 생리 불순 다시 시작되다      10\n",
              "1976                              피임약 복용 후 생리 때 덩어리 나오다      10\n",
              "1978                             사후 피임약 복용 후 생리 늦 지다 있다      10\n",
              "1985                       사후 피임약 복용 후 생리 얼마나 미루다 지다 나다      10\n",
              "1998                                피임약 복용 중단 후 생리 시작하다      10\n",
              "\n",
              "[156 rows x 2 columns]"
            ]
          },
          "metadata": {
            "tags": []
          },
          "execution_count": 28
        }
      ]
    },
    {
      "cell_type": "code",
      "metadata": {
        "colab": {
          "base_uri": "https://localhost:8080/",
          "height": 705
        },
        "id": "bVKwZwKcaQAY",
        "outputId": "8860919d-e8b3-4560-f9f4-6559389cd5cc"
      },
      "source": [
        "import matplotlib\n",
        "import matplotlib.pyplot as plt\n",
        "sse = []\n",
        "def elbow(X, n):\n",
        "  for i in range(1, n+5):\n",
        "    km = KMeans(n_clusters=i, init='k-means++', random_state=0)\n",
        "    km.fit(X)\n",
        "    sse.append(km.inertia_)\n",
        "  plt.plot(range(1, n+5), sse, marker='o')\n",
        "  plt.xlabel('클러스터 갯수')\n",
        "  plt.ylabel('SSE')\n",
        "  plt.show()\n",
        "\n",
        "n = 50\n",
        "elbow(X, n)\n",
        "\n",
        "\n"
      ],
      "execution_count": null,
      "outputs": [
        {
          "output_type": "stream",
          "text": [
            "/usr/local/lib/python3.7/dist-packages/matplotlib/backends/backend_agg.py:214: RuntimeWarning: Glyph 53364 missing from current font.\n",
            "  font.set_text(s, 0.0, flags=flags)\n",
            "/usr/local/lib/python3.7/dist-packages/matplotlib/backends/backend_agg.py:214: RuntimeWarning: Glyph 47084 missing from current font.\n",
            "  font.set_text(s, 0.0, flags=flags)\n",
            "/usr/local/lib/python3.7/dist-packages/matplotlib/backends/backend_agg.py:214: RuntimeWarning: Glyph 49828 missing from current font.\n",
            "  font.set_text(s, 0.0, flags=flags)\n",
            "/usr/local/lib/python3.7/dist-packages/matplotlib/backends/backend_agg.py:214: RuntimeWarning: Glyph 53552 missing from current font.\n",
            "  font.set_text(s, 0.0, flags=flags)\n",
            "/usr/local/lib/python3.7/dist-packages/matplotlib/backends/backend_agg.py:214: RuntimeWarning: Glyph 44079 missing from current font.\n",
            "  font.set_text(s, 0.0, flags=flags)\n",
            "/usr/local/lib/python3.7/dist-packages/matplotlib/backends/backend_agg.py:214: RuntimeWarning: Glyph 49688 missing from current font.\n",
            "  font.set_text(s, 0.0, flags=flags)\n",
            "/usr/local/lib/python3.7/dist-packages/matplotlib/backends/backend_agg.py:183: RuntimeWarning: Glyph 53364 missing from current font.\n",
            "  font.set_text(s, 0, flags=flags)\n",
            "/usr/local/lib/python3.7/dist-packages/matplotlib/backends/backend_agg.py:183: RuntimeWarning: Glyph 47084 missing from current font.\n",
            "  font.set_text(s, 0, flags=flags)\n",
            "/usr/local/lib/python3.7/dist-packages/matplotlib/backends/backend_agg.py:183: RuntimeWarning: Glyph 49828 missing from current font.\n",
            "  font.set_text(s, 0, flags=flags)\n",
            "/usr/local/lib/python3.7/dist-packages/matplotlib/backends/backend_agg.py:183: RuntimeWarning: Glyph 53552 missing from current font.\n",
            "  font.set_text(s, 0, flags=flags)\n",
            "/usr/local/lib/python3.7/dist-packages/matplotlib/backends/backend_agg.py:183: RuntimeWarning: Glyph 44079 missing from current font.\n",
            "  font.set_text(s, 0, flags=flags)\n",
            "/usr/local/lib/python3.7/dist-packages/matplotlib/backends/backend_agg.py:183: RuntimeWarning: Glyph 49688 missing from current font.\n",
            "  font.set_text(s, 0, flags=flags)\n"
          ],
          "name": "stderr"
        },
        {
          "output_type": "display_data",
          "data": {
            "image/png": "[encoded data removed]",
            "text/plain": [
              "<Figure size 432x288 with 1 Axes>"
            ]
          },
          "metadata": {
            "tags": [],
            "needs_background": "light"
          }
        }
      ]
    },
    {
      "cell_type": "code",
      "metadata": {
        "id": "NdGN5oF6xODw"
      },
      "source": [
        "df_clustering = df[['질문', 'content_cleaned', 'labels']]\n",
        "\n",
        "# df.to_excel(\"/content/clusted_all.xlsx\", sheet_name=\"질문 포함\")\n",
        "# df_clustering.to_excel(\"/content/clustered_answer.xlsx\", sheet_name=\"답변 클러스터링\")\n",
        "\n",
        "with pd.ExcelWriter('/content/clustered.xlsx') as writer:\n",
        "    df_clustering.to_excel(writer, sheet_name='clustered_question')\n",
        "    df.to_excel(writer, sheet_name='clusted_all')\n",
        "\n"
      ],
      "execution_count": null,
      "outputs": []
    },
    {
      "cell_type": "code",
      "metadata": {
        "id": "rdQj6WBd1kx8"
      },
      "source": [
        "with pd.ExcelWriter('/content/clustered_종류.xlsx') as writer:  \n",
        "  for i in range(0, n_clusters):\n",
        "    df_sample = df.loc[df['labels']==i,['질문','content_cleaned', 'labels']]\n",
        "    df_sample.to_excel(writer, sheet_name='Label 1')"
      ],
      "execution_count": null,
      "outputs": []
    },
    {
      "cell_type": "markdown",
      "metadata": {
        "id": "UBlBvz-ojpVz"
      },
      "source": [
        "# 요약 답변 클러스터링"
      ]
    },
    {
      "cell_type": "code",
      "metadata": {
        "colab": {
          "base_uri": "https://localhost:8080/",
          "height": 414
        },
        "id": "R3wBJi9Sjo5T",
        "outputId": "882a618a-f17a-4b57-9b0b-170b8c35b88b"
      },
      "source": [
        "import pandas as pd\n",
        "import re\n",
        "from sklearn.feature_extraction.text import CountVectorizer\n",
        "from sklearn.preprocessing import normalize\n",
        "from sklearn.cluster import KMeans\n",
        "\n",
        "path = '/gdrive/My Drive/Colab Notebooks/Src/sample_annotation.xlsx'\n",
        "\n",
        "df = pd.read_excel(path)\n",
        "data = pd.DataFrame()\n",
        "data['answers'] = df['질문 요약']\n",
        "\n",
        "def preprocessing(sentence):\n",
        "    sentence =re.sub('[^가-힣ㄱ-ㅎㅏ-ㅣa-zA-Z]', ' ', sentence)\n",
        "    return sentence\n",
        "\n",
        "df['content_cleaned'] = data['answers'].apply(preprocessing)\n",
        "content = df['content_cleaned'].tolist()\n",
        "\n",
        "# CountVectrizer로 토큰화\n",
        "vectorizer = CountVectorizer()\n",
        "X = vectorizer.fit_transform(content)\n",
        "\n",
        "# l2 정규화\n",
        "X = normalize(X)\n",
        "\n",
        "# 군집화 할 그룹의 갯수 정의\n",
        "n_clusters = 2\n",
        "\n",
        "# k-means 알고리즘 적용\n",
        "kmeans = KMeans(n_clusters=n_clusters).fit(X)\n",
        "\n",
        "# trained labels and cluster centers\n",
        "labels = kmeans.labels_\n",
        "centers = kmeans.cluster_centers_\n",
        "\n",
        "# labels에 merge\n",
        "df['labels'] = labels\n",
        "\n",
        "df.loc[df['labels']==1,['content_cleaned', 'labels']]"
      ],
      "execution_count": null,
      "outputs": [
        {
          "output_type": "execute_result",
          "data": {
            "text/html": [
              "<div>\n",
              "<style scoped>\n",
              "    .dataframe tbody tr th:only-of-type {\n",
              "        vertical-align: middle;\n",
              "    }\n",
              "\n",
              "    .dataframe tbody tr th {\n",
              "        vertical-align: top;\n",
              "    }\n",
              "\n",
              "    .dataframe thead th {\n",
              "        text-align: right;\n",
              "    }\n",
              "</style>\n",
              "<table border=\"1\" class=\"dataframe\">\n",
              "  <thead>\n",
              "    <tr style=\"text-align: right;\">\n",
              "      <th></th>\n",
              "      <th>content_cleaned</th>\n",
              "      <th>labels</th>\n",
              "    </tr>\n",
              "  </thead>\n",
              "  <tbody>\n",
              "    <tr>\n",
              "      <th>1</th>\n",
              "      <td>휴약기를 가 지지 않아도 피임 효과가 있나요</td>\n",
              "      <td>1</td>\n",
              "    </tr>\n",
              "    <tr>\n",
              "      <th>4</th>\n",
              "      <td>일에서   일까지 피임약을 복용하고   일째 만 다른 피임법을 병용 한다면 이전에...</td>\n",
              "      <td>1</td>\n",
              "    </tr>\n",
              "    <tr>\n",
              "      <th>6</th>\n",
              "      <td>휴약 기간을 가진 후에 오늘부터 다시 피임약을 먹고 있습니다 그러면 지금은 피임 효...</td>\n",
              "      <td>1</td>\n",
              "    </tr>\n",
              "    <tr>\n",
              "      <th>7</th>\n",
              "      <td>피임약 생리 첫날에 복용할 경우  팩 다 먹고 난 뒤부터 만 피임 효과가 발생하는 ...</td>\n",
              "      <td>1</td>\n",
              "    </tr>\n",
              "    <tr>\n",
              "      <th>8</th>\n",
              "      <td>생리 시작 후 일주일이 지나기 전에 먹어도 효과가 백프로 있나요</td>\n",
              "      <td>1</td>\n",
              "    </tr>\n",
              "    <tr>\n",
              "      <th>...</th>\n",
              "      <td>...</td>\n",
              "      <td>...</td>\n",
              "    </tr>\n",
              "    <tr>\n",
              "      <th>191</th>\n",
              "      <td>약을 피임약과 함께 복용하여도 피임 효과에는 지장이 없는지</td>\n",
              "      <td>1</td>\n",
              "    </tr>\n",
              "    <tr>\n",
              "      <th>193</th>\n",
              "      <td>구토을 하면 약이 흡수되지 않아서 피임 효과 없다는데 임신 가능성 있을까요</td>\n",
              "      <td>1</td>\n",
              "    </tr>\n",
              "    <tr>\n",
              "      <th>194</th>\n",
              "      <td>미루는 목적으로 경구 피임약을 먹을 땐 생리 시작일  일 이내 부터 약을 먹으라고 ...</td>\n",
              "      <td>1</td>\n",
              "    </tr>\n",
              "    <tr>\n",
              "      <th>195</th>\n",
              "      <td>생리 미루는 목적으로 피임약을 먹으려는데요 몇일 전쯤 먹어야 효과가 있나요</td>\n",
              "      <td>1</td>\n",
              "    </tr>\n",
              "    <tr>\n",
              "      <th>199</th>\n",
              "      <td>생리 시작  일째부터 피임약 복용을 시작 먹은 지   일째에 질내 사정을 했는데  ...</td>\n",
              "      <td>1</td>\n",
              "    </tr>\n",
              "  </tbody>\n",
              "</table>\n",
              "<p>67 rows × 2 columns</p>\n",
              "</div>"
            ],
            "text/plain": [
              "                                       content_cleaned  labels\n",
              "1                            휴약기를 가 지지 않아도 피임 효과가 있나요        1\n",
              "4     일에서   일까지 피임약을 복용하고   일째 만 다른 피임법을 병용 한다면 이전에...       1\n",
              "6    휴약 기간을 가진 후에 오늘부터 다시 피임약을 먹고 있습니다 그러면 지금은 피임 효...       1\n",
              "7    피임약 생리 첫날에 복용할 경우  팩 다 먹고 난 뒤부터 만 피임 효과가 발생하는 ...       1\n",
              "8                 생리 시작 후 일주일이 지나기 전에 먹어도 효과가 백프로 있나요        1\n",
              "..                                                 ...     ...\n",
              "191                   약을 피임약과 함께 복용하여도 피임 효과에는 지장이 없는지       1\n",
              "193        구토을 하면 약이 흡수되지 않아서 피임 효과 없다는데 임신 가능성 있을까요         1\n",
              "194  미루는 목적으로 경구 피임약을 먹을 땐 생리 시작일  일 이내 부터 약을 먹으라고 ...       1\n",
              "195          생리 미루는 목적으로 피임약을 먹으려는데요 몇일 전쯤 먹어야 효과가 있나요       1\n",
              "199  생리 시작  일째부터 피임약 복용을 시작 먹은 지   일째에 질내 사정을 했는데  ...       1\n",
              "\n",
              "[67 rows x 2 columns]"
            ]
          },
          "metadata": {
            "tags": []
          },
          "execution_count": 62
        }
      ]
    },
    {
      "cell_type": "code",
      "metadata": {
        "colab": {
          "base_uri": "https://localhost:8080/"
        },
        "id": "c6Kiwp8Wn234",
        "outputId": "e386092e-950c-4ecb-c1e8-58950cfa5e78"
      },
      "source": [
        "import pandas as pd\n",
        "import numpy as np\n",
        "import matplotlib.pyplot as plt\n",
        "from sklearn.cluster import KMeans\n",
        "%matplotlib inline\n",
        "\n",
        "# X= -2 * np.random.rand(100,2)\n",
        "# X1 = 1 + 2 * np.random.rand(50,2)\n",
        "# X[50:100, :] = X1\n",
        "\n",
        "kmeans = KMeans(n_clusters=n_clusters).fit(X)\n",
        "\n",
        "kmeans.cluster_centers_\n"
      ],
      "execution_count": null,
      "outputs": [
        {
          "output_type": "execute_result",
          "data": {
            "text/plain": [
              "array([[0.00293704, 0.00153382, 0.00321736, ..., 0.00400676, 0.        ,\n",
              "        0.00143885],\n",
              "       [0.        , 0.        , 0.        , ..., 0.        , 0.00463864,\n",
              "        0.        ]])"
            ]
          },
          "metadata": {
            "tags": []
          },
          "execution_count": 63
        }
      ]
    },
    {
      "cell_type": "code",
      "metadata": {
        "id": "7umbYa6fkBOz"
      },
      "source": [
        "df_clustering = df[['content_cleaned', 'labels']]\n",
        "\n",
        "# df.to_excel(\"/content/clusted_all.xlsx\", sheet_name=\"질문 포함\")\n",
        "# df_clustering.to_excel(\"/content/clustered_answer.xlsx\", sheet_name=\"답변 클러스터링\")\n",
        "\n",
        "with pd.ExcelWriter('/content/clustered_annotation.xlsx') as writer:\n",
        "    df_clustering.to_excel(writer, sheet_name='clustered_answer')\n",
        "    df.to_excel(writer, sheet_name='clusted_all')\n"
      ],
      "execution_count": null,
      "outputs": []
    },
    {
      "cell_type": "code",
      "metadata": {
        "colab": {
          "base_uri": "https://localhost:8080/",
          "height": 705
        },
        "id": "5lGP7Gf-k01q",
        "outputId": "158ed667-6d89-4d17-af63-f88edc186cc7"
      },
      "source": [
        "import matplotlib\n",
        "import matplotlib.pyplot as plt\n",
        "\n",
        "smaple = []\n",
        "\n",
        "def elbow(X, n):\n",
        "  for i in range(1, n):\n",
        "    km = KMeans(n_clusters=i, init='k-means++', random_state=0)\n",
        "    km.fit(X)\n",
        "    smaple.append(km.inertia_)\n",
        "  plt.plot(range(1, n), smaple, marker='o')\n",
        "  plt.xlabel('클러스터 갯수')\n",
        "  plt.ylabel('SSE')\n",
        "  plt.show()\n",
        "\n",
        "elbow(X, 30)"
      ],
      "execution_count": null,
      "outputs": [
        {
          "output_type": "stream",
          "text": [
            "/usr/local/lib/python3.7/dist-packages/matplotlib/backends/backend_agg.py:214: RuntimeWarning: Glyph 53364 missing from current font.\n",
            "  font.set_text(s, 0.0, flags=flags)\n",
            "/usr/local/lib/python3.7/dist-packages/matplotlib/backends/backend_agg.py:214: RuntimeWarning: Glyph 47084 missing from current font.\n",
            "  font.set_text(s, 0.0, flags=flags)\n",
            "/usr/local/lib/python3.7/dist-packages/matplotlib/backends/backend_agg.py:214: RuntimeWarning: Glyph 49828 missing from current font.\n",
            "  font.set_text(s, 0.0, flags=flags)\n",
            "/usr/local/lib/python3.7/dist-packages/matplotlib/backends/backend_agg.py:214: RuntimeWarning: Glyph 53552 missing from current font.\n",
            "  font.set_text(s, 0.0, flags=flags)\n",
            "/usr/local/lib/python3.7/dist-packages/matplotlib/backends/backend_agg.py:214: RuntimeWarning: Glyph 44079 missing from current font.\n",
            "  font.set_text(s, 0.0, flags=flags)\n",
            "/usr/local/lib/python3.7/dist-packages/matplotlib/backends/backend_agg.py:214: RuntimeWarning: Glyph 49688 missing from current font.\n",
            "  font.set_text(s, 0.0, flags=flags)\n",
            "/usr/local/lib/python3.7/dist-packages/matplotlib/backends/backend_agg.py:183: RuntimeWarning: Glyph 53364 missing from current font.\n",
            "  font.set_text(s, 0, flags=flags)\n",
            "/usr/local/lib/python3.7/dist-packages/matplotlib/backends/backend_agg.py:183: RuntimeWarning: Glyph 47084 missing from current font.\n",
            "  font.set_text(s, 0, flags=flags)\n",
            "/usr/local/lib/python3.7/dist-packages/matplotlib/backends/backend_agg.py:183: RuntimeWarning: Glyph 49828 missing from current font.\n",
            "  font.set_text(s, 0, flags=flags)\n",
            "/usr/local/lib/python3.7/dist-packages/matplotlib/backends/backend_agg.py:183: RuntimeWarning: Glyph 53552 missing from current font.\n",
            "  font.set_text(s, 0, flags=flags)\n",
            "/usr/local/lib/python3.7/dist-packages/matplotlib/backends/backend_agg.py:183: RuntimeWarning: Glyph 44079 missing from current font.\n",
            "  font.set_text(s, 0, flags=flags)\n",
            "/usr/local/lib/python3.7/dist-packages/matplotlib/backends/backend_agg.py:183: RuntimeWarning: Glyph 49688 missing from current font.\n",
            "  font.set_text(s, 0, flags=flags)\n"
          ],
          "name": "stderr"
        },
        {
          "output_type": "display_data",
          "data": {
            "image/png": "[encoded data removed]",
            "text/plain": [
              "<Figure size 432x288 with 1 Axes>"
            ]
          },
          "metadata": {
            "tags": [],
            "needs_background": "light"
          }
        }
      ]
    }
  ]
}