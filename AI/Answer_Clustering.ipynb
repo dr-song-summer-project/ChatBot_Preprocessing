{
  "nbformat": 4,
  "nbformat_minor": 0,
  "metadata": {
    "colab": {
      "name": "Answer_Clustering.ipynb",
      "provenance": [],
      "collapsed_sections": [],
      "authorship_tag": "ABX9TyMuFQAg1o0fmRH3Ci2URVig",
      "include_colab_link": true
    },
    "kernelspec": {
      "name": "python3",
      "display_name": "Python 3"
    },
    "language_info": {
      "name": "python"
    }
  },
  "cells": [
    {
      "cell_type": "markdown",
      "metadata": {
        "id": "view-in-github",
        "colab_type": "text"
      },
      "source": [
        "<a href=\"https://colab.research.google.com/github/dr-song-summer-project/ChatBot_Preprocessing/blob/main/AI/Answer_Clustering.ipynb\" target=\"_parent\"><img src=\"https://colab.research.google.com/assets/colab-badge.svg\" alt=\"Open In Colab\"/></a>"
      ]
    },
    {
      "cell_type": "code",
      "metadata": {
        "colab": {
          "base_uri": "https://localhost:8080/"
        },
        "id": "oR-zyLfEvTRw",
        "outputId": "db1c1a0a-d6ad-4762-d8c3-61012cc2c77c"
      },
      "source": [
        "!pip install openpyxl"
      ],
      "execution_count": null,
      "outputs": [
        {
          "output_type": "stream",
          "text": [
            "Requirement already satisfied: openpyxl in /usr/local/lib/python3.7/dist-packages (2.5.9)\n",
            "Requirement already satisfied: jdcal in /usr/local/lib/python3.7/dist-packages (from openpyxl) (1.4.1)\n",
            "Requirement already satisfied: et-xmlfile in /usr/local/lib/python3.7/dist-packages (from openpyxl) (1.1.0)\n"
          ],
          "name": "stdout"
        }
      ]
    },
    {
      "cell_type": "code",
      "metadata": {
        "colab": {
          "base_uri": "https://localhost:8080/"
        },
        "id": "Tln4E2Y1v2ZG",
        "outputId": "deca440f-a2eb-4ec0-f540-944cdef251d6"
      },
      "source": [
        "from google.colab import drive\n",
        "drive.mount('/gdrive', force_remount=True)"
      ],
      "execution_count": null,
      "outputs": [
        {
          "output_type": "stream",
          "text": [
            "Mounted at /gdrive\n"
          ],
          "name": "stdout"
        }
      ]
    },
    {
      "cell_type": "markdown",
      "metadata": {
        "id": "LJad_KJwvT4v"
      },
      "source": [
        "# 답변 Clustering "
      ]
    },
    {
      "cell_type": "code",
      "metadata": {
        "id": "UFrob-js9Z8-"
      },
      "source": [
        "sse = []"
      ],
      "execution_count": null,
      "outputs": []
    },
    {
      "cell_type": "code",
      "metadata": {
        "colab": {
          "base_uri": "https://localhost:8080/",
          "height": 414
        },
        "id": "Gb_UB-NjtDUC",
        "outputId": "c1111e80-7ef5-4b9f-87d8-8663b147b8f3"
      },
      "source": [
        "import pandas as pd\n",
        "import re\n",
        "from sklearn.feature_extraction.text import CountVectorizer\n",
        "from sklearn.preprocessing import normalize\n",
        "from sklearn.cluster import KMeans\n",
        "\n",
        "path = '/gdrive/My Drive/Colab Notebooks/Src/sample_data_preprocessed_4100.xlsx'\n",
        "\n",
        "df = pd.read_excel(path)\n",
        "data = pd.DataFrame()\n",
        "data['answers'] = df['답변']\n",
        "\n",
        "def preprocessing(sentence):\n",
        "    sentence =re.sub('[^가-힣ㄱ-ㅎㅏ-ㅣa-zA-Z]', ' ', sentence)\n",
        "    return sentence\n",
        "\n",
        "df['content_cleaned'] = data['answers'].apply(preprocessing)\n",
        "content = df['content_cleaned'].tolist()\n",
        "\n",
        "# CountVectrizer로 토큰화\n",
        "vectorizer = CountVectorizer()\n",
        "X = vectorizer.fit_transform(content)\n",
        "\n",
        "# l2 정규화\n",
        "X = normalize(X)\n",
        "\n",
        "# 군집화 할 그룹의 갯수 정의\n",
        "n_clusters = 20\n",
        "\n",
        "# k-means 알고리즘 적용\n",
        "kmeans = KMeans(n_clusters=n_clusters).fit(X)\n",
        "\n",
        "# trained labels and cluster centers\n",
        "labels = kmeans.labels_\n",
        "centers = kmeans.cluster_centers_\n",
        "\n",
        "# labels에 merge\n",
        "df['labels'] = labels\n",
        "\n",
        "df.loc[df['labels']==1,['content_cleaned', 'labels']]"
      ],
      "execution_count": null,
      "outputs": [
        {
          "output_type": "execute_result",
          "data": {
            "text/html": [
              "<div>\n",
              "<style scoped>\n",
              "    .dataframe tbody tr th:only-of-type {\n",
              "        vertical-align: middle;\n",
              "    }\n",
              "\n",
              "    .dataframe tbody tr th {\n",
              "        vertical-align: top;\n",
              "    }\n",
              "\n",
              "    .dataframe thead th {\n",
              "        text-align: right;\n",
              "    }\n",
              "</style>\n",
              "<table border=\"1\" class=\"dataframe\">\n",
              "  <thead>\n",
              "    <tr style=\"text-align: right;\">\n",
              "      <th></th>\n",
              "      <th>content_cleaned</th>\n",
              "      <th>labels</th>\n",
              "    </tr>\n",
              "  </thead>\n",
              "  <tbody>\n",
              "    <tr>\n",
              "      <th>189</th>\n",
              "      <td>피임약을 꾸준히 드셨다고 하면 임신의 가능성은 없어 보입니다  너무 걱정하지 않으...</td>\n",
              "      <td>1</td>\n",
              "    </tr>\n",
              "    <tr>\n",
              "      <th>206</th>\n",
              "      <td>임신 가능성은 아주 낮아 보입니다  피임약을 복용하는 기준으로 일반적인 임신 확률...</td>\n",
              "      <td>1</td>\n",
              "    </tr>\n",
              "    <tr>\n",
              "      <th>263</th>\n",
              "      <td>피임약을 언제부터 복용하신 지 몰라 정확한 답변은 어렵지만  부정출혈의 가능성이 ...</td>\n",
              "      <td>1</td>\n",
              "    </tr>\n",
              "    <tr>\n",
              "      <th>447</th>\n",
              "      <td>피임약의 복용수칙을 지키지 않았다면 피임이 될 확률이 낮아질 수 있을 가능성이 높...</td>\n",
              "      <td>1</td>\n",
              "    </tr>\n",
              "    <tr>\n",
              "      <th>457</th>\n",
              "      <td>이전에 피임약을 정해진 스케줄로 정상적으로 복용하였고 휴약기에 이벤트가 있었다면 ...</td>\n",
              "      <td>1</td>\n",
              "    </tr>\n",
              "    <tr>\n",
              "      <th>...</th>\n",
              "      <td>...</td>\n",
              "      <td>...</td>\n",
              "    </tr>\n",
              "    <tr>\n",
              "      <th>4069</th>\n",
              "      <td>생리 주기가 불규칙하여 정확히 상담해 드리기 어렵겠습니다  우선 중간에 출혈은 정...</td>\n",
              "      <td>1</td>\n",
              "    </tr>\n",
              "    <tr>\n",
              "      <th>4093</th>\n",
              "      <td>말씀하신 hcg  가 확인되었다면 임신의 가능성은 없어 보입니다  굳이 더 걱정하...</td>\n",
              "      <td>1</td>\n",
              "    </tr>\n",
              "    <tr>\n",
              "      <th>4114</th>\n",
              "      <td>현재 적어주신 내용대로라면 임신의 가능성은 없어 보입니다  굳이 걱정하지 않으셔도...</td>\n",
              "      <td>1</td>\n",
              "    </tr>\n",
              "    <tr>\n",
              "      <th>4120</th>\n",
              "      <td>현실적으로 임신의 가능성은 현저히 낮습니다만       임신이 아니다라고 확인을 ...</td>\n",
              "      <td>1</td>\n",
              "    </tr>\n",
              "    <tr>\n",
              "      <th>4133</th>\n",
              "      <td>성기가 근접해 있다고 정자가 질 안으로 들어가는 것은 아닙니다  쿠퍼액이 분비가 ...</td>\n",
              "      <td>1</td>\n",
              "    </tr>\n",
              "  </tbody>\n",
              "</table>\n",
              "<p>112 rows × 2 columns</p>\n",
              "</div>"
            ],
            "text/plain": [
              "                                        content_cleaned  labels\n",
              "189    피임약을 꾸준히 드셨다고 하면 임신의 가능성은 없어 보입니다  너무 걱정하지 않으...       1\n",
              "206    임신 가능성은 아주 낮아 보입니다  피임약을 복용하는 기준으로 일반적인 임신 확률...       1\n",
              "263    피임약을 언제부터 복용하신 지 몰라 정확한 답변은 어렵지만  부정출혈의 가능성이 ...       1\n",
              "447    피임약의 복용수칙을 지키지 않았다면 피임이 될 확률이 낮아질 수 있을 가능성이 높...       1\n",
              "457    이전에 피임약을 정해진 스케줄로 정상적으로 복용하였고 휴약기에 이벤트가 있었다면 ...       1\n",
              "...                                                 ...     ...\n",
              "4069   생리 주기가 불규칙하여 정확히 상담해 드리기 어렵겠습니다  우선 중간에 출혈은 정...       1\n",
              "4093   말씀하신 hcg  가 확인되었다면 임신의 가능성은 없어 보입니다  굳이 더 걱정하...       1\n",
              "4114   현재 적어주신 내용대로라면 임신의 가능성은 없어 보입니다  굳이 걱정하지 않으셔도...       1\n",
              "4120   현실적으로 임신의 가능성은 현저히 낮습니다만       임신이 아니다라고 확인을 ...       1\n",
              "4133   성기가 근접해 있다고 정자가 질 안으로 들어가는 것은 아닙니다  쿠퍼액이 분비가 ...       1\n",
              "\n",
              "[112 rows x 2 columns]"
            ]
          },
          "metadata": {
            "tags": []
          },
          "execution_count": 69
        }
      ]
    },
    {
      "cell_type": "code",
      "metadata": {
        "colab": {
          "base_uri": "https://localhost:8080/",
          "height": 264
        },
        "id": "0qw6vbo1mvXp",
        "outputId": "139545f4-f5cb-47bb-afaf-b9968151adfc"
      },
      "source": [
        "import pandas as pd\n",
        "import numpy as np\n",
        "import matplotlib.pyplot as plt\n",
        "from sklearn.cluster import KMeans\n",
        "%matplotlib inline\n",
        "\n",
        "# X= -2 * np.random.rand(100,2)\n",
        "# X1 = 1 + 2 * np.random.rand(50,2)\n",
        "# X[50:100, :] = X1\n",
        "\n",
        "Kmean = KMeans(n_clusters=5)\n",
        "Kmean.fit(X)\n",
        "\n",
        "Kmean.cluster_centers_\n",
        "\n",
        "plt.scatter(X[ : , 0], X[ : , 1], s =50, c='b')\n",
        "plt.scatter(-0.94665068, -0.97138368, s=200, c='g', marker='s')\n",
        "plt.scatter(2.01559419, 2.02597093, s=200, c='r', marker='s')\n",
        "plt.show()"
      ],
      "execution_count": null,
      "outputs": [
        {
          "output_type": "display_data",
          "data": {
            "image/png": "[encoded data removed]",
            "text/plain": [
              "<Figure size 432x288 with 1 Axes>"
            ]
          },
          "metadata": {
            "tags": [],
            "needs_background": "light"
          }
        }
      ]
    },
    {
      "cell_type": "code",
      "metadata": {
        "colab": {
          "base_uri": "https://localhost:8080/",
          "height": 641
        },
        "id": "bVKwZwKcaQAY",
        "outputId": "e3516ac6-a9db-41b5-fefe-c3ebc8a75715"
      },
      "source": [
        "import matplotlib\n",
        "import matplotlib.pyplot as plt\n",
        "\n",
        "def elbow(X, n):\n",
        "  for i in range(1, n+5):\n",
        "    km = KMeans(n_clusters=i, init='k-means++', random_state=0)\n",
        "    km.fit(X)\n",
        "    sse.append(km.inertia_)\n",
        "\n",
        "\n",
        "n = 68\n",
        "elbow(X, n)\n",
        "plt.plot(range(1, n+5), sse, marker='o')\n",
        "plt.xlabel('클러스터 갯수')\n",
        "plt.ylabel('SSE')\n",
        "plt.show()"
      ],
      "execution_count": null,
      "outputs": [
        {
          "output_type": "error",
          "ename": "ValueError",
          "evalue": "ignored",
          "traceback": [
            "\u001b[0;31m---------------------------------------------------------------------------\u001b[0m",
            "\u001b[0;31mValueError\u001b[0m                                Traceback (most recent call last)",
            "\u001b[0;32m<ipython-input-67-c724fa9e428b>\u001b[0m in \u001b[0;36m<module>\u001b[0;34m()\u001b[0m\n\u001b[1;32m     11\u001b[0m \u001b[0mn\u001b[0m \u001b[0;34m=\u001b[0m \u001b[0;36m68\u001b[0m\u001b[0;34m\u001b[0m\u001b[0;34m\u001b[0m\u001b[0m\n\u001b[1;32m     12\u001b[0m \u001b[0melbow\u001b[0m\u001b[0;34m(\u001b[0m\u001b[0mX\u001b[0m\u001b[0;34m,\u001b[0m \u001b[0mn\u001b[0m\u001b[0;34m)\u001b[0m\u001b[0;34m\u001b[0m\u001b[0;34m\u001b[0m\u001b[0m\n\u001b[0;32m---> 13\u001b[0;31m \u001b[0mplt\u001b[0m\u001b[0;34m.\u001b[0m\u001b[0mplot\u001b[0m\u001b[0;34m(\u001b[0m\u001b[0mrange\u001b[0m\u001b[0;34m(\u001b[0m\u001b[0;36m1\u001b[0m\u001b[0;34m,\u001b[0m \u001b[0mn\u001b[0m\u001b[0;34m+\u001b[0m\u001b[0;36m5\u001b[0m\u001b[0;34m)\u001b[0m\u001b[0;34m,\u001b[0m \u001b[0msse\u001b[0m\u001b[0;34m,\u001b[0m \u001b[0mmarker\u001b[0m\u001b[0;34m=\u001b[0m\u001b[0;34m'o'\u001b[0m\u001b[0;34m)\u001b[0m\u001b[0;34m\u001b[0m\u001b[0;34m\u001b[0m\u001b[0m\n\u001b[0m\u001b[1;32m     14\u001b[0m \u001b[0mplt\u001b[0m\u001b[0;34m.\u001b[0m\u001b[0mxlabel\u001b[0m\u001b[0;34m(\u001b[0m\u001b[0;34m'클러스터 갯수'\u001b[0m\u001b[0;34m)\u001b[0m\u001b[0;34m\u001b[0m\u001b[0;34m\u001b[0m\u001b[0m\n\u001b[1;32m     15\u001b[0m \u001b[0mplt\u001b[0m\u001b[0;34m.\u001b[0m\u001b[0mylabel\u001b[0m\u001b[0;34m(\u001b[0m\u001b[0;34m'SSE'\u001b[0m\u001b[0;34m)\u001b[0m\u001b[0;34m\u001b[0m\u001b[0;34m\u001b[0m\u001b[0m\n",
            "\u001b[0;32m/usr/local/lib/python3.7/dist-packages/matplotlib/pyplot.py\u001b[0m in \u001b[0;36mplot\u001b[0;34m(scalex, scaley, data, *args, **kwargs)\u001b[0m\n\u001b[1;32m   2761\u001b[0m     return gca().plot(\n\u001b[1;32m   2762\u001b[0m         *args, scalex=scalex, scaley=scaley, **({\"data\": data} if data\n\u001b[0;32m-> 2763\u001b[0;31m         is not None else {}), **kwargs)\n\u001b[0m\u001b[1;32m   2764\u001b[0m \u001b[0;34m\u001b[0m\u001b[0m\n\u001b[1;32m   2765\u001b[0m \u001b[0;34m\u001b[0m\u001b[0m\n",
            "\u001b[0;32m/usr/local/lib/python3.7/dist-packages/matplotlib/axes/_axes.py\u001b[0m in \u001b[0;36mplot\u001b[0;34m(self, scalex, scaley, data, *args, **kwargs)\u001b[0m\n\u001b[1;32m   1645\u001b[0m         \"\"\"\n\u001b[1;32m   1646\u001b[0m         \u001b[0mkwargs\u001b[0m \u001b[0;34m=\u001b[0m \u001b[0mcbook\u001b[0m\u001b[0;34m.\u001b[0m\u001b[0mnormalize_kwargs\u001b[0m\u001b[0;34m(\u001b[0m\u001b[0mkwargs\u001b[0m\u001b[0;34m,\u001b[0m \u001b[0mmlines\u001b[0m\u001b[0;34m.\u001b[0m\u001b[0mLine2D\u001b[0m\u001b[0;34m)\u001b[0m\u001b[0;34m\u001b[0m\u001b[0;34m\u001b[0m\u001b[0m\n\u001b[0;32m-> 1647\u001b[0;31m         \u001b[0mlines\u001b[0m \u001b[0;34m=\u001b[0m \u001b[0;34m[\u001b[0m\u001b[0;34m*\u001b[0m\u001b[0mself\u001b[0m\u001b[0;34m.\u001b[0m\u001b[0m_get_lines\u001b[0m\u001b[0;34m(\u001b[0m\u001b[0;34m*\u001b[0m\u001b[0margs\u001b[0m\u001b[0;34m,\u001b[0m \u001b[0mdata\u001b[0m\u001b[0;34m=\u001b[0m\u001b[0mdata\u001b[0m\u001b[0;34m,\u001b[0m \u001b[0;34m**\u001b[0m\u001b[0mkwargs\u001b[0m\u001b[0;34m)\u001b[0m\u001b[0;34m]\u001b[0m\u001b[0;34m\u001b[0m\u001b[0;34m\u001b[0m\u001b[0m\n\u001b[0m\u001b[1;32m   1648\u001b[0m         \u001b[0;32mfor\u001b[0m \u001b[0mline\u001b[0m \u001b[0;32min\u001b[0m \u001b[0mlines\u001b[0m\u001b[0;34m:\u001b[0m\u001b[0;34m\u001b[0m\u001b[0;34m\u001b[0m\u001b[0m\n\u001b[1;32m   1649\u001b[0m             \u001b[0mself\u001b[0m\u001b[0;34m.\u001b[0m\u001b[0madd_line\u001b[0m\u001b[0;34m(\u001b[0m\u001b[0mline\u001b[0m\u001b[0;34m)\u001b[0m\u001b[0;34m\u001b[0m\u001b[0;34m\u001b[0m\u001b[0m\n",
            "\u001b[0;32m/usr/local/lib/python3.7/dist-packages/matplotlib/axes/_base.py\u001b[0m in \u001b[0;36m__call__\u001b[0;34m(self, *args, **kwargs)\u001b[0m\n\u001b[1;32m    214\u001b[0m                 \u001b[0mthis\u001b[0m \u001b[0;34m+=\u001b[0m \u001b[0margs\u001b[0m\u001b[0;34m[\u001b[0m\u001b[0;36m0\u001b[0m\u001b[0;34m]\u001b[0m\u001b[0;34m,\u001b[0m\u001b[0;34m\u001b[0m\u001b[0;34m\u001b[0m\u001b[0m\n\u001b[1;32m    215\u001b[0m                 \u001b[0margs\u001b[0m \u001b[0;34m=\u001b[0m \u001b[0margs\u001b[0m\u001b[0;34m[\u001b[0m\u001b[0;36m1\u001b[0m\u001b[0;34m:\u001b[0m\u001b[0;34m]\u001b[0m\u001b[0;34m\u001b[0m\u001b[0;34m\u001b[0m\u001b[0m\n\u001b[0;32m--> 216\u001b[0;31m             \u001b[0;32myield\u001b[0m \u001b[0;32mfrom\u001b[0m \u001b[0mself\u001b[0m\u001b[0;34m.\u001b[0m\u001b[0m_plot_args\u001b[0m\u001b[0;34m(\u001b[0m\u001b[0mthis\u001b[0m\u001b[0;34m,\u001b[0m \u001b[0mkwargs\u001b[0m\u001b[0;34m)\u001b[0m\u001b[0;34m\u001b[0m\u001b[0;34m\u001b[0m\u001b[0m\n\u001b[0m\u001b[1;32m    217\u001b[0m \u001b[0;34m\u001b[0m\u001b[0m\n\u001b[1;32m    218\u001b[0m     \u001b[0;32mdef\u001b[0m \u001b[0mget_next_color\u001b[0m\u001b[0;34m(\u001b[0m\u001b[0mself\u001b[0m\u001b[0;34m)\u001b[0m\u001b[0;34m:\u001b[0m\u001b[0;34m\u001b[0m\u001b[0;34m\u001b[0m\u001b[0m\n",
            "\u001b[0;32m/usr/local/lib/python3.7/dist-packages/matplotlib/axes/_base.py\u001b[0m in \u001b[0;36m_plot_args\u001b[0;34m(self, tup, kwargs)\u001b[0m\n\u001b[1;32m    340\u001b[0m \u001b[0;34m\u001b[0m\u001b[0m\n\u001b[1;32m    341\u001b[0m         \u001b[0;32mif\u001b[0m \u001b[0mx\u001b[0m\u001b[0;34m.\u001b[0m\u001b[0mshape\u001b[0m\u001b[0;34m[\u001b[0m\u001b[0;36m0\u001b[0m\u001b[0;34m]\u001b[0m \u001b[0;34m!=\u001b[0m \u001b[0my\u001b[0m\u001b[0;34m.\u001b[0m\u001b[0mshape\u001b[0m\u001b[0;34m[\u001b[0m\u001b[0;36m0\u001b[0m\u001b[0;34m]\u001b[0m\u001b[0;34m:\u001b[0m\u001b[0;34m\u001b[0m\u001b[0;34m\u001b[0m\u001b[0m\n\u001b[0;32m--> 342\u001b[0;31m             raise ValueError(f\"x and y must have same first dimension, but \"\n\u001b[0m\u001b[1;32m    343\u001b[0m                              f\"have shapes {x.shape} and {y.shape}\")\n\u001b[1;32m    344\u001b[0m         \u001b[0;32mif\u001b[0m \u001b[0mx\u001b[0m\u001b[0;34m.\u001b[0m\u001b[0mndim\u001b[0m \u001b[0;34m>\u001b[0m \u001b[0;36m2\u001b[0m \u001b[0;32mor\u001b[0m \u001b[0my\u001b[0m\u001b[0;34m.\u001b[0m\u001b[0mndim\u001b[0m \u001b[0;34m>\u001b[0m \u001b[0;36m2\u001b[0m\u001b[0;34m:\u001b[0m\u001b[0;34m\u001b[0m\u001b[0;34m\u001b[0m\u001b[0m\n",
            "\u001b[0;31mValueError\u001b[0m: x and y must have same first dimension, but have shapes (72,) and (145,)"
          ]
        },
        {
          "output_type": "display_data",
          "data": {
            "image/png": "[encoded data removed]",
            "text/plain": [
              "<Figure size 432x288 with 1 Axes>"
            ]
          },
          "metadata": {
            "tags": [],
            "needs_background": "light"
          }
        }
      ]
    },
    {
      "cell_type": "code",
      "metadata": {
        "id": "NdGN5oF6xODw"
      },
      "source": [
        "df_clustering = df[['content_cleaned', 'labels']]\n",
        "\n",
        "# df.to_excel(\"/content/clusted_all.xlsx\", sheet_name=\"질문 포함\")\n",
        "# df_clustering.to_excel(\"/content/clustered_answer.xlsx\", sheet_name=\"답변 클러스터링\")\n",
        "\n",
        "with pd.ExcelWriter('/content/clustered.xlsx') as writer:\n",
        "    df_clustering.to_excel(writer, sheet_name='clustered_answer')\n",
        "    df.to_excel(writer, sheet_name='clusted_all')\n",
        "\n"
      ],
      "execution_count": null,
      "outputs": []
    },
    {
      "cell_type": "code",
      "metadata": {
        "id": "rdQj6WBd1kx8"
      },
      "source": [
        "with pd.ExcelWriter('/content/clustered_종류.xlsx') as writer:  \n",
        "  for i in range(0, n_clusters):\n",
        "    df_sample = df.loc[df['labels']==i,['질문','content_cleaned', 'labels']]\n",
        "    df_sample.to_excel(writer, sheet_name='Label 1')"
      ],
      "execution_count": null,
      "outputs": []
    },
    {
      "cell_type": "markdown",
      "metadata": {
        "id": "UBlBvz-ojpVz"
      },
      "source": [
        "# 요약 답변 클러스터링"
      ]
    },
    {
      "cell_type": "code",
      "metadata": {
        "colab": {
          "base_uri": "https://localhost:8080/",
          "height": 414
        },
        "id": "R3wBJi9Sjo5T",
        "outputId": "882a618a-f17a-4b57-9b0b-170b8c35b88b"
      },
      "source": [
        "import pandas as pd\n",
        "import re\n",
        "from sklearn.feature_extraction.text import CountVectorizer\n",
        "from sklearn.preprocessing import normalize\n",
        "from sklearn.cluster import KMeans\n",
        "\n",
        "path = '/gdrive/My Drive/Colab Notebooks/Src/sample_annotation.xlsx'\n",
        "\n",
        "df = pd.read_excel(path)\n",
        "data = pd.DataFrame()\n",
        "data['answers'] = df['질문 요약']\n",
        "\n",
        "def preprocessing(sentence):\n",
        "    sentence =re.sub('[^가-힣ㄱ-ㅎㅏ-ㅣa-zA-Z]', ' ', sentence)\n",
        "    return sentence\n",
        "\n",
        "df['content_cleaned'] = data['answers'].apply(preprocessing)\n",
        "content = df['content_cleaned'].tolist()\n",
        "\n",
        "# CountVectrizer로 토큰화\n",
        "vectorizer = CountVectorizer()\n",
        "X = vectorizer.fit_transform(content)\n",
        "\n",
        "# l2 정규화\n",
        "X = normalize(X)\n",
        "\n",
        "# 군집화 할 그룹의 갯수 정의\n",
        "n_clusters = 2\n",
        "\n",
        "# k-means 알고리즘 적용\n",
        "kmeans = KMeans(n_clusters=n_clusters).fit(X)\n",
        "\n",
        "# trained labels and cluster centers\n",
        "labels = kmeans.labels_\n",
        "centers = kmeans.cluster_centers_\n",
        "\n",
        "# labels에 merge\n",
        "df['labels'] = labels\n",
        "\n",
        "df.loc[df['labels']==1,['content_cleaned', 'labels']]"
      ],
      "execution_count": null,
      "outputs": [
        {
          "output_type": "execute_result",
          "data": {
            "text/html": [
              "<div>\n",
              "<style scoped>\n",
              "    .dataframe tbody tr th:only-of-type {\n",
              "        vertical-align: middle;\n",
              "    }\n",
              "\n",
              "    .dataframe tbody tr th {\n",
              "        vertical-align: top;\n",
              "    }\n",
              "\n",
              "    .dataframe thead th {\n",
              "        text-align: right;\n",
              "    }\n",
              "</style>\n",
              "<table border=\"1\" class=\"dataframe\">\n",
              "  <thead>\n",
              "    <tr style=\"text-align: right;\">\n",
              "      <th></th>\n",
              "      <th>content_cleaned</th>\n",
              "      <th>labels</th>\n",
              "    </tr>\n",
              "  </thead>\n",
              "  <tbody>\n",
              "    <tr>\n",
              "      <th>1</th>\n",
              "      <td>휴약기를 가 지지 않아도 피임 효과가 있나요</td>\n",
              "      <td>1</td>\n",
              "    </tr>\n",
              "    <tr>\n",
              "      <th>4</th>\n",
              "      <td>일에서   일까지 피임약을 복용하고   일째 만 다른 피임법을 병용 한다면 이전에...</td>\n",
              "      <td>1</td>\n",
              "    </tr>\n",
              "    <tr>\n",
              "      <th>6</th>\n",
              "      <td>휴약 기간을 가진 후에 오늘부터 다시 피임약을 먹고 있습니다 그러면 지금은 피임 효...</td>\n",
              "      <td>1</td>\n",
              "    </tr>\n",
              "    <tr>\n",
              "      <th>7</th>\n",
              "      <td>피임약 생리 첫날에 복용할 경우  팩 다 먹고 난 뒤부터 만 피임 효과가 발생하는 ...</td>\n",
              "      <td>1</td>\n",
              "    </tr>\n",
              "    <tr>\n",
              "      <th>8</th>\n",
              "      <td>생리 시작 후 일주일이 지나기 전에 먹어도 효과가 백프로 있나요</td>\n",
              "      <td>1</td>\n",
              "    </tr>\n",
              "    <tr>\n",
              "      <th>...</th>\n",
              "      <td>...</td>\n",
              "      <td>...</td>\n",
              "    </tr>\n",
              "    <tr>\n",
              "      <th>191</th>\n",
              "      <td>약을 피임약과 함께 복용하여도 피임 효과에는 지장이 없는지</td>\n",
              "      <td>1</td>\n",
              "    </tr>\n",
              "    <tr>\n",
              "      <th>193</th>\n",
              "      <td>구토을 하면 약이 흡수되지 않아서 피임 효과 없다는데 임신 가능성 있을까요</td>\n",
              "      <td>1</td>\n",
              "    </tr>\n",
              "    <tr>\n",
              "      <th>194</th>\n",
              "      <td>미루는 목적으로 경구 피임약을 먹을 땐 생리 시작일  일 이내 부터 약을 먹으라고 ...</td>\n",
              "      <td>1</td>\n",
              "    </tr>\n",
              "    <tr>\n",
              "      <th>195</th>\n",
              "      <td>생리 미루는 목적으로 피임약을 먹으려는데요 몇일 전쯤 먹어야 효과가 있나요</td>\n",
              "      <td>1</td>\n",
              "    </tr>\n",
              "    <tr>\n",
              "      <th>199</th>\n",
              "      <td>생리 시작  일째부터 피임약 복용을 시작 먹은 지   일째에 질내 사정을 했는데  ...</td>\n",
              "      <td>1</td>\n",
              "    </tr>\n",
              "  </tbody>\n",
              "</table>\n",
              "<p>67 rows × 2 columns</p>\n",
              "</div>"
            ],
            "text/plain": [
              "                                       content_cleaned  labels\n",
              "1                            휴약기를 가 지지 않아도 피임 효과가 있나요        1\n",
              "4     일에서   일까지 피임약을 복용하고   일째 만 다른 피임법을 병용 한다면 이전에...       1\n",
              "6    휴약 기간을 가진 후에 오늘부터 다시 피임약을 먹고 있습니다 그러면 지금은 피임 효...       1\n",
              "7    피임약 생리 첫날에 복용할 경우  팩 다 먹고 난 뒤부터 만 피임 효과가 발생하는 ...       1\n",
              "8                 생리 시작 후 일주일이 지나기 전에 먹어도 효과가 백프로 있나요        1\n",
              "..                                                 ...     ...\n",
              "191                   약을 피임약과 함께 복용하여도 피임 효과에는 지장이 없는지       1\n",
              "193        구토을 하면 약이 흡수되지 않아서 피임 효과 없다는데 임신 가능성 있을까요         1\n",
              "194  미루는 목적으로 경구 피임약을 먹을 땐 생리 시작일  일 이내 부터 약을 먹으라고 ...       1\n",
              "195          생리 미루는 목적으로 피임약을 먹으려는데요 몇일 전쯤 먹어야 효과가 있나요       1\n",
              "199  생리 시작  일째부터 피임약 복용을 시작 먹은 지   일째에 질내 사정을 했는데  ...       1\n",
              "\n",
              "[67 rows x 2 columns]"
            ]
          },
          "metadata": {
            "tags": []
          },
          "execution_count": 62
        }
      ]
    },
    {
      "cell_type": "code",
      "metadata": {
        "colab": {
          "base_uri": "https://localhost:8080/"
        },
        "id": "c6Kiwp8Wn234",
        "outputId": "e386092e-950c-4ecb-c1e8-58950cfa5e78"
      },
      "source": [
        "import pandas as pd\n",
        "import numpy as np\n",
        "import matplotlib.pyplot as plt\n",
        "from sklearn.cluster import KMeans\n",
        "%matplotlib inline\n",
        "\n",
        "# X= -2 * np.random.rand(100,2)\n",
        "# X1 = 1 + 2 * np.random.rand(50,2)\n",
        "# X[50:100, :] = X1\n",
        "\n",
        "kmeans = KMeans(n_clusters=n_clusters).fit(X)\n",
        "\n",
        "kmeans.cluster_centers_\n"
      ],
      "execution_count": null,
      "outputs": [
        {
          "output_type": "execute_result",
          "data": {
            "text/plain": [
              "array([[0.00293704, 0.00153382, 0.00321736, ..., 0.00400676, 0.        ,\n",
              "        0.00143885],\n",
              "       [0.        , 0.        , 0.        , ..., 0.        , 0.00463864,\n",
              "        0.        ]])"
            ]
          },
          "metadata": {
            "tags": []
          },
          "execution_count": 63
        }
      ]
    },
    {
      "cell_type": "code",
      "metadata": {
        "id": "7umbYa6fkBOz"
      },
      "source": [
        "df_clustering = df[['content_cleaned', 'labels']]\n",
        "\n",
        "# df.to_excel(\"/content/clusted_all.xlsx\", sheet_name=\"질문 포함\")\n",
        "# df_clustering.to_excel(\"/content/clustered_answer.xlsx\", sheet_name=\"답변 클러스터링\")\n",
        "\n",
        "with pd.ExcelWriter('/content/clustered_annotation.xlsx') as writer:\n",
        "    df_clustering.to_excel(writer, sheet_name='clustered_answer')\n",
        "    df.to_excel(writer, sheet_name='clusted_all')\n"
      ],
      "execution_count": null,
      "outputs": []
    },
    {
      "cell_type": "code",
      "metadata": {
        "colab": {
          "base_uri": "https://localhost:8080/",
          "height": 705
        },
        "id": "5lGP7Gf-k01q",
        "outputId": "158ed667-6d89-4d17-af63-f88edc186cc7"
      },
      "source": [
        "import matplotlib\n",
        "import matplotlib.pyplot as plt\n",
        "\n",
        "smaple = []\n",
        "\n",
        "def elbow(X, n):\n",
        "  for i in range(1, n):\n",
        "    km = KMeans(n_clusters=i, init='k-means++', random_state=0)\n",
        "    km.fit(X)\n",
        "    smaple.append(km.inertia_)\n",
        "  plt.plot(range(1, n), smaple, marker='o')\n",
        "  plt.xlabel('클러스터 갯수')\n",
        "  plt.ylabel('SSE')\n",
        "  plt.show()\n",
        "\n",
        "elbow(X, 30)"
      ],
      "execution_count": null,
      "outputs": [
        {
          "output_type": "stream",
          "text": [
            "/usr/local/lib/python3.7/dist-packages/matplotlib/backends/backend_agg.py:214: RuntimeWarning: Glyph 53364 missing from current font.\n",
            "  font.set_text(s, 0.0, flags=flags)\n",
            "/usr/local/lib/python3.7/dist-packages/matplotlib/backends/backend_agg.py:214: RuntimeWarning: Glyph 47084 missing from current font.\n",
            "  font.set_text(s, 0.0, flags=flags)\n",
            "/usr/local/lib/python3.7/dist-packages/matplotlib/backends/backend_agg.py:214: RuntimeWarning: Glyph 49828 missing from current font.\n",
            "  font.set_text(s, 0.0, flags=flags)\n",
            "/usr/local/lib/python3.7/dist-packages/matplotlib/backends/backend_agg.py:214: RuntimeWarning: Glyph 53552 missing from current font.\n",
            "  font.set_text(s, 0.0, flags=flags)\n",
            "/usr/local/lib/python3.7/dist-packages/matplotlib/backends/backend_agg.py:214: RuntimeWarning: Glyph 44079 missing from current font.\n",
            "  font.set_text(s, 0.0, flags=flags)\n",
            "/usr/local/lib/python3.7/dist-packages/matplotlib/backends/backend_agg.py:214: RuntimeWarning: Glyph 49688 missing from current font.\n",
            "  font.set_text(s, 0.0, flags=flags)\n",
            "/usr/local/lib/python3.7/dist-packages/matplotlib/backends/backend_agg.py:183: RuntimeWarning: Glyph 53364 missing from current font.\n",
            "  font.set_text(s, 0, flags=flags)\n",
            "/usr/local/lib/python3.7/dist-packages/matplotlib/backends/backend_agg.py:183: RuntimeWarning: Glyph 47084 missing from current font.\n",
            "  font.set_text(s, 0, flags=flags)\n",
            "/usr/local/lib/python3.7/dist-packages/matplotlib/backends/backend_agg.py:183: RuntimeWarning: Glyph 49828 missing from current font.\n",
            "  font.set_text(s, 0, flags=flags)\n",
            "/usr/local/lib/python3.7/dist-packages/matplotlib/backends/backend_agg.py:183: RuntimeWarning: Glyph 53552 missing from current font.\n",
            "  font.set_text(s, 0, flags=flags)\n",
            "/usr/local/lib/python3.7/dist-packages/matplotlib/backends/backend_agg.py:183: RuntimeWarning: Glyph 44079 missing from current font.\n",
            "  font.set_text(s, 0, flags=flags)\n",
            "/usr/local/lib/python3.7/dist-packages/matplotlib/backends/backend_agg.py:183: RuntimeWarning: Glyph 49688 missing from current font.\n",
            "  font.set_text(s, 0, flags=flags)\n"
          ],
          "name": "stderr"
        },
        {
          "output_type": "display_data",
          "data": {
            "image/png": "[encoded data removed]",
            "text/plain": [
              "<Figure size 432x288 with 1 Axes>"
            ]
          },
          "metadata": {
            "tags": [],
            "needs_background": "light"
          }
        }
      ]
    }
  ]
}