{
  "nbformat": 4,
  "nbformat_minor": 0,
  "metadata": {
    "colab": {
      "name": "Answer_Clustering.ipynb",
      "provenance": [],
      "collapsed_sections": [],
      "authorship_tag": "ABX9TyOqAoCo9XQVpwH/v+7rD42F",
      "include_colab_link": true
    },
    "kernelspec": {
      "name": "python3",
      "display_name": "Python 3"
    },
    "language_info": {
      "name": "python"
    }
  },
  "cells": [
    {
      "cell_type": "markdown",
      "metadata": {
        "id": "view-in-github",
        "colab_type": "text"
      },
      "source": [
        "<a href=\"https://colab.research.google.com/github/dr-song-summer-project/ChatBot_Preprocessing/blob/main/AI/Answer_Clustering.ipynb\" target=\"_parent\"><img src=\"https://colab.research.google.com/assets/colab-badge.svg\" alt=\"Open In Colab\"/></a>"
      ]
    },
    {
      "cell_type": "code",
      "metadata": {
        "colab": {
          "base_uri": "https://localhost:8080/"
        },
        "id": "oR-zyLfEvTRw",
        "outputId": "2a568b03-ceac-4a00-d9c1-a3f2989abba3"
      },
      "source": [
        "!pip install openpyxl"
      ],
      "execution_count": null,
      "outputs": [
        {
          "output_type": "stream",
          "text": [
            "Requirement already satisfied: openpyxl in /usr/local/lib/python3.7/dist-packages (2.5.9)\n",
            "Requirement already satisfied: jdcal in /usr/local/lib/python3.7/dist-packages (from openpyxl) (1.4.1)\n",
            "Requirement already satisfied: et-xmlfile in /usr/local/lib/python3.7/dist-packages (from openpyxl) (1.1.0)\n"
          ],
          "name": "stdout"
        }
      ]
    },
    {
      "cell_type": "code",
      "metadata": {
        "colab": {
          "base_uri": "https://localhost:8080/"
        },
        "id": "Tln4E2Y1v2ZG",
        "outputId": "7a0ea57d-07ea-418b-ca1b-5cbfd88840b1"
      },
      "source": [
        "from google.colab import drive\n",
        "drive.mount('/gdrive', force_remount=True)"
      ],
      "execution_count": null,
      "outputs": [
        {
          "output_type": "stream",
          "text": [
            "Mounted at /gdrive\n"
          ],
          "name": "stdout"
        }
      ]
    },
    {
      "cell_type": "markdown",
      "metadata": {
        "id": "LJad_KJwvT4v"
      },
      "source": [
        "# 답변 Clustering "
      ]
    },
    {
      "cell_type": "code",
      "metadata": {
        "colab": {
          "base_uri": "https://localhost:8080/",
          "height": 414
        },
        "id": "Gb_UB-NjtDUC",
        "outputId": "f8ae6707-ee72-472a-eae5-6858f557c4d6"
      },
      "source": [
        "import pandas as pd\n",
        "import re\n",
        "from sklearn.feature_extraction.text import CountVectorizer\n",
        "from sklearn.preprocessing import normalize\n",
        "from sklearn.cluster import KMeans\n",
        "\n",
        "path = '/gdrive/My Drive/Colab Notebooks/Src/sample_data_preprocessed_4100.xlsx'\n",
        "\n",
        "df = pd.read_excel(path)\n",
        "data = pd.DataFrame()\n",
        "data['answers'] = df['답변']\n",
        "\n",
        "def preprocessing(sentence):\n",
        "    sentence =re.sub('[^가-힣ㄱ-ㅎㅏ-ㅣa-zA-Z]', ' ', sentence)\n",
        "    return sentence\n",
        "\n",
        "df['content_cleaned'] = data['answers'].apply(preprocessing)\n",
        "content = df['content_cleaned'].tolist()\n",
        "\n",
        "# CountVectrizer로 토큰화\n",
        "vectorizer = CountVectorizer()\n",
        "X = vectorizer.fit_transform(content)\n",
        "\n",
        "# l2 정규화\n",
        "X = normalize(X)\n",
        "\n",
        "# 군집화 할 그룹의 갯수 정의\n",
        "n_clusters = 100\n",
        "\n",
        "# k-means 알고리즘 적용\n",
        "kmeans = KMeans(n_clusters=n_clusters).fit(X)\n",
        "\n",
        "# trained labels and cluster centers\n",
        "labels = kmeans.labels_\n",
        "centers = kmeans.cluster_centers_\n",
        "\n",
        "# labels에 merge\n",
        "df['labels'] = labels\n",
        "\n",
        "df.loc[df['labels']==1,['content_cleaned', 'labels']]"
      ],
      "execution_count": null,
      "outputs": [
        {
          "output_type": "execute_result",
          "data": {
            "text/html": [
              "<div>\n",
              "<style scoped>\n",
              "    .dataframe tbody tr th:only-of-type {\n",
              "        vertical-align: middle;\n",
              "    }\n",
              "\n",
              "    .dataframe tbody tr th {\n",
              "        vertical-align: top;\n",
              "    }\n",
              "\n",
              "    .dataframe thead th {\n",
              "        text-align: right;\n",
              "    }\n",
              "</style>\n",
              "<table border=\"1\" class=\"dataframe\">\n",
              "  <thead>\n",
              "    <tr style=\"text-align: right;\">\n",
              "      <th></th>\n",
              "      <th>content_cleaned</th>\n",
              "      <th>labels</th>\n",
              "    </tr>\n",
              "  </thead>\n",
              "  <tbody>\n",
              "    <tr>\n",
              "      <th>54</th>\n",
              "      <td>부정출혈인지 생리인지 애매할 때에는 생리로 간주하고 출혈 시작 일부터 피임약을 복...</td>\n",
              "      <td>1</td>\n",
              "    </tr>\n",
              "    <tr>\n",
              "      <th>67</th>\n",
              "      <td>드시면 좋습니다  혈전증 부작용 때문에 지용성 비타민 드시면 안 된다는 이야기는 ...</td>\n",
              "      <td>1</td>\n",
              "    </tr>\n",
              "    <tr>\n",
              "      <th>82</th>\n",
              "      <td>사후 피임약의 일반적인 주의사항입니다  복용 후  주 이내에 부정 자궁출혈이 있을...</td>\n",
              "      <td>1</td>\n",
              "    </tr>\n",
              "    <tr>\n",
              "      <th>106</th>\n",
              "      <td>경구 피임약 복용 후 휴약기에 사 후 피임약을 드실 필요는 없었을 것으로 생각됩니...</td>\n",
              "      <td>1</td>\n",
              "    </tr>\n",
              "    <tr>\n",
              "      <th>245</th>\n",
              "      <td>사후 피임약 복용 후 약  주 정도 후에 생리혈이 보입니다  보통 량은 적은 편입...</td>\n",
              "      <td>1</td>\n",
              "    </tr>\n",
              "    <tr>\n",
              "      <th>...</th>\n",
              "      <td>...</td>\n",
              "      <td>...</td>\n",
              "    </tr>\n",
              "    <tr>\n",
              "      <th>3530</th>\n",
              "      <td>대부분의 알약 복용 원칙은 충분한 물과 함께 복용함이 원칙입니다  커피  우유 등...</td>\n",
              "      <td>1</td>\n",
              "    </tr>\n",
              "    <tr>\n",
              "      <th>3808</th>\n",
              "      <td>부작용이 덜 합니다  야 는  세대로 가장 부작용이 적습니다   세대구분은 부작용...</td>\n",
              "      <td>1</td>\n",
              "    </tr>\n",
              "    <tr>\n",
              "      <th>3870</th>\n",
              "      <td>시간 전이면 생각나자마자 복용하시면 됩니다  직전  일 연속 복용 중 이시면 ...</td>\n",
              "      <td>1</td>\n",
              "    </tr>\n",
              "    <tr>\n",
              "      <th>3876</th>\n",
              "      <td>역시 그렇군요   너무 염려 마세요    세 밖에 안 되셨기 때문에 복용 기간이 ...</td>\n",
              "      <td>1</td>\n",
              "    </tr>\n",
              "    <tr>\n",
              "      <th>3877</th>\n",
              "      <td>역시 그렇군요   너무 염려 마세요    세 밖에 안 되셨기 때문에 복용 기간이 ...</td>\n",
              "      <td>1</td>\n",
              "    </tr>\n",
              "  </tbody>\n",
              "</table>\n",
              "<p>69 rows × 2 columns</p>\n",
              "</div>"
            ],
            "text/plain": [
              "                                        content_cleaned  labels\n",
              "54     부정출혈인지 생리인지 애매할 때에는 생리로 간주하고 출혈 시작 일부터 피임약을 복...       1\n",
              "67     드시면 좋습니다  혈전증 부작용 때문에 지용성 비타민 드시면 안 된다는 이야기는 ...       1\n",
              "82     사후 피임약의 일반적인 주의사항입니다  복용 후  주 이내에 부정 자궁출혈이 있을...       1\n",
              "106    경구 피임약 복용 후 휴약기에 사 후 피임약을 드실 필요는 없었을 것으로 생각됩니...       1\n",
              "245    사후 피임약 복용 후 약  주 정도 후에 생리혈이 보입니다  보통 량은 적은 편입...       1\n",
              "...                                                 ...     ...\n",
              "3530   대부분의 알약 복용 원칙은 충분한 물과 함께 복용함이 원칙입니다  커피  우유 등...       1\n",
              "3808   부작용이 덜 합니다  야 는  세대로 가장 부작용이 적습니다   세대구분은 부작용...       1\n",
              "3870     시간 전이면 생각나자마자 복용하시면 됩니다  직전  일 연속 복용 중 이시면 ...       1\n",
              "3876   역시 그렇군요   너무 염려 마세요    세 밖에 안 되셨기 때문에 복용 기간이 ...       1\n",
              "3877   역시 그렇군요   너무 염려 마세요    세 밖에 안 되셨기 때문에 복용 기간이 ...       1\n",
              "\n",
              "[69 rows x 2 columns]"
            ]
          },
          "metadata": {
            "tags": []
          },
          "execution_count": 48
        }
      ]
    },
    {
      "cell_type": "code",
      "metadata": {
        "id": "UFrob-js9Z8-"
      },
      "source": [
        "import matplotlib\n",
        "import matplotlib.pyplot as plt\n",
        "\n",
        "sse = []"
      ],
      "execution_count": null,
      "outputs": []
    },
    {
      "cell_type": "code",
      "metadata": {
        "colab": {
          "base_uri": "https://localhost:8080/",
          "height": 705
        },
        "id": "bVKwZwKcaQAY",
        "outputId": "b62ad68a-4d83-4327-beba-10e7cc0d2b94"
      },
      "source": [
        "def elbow(X, n):\n",
        "  for i in range(n, n+5):\n",
        "    km = KMeans(n_clusters=i, init='k-means++', random_state=0)\n",
        "    km.fit(X)\n",
        "    sse.append(km.inertia_)\n",
        "  plt.plot(range(1, n+5), sse, marker='o')\n",
        "  plt.xlabel('클러스터 갯수')\n",
        "  plt.ylabel('SSE')\n",
        "  plt.show()\n",
        "\n",
        "elbow(X, 6)"
      ],
      "execution_count": null,
      "outputs": [
        {
          "output_type": "stream",
          "text": [
            "/usr/local/lib/python3.7/dist-packages/matplotlib/backends/backend_agg.py:214: RuntimeWarning: Glyph 53364 missing from current font.\n",
            "  font.set_text(s, 0.0, flags=flags)\n",
            "/usr/local/lib/python3.7/dist-packages/matplotlib/backends/backend_agg.py:214: RuntimeWarning: Glyph 47084 missing from current font.\n",
            "  font.set_text(s, 0.0, flags=flags)\n",
            "/usr/local/lib/python3.7/dist-packages/matplotlib/backends/backend_agg.py:214: RuntimeWarning: Glyph 49828 missing from current font.\n",
            "  font.set_text(s, 0.0, flags=flags)\n",
            "/usr/local/lib/python3.7/dist-packages/matplotlib/backends/backend_agg.py:214: RuntimeWarning: Glyph 53552 missing from current font.\n",
            "  font.set_text(s, 0.0, flags=flags)\n",
            "/usr/local/lib/python3.7/dist-packages/matplotlib/backends/backend_agg.py:214: RuntimeWarning: Glyph 44079 missing from current font.\n",
            "  font.set_text(s, 0.0, flags=flags)\n",
            "/usr/local/lib/python3.7/dist-packages/matplotlib/backends/backend_agg.py:214: RuntimeWarning: Glyph 49688 missing from current font.\n",
            "  font.set_text(s, 0.0, flags=flags)\n",
            "/usr/local/lib/python3.7/dist-packages/matplotlib/backends/backend_agg.py:183: RuntimeWarning: Glyph 53364 missing from current font.\n",
            "  font.set_text(s, 0, flags=flags)\n",
            "/usr/local/lib/python3.7/dist-packages/matplotlib/backends/backend_agg.py:183: RuntimeWarning: Glyph 47084 missing from current font.\n",
            "  font.set_text(s, 0, flags=flags)\n",
            "/usr/local/lib/python3.7/dist-packages/matplotlib/backends/backend_agg.py:183: RuntimeWarning: Glyph 49828 missing from current font.\n",
            "  font.set_text(s, 0, flags=flags)\n",
            "/usr/local/lib/python3.7/dist-packages/matplotlib/backends/backend_agg.py:183: RuntimeWarning: Glyph 53552 missing from current font.\n",
            "  font.set_text(s, 0, flags=flags)\n",
            "/usr/local/lib/python3.7/dist-packages/matplotlib/backends/backend_agg.py:183: RuntimeWarning: Glyph 44079 missing from current font.\n",
            "  font.set_text(s, 0, flags=flags)\n",
            "/usr/local/lib/python3.7/dist-packages/matplotlib/backends/backend_agg.py:183: RuntimeWarning: Glyph 49688 missing from current font.\n",
            "  font.set_text(s, 0, flags=flags)\n"
          ],
          "name": "stderr"
        },
        {
          "output_type": "display_data",
          "data": {
            "image/png": "[encoded data removed]",
            "text/plain": [
              "<Figure size 432x288 with 1 Axes>"
            ]
          },
          "metadata": {
            "tags": [],
            "needs_background": "light"
          }
        }
      ]
    },
    {
      "cell_type": "code",
      "metadata": {
        "id": "NdGN5oF6xODw"
      },
      "source": [
        "df_clustering = df[['content_cleaned', 'labels']]\n",
        "\n",
        "# df.to_excel(\"/content/clusted_all.xlsx\", sheet_name=\"질문 포함\")\n",
        "# df_clustering.to_excel(\"/content/clustered_answer.xlsx\", sheet_name=\"답변 클러스터링\")\n",
        "\n",
        "with pd.ExcelWriter('/content/clustered.xlsx') as writer:\n",
        "    df_clustering.to_excel(writer, sheet_name='clustered_answer')\n",
        "    df.to_excel(writer, sheet_name='clusted_all')\n",
        "\n"
      ],
      "execution_count": null,
      "outputs": []
    },
    {
      "cell_type": "code",
      "metadata": {
        "id": "rdQj6WBd1kx8"
      },
      "source": [
        "with pd.ExcelWriter('/content/clustered_종류.xlsx') as writer:  \n",
        "  for i in range(0, n_clusters):\n",
        "    df_sample = df.loc[df['labels']==i,['질문','content_cleaned', 'labels']]\n",
        "    df_sample.to_excel(writer, sheet_name='Label 1')"
      ],
      "execution_count": null,
      "outputs": []
    }
  ]
}