{
  "nbformat": 4,
  "nbformat_minor": 0,
  "metadata": {
    "colab": {
      "name": "RNN.ipynb",
      "provenance": [],
      "collapsed_sections": [],
      "authorship_tag": "ABX9TyMb7Et3Ysdxs4ISIhUGNeoO",
      "include_colab_link": true
    },
    "kernelspec": {
      "name": "python3",
      "display_name": "Python 3"
    },
    "language_info": {
      "name": "python"
    }
  },
  "cells": [
    {
      "cell_type": "markdown",
      "metadata": {
        "id": "view-in-github",
        "colab_type": "text"
      },
      "source": [
        "<a href=\"https://colab.research.google.com/github/dr-song-summer-project/ChatBot_Preprocessing/blob/main/AI/RNN.ipynb\" target=\"_parent\"><img src=\"https://colab.research.google.com/assets/colab-badge.svg\" alt=\"Open In Colab\"/></a>"
      ]
    },
    {
      "cell_type": "markdown",
      "metadata": {
        "id": "dGeRDep7Nwai"
      },
      "source": [
        "# 순환 신경망"
      ]
    },
    {
      "cell_type": "markdown",
      "metadata": {
        "id": "EhZlRereOlnx"
      },
      "source": [
        "케라스로 RNN 구현하기"
      ]
    },
    {
      "cell_type": "code",
      "metadata": {
        "id": "V5jncY49NtzB"
      },
      "source": [
        "from keras.models import Sequential\n",
        "from keras.layers import SimpleRNN\n",
        "\n",
        "model = Sequential()\n",
        "# model.add(SimpleRNN(3, input_shape=(2,10)))\n",
        "# model.add(SimpleRNN(3, input_length=2, input_dim=10))와 동일함.\n",
        "# model.add(SimpleRNN(3, batch_input_shape=(8,2,10)))\n",
        "model.add(SimpleRNN(3, batch_input_shape=(8,2,10), return_sequences=True))\n",
        "model.summary()"
      ],
      "execution_count": null,
      "outputs": []
    },
    {
      "cell_type": "markdown",
      "metadata": {
        "id": "hVHmfd7QOoxx"
      },
      "source": [
        "RNN 구현하기"
      ]
    },
    {
      "cell_type": "code",
      "metadata": {
        "colab": {
          "base_uri": "https://localhost:8080/"
        },
        "id": "bBIQq4lfOqaY",
        "outputId": "b6ef3020-c440-48b1-a2df-d1a3a41bf978"
      },
      "source": [
        "import numpy as np\n",
        "\n",
        "timesteps = 10 # 시점의 수. NLP에서는 보통 문장의 길이가 된다.\n",
        "input_dim = 4 # 입력의 차원. NLP에서는 보통 단어 벡터의 차원이 된다.\n",
        "hidden_size = 8 # 은닉 상태의 크기. 메모리 셀의 용량이다.\n",
        "\n",
        "inputs = np.random.random((timesteps, input_dim)) # 입력에 해당되는 2D 텐서\n",
        "\n",
        "#======은닉 상태의 크기 hidden_size로 은닉 상태를 만듬.\n",
        "hidden_state_t = np.zeros((hidden_size,)) # 초기 은닉 상태는 0(벡터)로 초기화\n",
        "\n",
        "# print(hidden_state_t) # 8의 크기를 가지는 은닉 상태. 현재는 초기 은닉 상태로 모든 차원이 0의 값을 가짐.\n",
        "\n",
        "#======가중치와 편향 정의\n",
        "Wx = np.random.random((hidden_size, input_dim))  # (8, 4)크기의 2D 텐서 생성. 입력에 대한 가중치.\n",
        "Wh = np.random.random((hidden_size, hidden_size)) # (8, 8)크기의 2D 텐서 생성. 은닉 상태에 대한 가중치.\n",
        "b = np.random.random((hidden_size,)) # (8,)크기의 1D 텐서 생성. 이 값은 편향(bias).\n",
        "\n",
        "# print(np.shape(Wx))\n",
        "# print(np.shape(Wh))\n",
        "# print(np.shape(b))\n",
        "\n",
        "total_hidden_states = []\n",
        "\n",
        "#======메모리 셀 동작\n",
        "for input_t in inputs: # 각 시점에 따라서 입력값이 입력됨.\n",
        "  output_t = np.tanh(np.dot(Wx,input_t) + np.dot(Wh,hidden_state_t) + b) # Wx * Xt + Wh * Ht-1 + b(bias)\n",
        "  total_hidden_states.append(list(output_t)) # 각 시점의 은닉 상태의 값을 계속해서 축적\n",
        "  print(np.shape(total_hidden_states)) # 각 시점 t별 메모리 셀의 출력의 크기는 (timestep, output_dim)\n",
        "  hidden_state_t = output_t\n",
        "\n",
        "total_hidden_states = np.stack(total_hidden_states, axis = 0) # 출력 시 값을 깔끔하게 해준다.\n",
        "\n",
        "print(total_hidden_states) # (timesteps, output_dim)의 크기. 이 경우 (10, 8)의 크기를 가지는 메모리 셀의 2D 텐서를 출력."
      ],
      "execution_count": null,
      "outputs": [
        {
          "output_type": "stream",
          "text": [
            "(1, 8)\n",
            "(2, 8)\n",
            "(3, 8)\n",
            "(4, 8)\n",
            "(5, 8)\n",
            "(6, 8)\n",
            "(7, 8)\n",
            "(8, 8)\n",
            "(9, 8)\n",
            "(10, 8)\n",
            "[[0.92088637 0.91407267 0.98785457 0.90509752 0.87453666 0.98159939\n",
            "  0.93840458 0.96932668]\n",
            " [0.99990051 0.99982603 0.99995097 0.99955125 0.99946116 0.99982349\n",
            "  0.99994184 0.99874924]\n",
            " [0.99997996 0.99994788 0.99999232 0.9998312  0.99986605 0.9999645\n",
            "  0.99999204 0.99976825]\n",
            " [0.99995724 0.99995968 0.99998719 0.99984819 0.99975049 0.9999632\n",
            "  0.99996493 0.99898496]\n",
            " [0.99996987 0.99996656 0.99998665 0.99989077 0.99974445 0.99991536\n",
            "  0.99994159 0.99895883]\n",
            " [0.99995549 0.99991268 0.99997734 0.9997287  0.99977409 0.99989861\n",
            "  0.9999748  0.99949272]\n",
            " [0.99997847 0.99998518 0.99999556 0.99992583 0.99987149 0.99998412\n",
            "  0.99997652 0.99940412]\n",
            " [0.99998149 0.99996659 0.99999209 0.99989951 0.99980861 0.99994764\n",
            "  0.99997786 0.99947078]\n",
            " [0.99988603 0.99988683 0.99996122 0.99959229 0.99962108 0.99993866\n",
            "  0.99995655 0.99862459]\n",
            " [0.99998176 0.99997673 0.99999245 0.9999039  0.99988815 0.99993013\n",
            "  0.99997177 0.99966862]]\n"
          ],
          "name": "stdout"
        }
      ]
    }
  ]
}