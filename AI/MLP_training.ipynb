{
  "nbformat": 4,
  "nbformat_minor": 0,
  "metadata": {
    "colab": {
      "name": "MLP_training.ipynb",
      "provenance": [],
      "collapsed_sections": [],
      "authorship_tag": "ABX9TyM5mx23CMm00VDgB01TyzJk",
      "include_colab_link": true
    },
    "kernelspec": {
      "name": "python3",
      "display_name": "Python 3"
    },
    "language_info": {
      "name": "python"
    }
  },
  "cells": [
    {
      "cell_type": "markdown",
      "metadata": {
        "id": "view-in-github",
        "colab_type": "text"
      },
      "source": [
        "<a href=\"https://colab.research.google.com/github/dr-song-summer-project/ChatBot_Preprocessing/blob/main/AI/MLP_training.ipynb\" target=\"_parent\"><img src=\"https://colab.research.google.com/assets/colab-badge.svg\" alt=\"Open In Colab\"/></a>"
      ]
    },
    {
      "cell_type": "markdown",
      "metadata": {
        "id": "W_lcp5Ji3X2T"
      },
      "source": [
        "MultiLayer Perceptron, MLP "
      ]
    },
    {
      "cell_type": "code",
      "metadata": {
        "colab": {
          "base_uri": "https://localhost:8080/"
        },
        "id": "DZnAyQ3E2LiR",
        "outputId": "84051431-0024-420f-88b1-846699adc4f4"
      },
      "source": [
        "import numpy as np\n",
        "from tensorflow.keras.preprocessing.text import Tokenizer\n",
        "\n",
        "texts = ['경구피임약을 휴약기없이 3번정도 바꿔서 복용했는데 자궁이나 신체에 문제가 일어나나요? 처음에 갈색냉에서 점점 피로 변하더니 양이 점점 많아지네요 부정출혈은 소량이라 들었는데 생리인가요? 부정출혈인가요? 아랫배도 통증이 있습니다',\n",
        "          '제가 경구피임약을 한달복용하다가 좀 더 미루고 싶어서 다른 종류의 약으로 바꿔서 복용중인데요 마치 생리할때처럼 아랫배도 아프고 출혈도 좀 있네요 괜찮은건가요? 처음에 갈색냉처럼 나오다가 점점 생리처럼 출혈로 나오네요 괜찮은가요?출혈도 생리나오듯이 나와요 생리를 하는건가요? 그렇다고치기엔 양이 적네요..',\n",
        "          '사후피임약을 먹고 부정출혈을 수요일부터 시작했는데 피의 양이 너무 많아서요ㅠㅠ 생리할 때 만큼 많이 나오는데 문제가 있는걸까요ㅠㅠ',\n",
        "          '센스리베 복용중인데 소화불량이 너무 심해요ㅠ 밥먹으면 메스껍고 속이 아파요.. 소화도 안되고 자꾸만 토가 나옵니다ㅠ 변비와 설사도 생기구요.. 피임약을 바꾸고싶은데 꼭 한팩을 다 먹고나서 교체해야하나요? 피임약만 먹으면 너무 아파서 먹기가 싫어져요.. ㅠㅠ',\n",
        "          '배란일 2일전에 관계를 질외사정으로 맺고 48시간 지나기 몇시간 전에 사후피임약 노레보를 한알 먹었어요 지금 5시간 정도 지났는데 두통이랑 피곤함이 있네요 임신 될수 있나요...ㅠㅠ',\n",
        "          '1월 17일에 관계를 맺고 1월 18일에 사후피임약을 처방 받아 먹고 생리주기가 앞당겨져 23~27일까지 생리를 했습니다 그리고 2월 3일에 사후피임약을 먹었습니다. 찾아보니 같은 주기에 먹으며 효과가 없다는데 생리를 했으니 같은 주기가 아닌가요?',\n",
        "          '오늘 생리 첫 날이라 경구피임약 시작하려는데 먹는 시간을 오후 2시쯤으로 하고 싶어서요 .. 첫 날 9시쯤에 먹고 그 다음날 부터 계속 같은 시간에 먹어도 될까요 ?',\n",
        "          '18일에 관계를 맺고 19일에 바로 19시간만에 사후피임약을 먹었는데 생리예정일은 불규칙하지만 대충 22~23일에 해야하는데요 지금 생리가 15일째 늦어지고 있는데.. 이렇게 늦어지고 그런가요,, 불안합니다 내공100이요',\n",
        "          '일주일전 관계중 콘돔이 찢어진걸 확인하고 한시간정도 후에 바로 사후피임약 복용하였습니다. 오늘 출혈이 있었는데 확실히 피임 된걸까요?.. 그리고 혹시 출혈이 있는중에 임신테스트기 사용해도 되나요??',\n",
        "          '31일 오전 10시 반쯤 사후피임약 복용을 했고 오늘 아침에 생리처럼 피가 나왔는데 원래 생리주기대로면 내일이 예정일이긴 하거든요 이거 부정출혈일까요 생리일까요?',\n",
        "          '경구피임약 복용하는법']\n",
        "\n",
        "t = Tokenizer()\n",
        "t.fit_on_texts(texts)\n",
        "print(t.word_index)\n",
        "#인덱스 1부터 시작하기때문에 0번째는 모두 0\n",
        "#단순 count\n",
        "# print(t.texts_to_matrix(texts, mode = 'count'))\n",
        "# #TF-IDF\n",
        "# print(t.texts_to_matrix(texts, mode = 'tfidf').round(2))\n",
        "#frequency\n",
        "print(t.texts_to_matrix(texts, mode = 'freq').round(2))"
      ],
      "execution_count": null,
      "outputs": [
        {
          "output_type": "stream",
          "text": [
            "{'사후피임약을': 1, '점점': 2, '양이': 3, '생리를': 4, '먹고': 5, '너무': 6, '관계를': 7, '맺고': 8, '사후피임약': 9, '같은': 10, '오늘': 11, '경구피임약을': 12, '바꿔서': 13, '문제가': 14, '처음에': 15, '아랫배도': 16, '좀': 17, '출혈도': 18, '있네요': 19, '생리처럼': 20, 'ㅠㅠ': 21, '지금': 22, '1월': 23, '18일에': 24, '그리고': 25, '첫': 26, '경구피임약': 27, '바로': 28, '늦어지고': 29, '출혈이': 30, '휴약기없이': 31, '3번정도': 32, '복용했는데': 33, '자궁이나': 34, '신체에': 35, '일어나나요': 36, '갈색냉에서': 37, '피로': 38, '변하더니': 39, '많아지네요': 40, '부정출혈은': 41, '소량이라': 42, '들었는데': 43, '생리인가요': 44, '부정출혈인가요': 45, '통증이': 46, '있습니다': 47, '제가': 48, '한달복용하다가': 49, '더': 50, '미루고': 51, '싶어서': 52, '다른': 53, '종류의': 54, '약으로': 55, '복용중인데요': 56, '마치': 57, '생리할때처럼': 58, '아프고': 59, '괜찮은건가요': 60, '갈색냉처럼': 61, '나오다가': 62, '출혈로': 63, '나오네요': 64, '괜찮은가요': 65, '생리나오듯이': 66, '나와요': 67, '하는건가요': 68, '그렇다고치기엔': 69, '적네요': 70, '부정출혈을': 71, '수요일부터': 72, '시작했는데': 73, '피의': 74, '많아서요ㅠㅠ': 75, '생리할': 76, '때': 77, '만큼': 78, '많이': 79, '나오는데': 80, '있는걸까요ㅠㅠ': 81, '센스리베': 82, '복용중인데': 83, '소화불량이': 84, '심해요ㅠ': 85, '밥먹으면': 86, '메스껍고': 87, '속이': 88, '아파요': 89, '소화도': 90, '안되고': 91, '자꾸만': 92, '토가': 93, '나옵니다ㅠ': 94, '변비와': 95, '설사도': 96, '생기구요': 97, '피임약을': 98, '바꾸고싶은데': 99, '꼭': 100, '한팩을': 101, '다': 102, '먹고나서': 103, '교체해야하나요': 104, '피임약만': 105, '먹으면': 106, '아파서': 107, '먹기가': 108, '싫어져요': 109, '배란일': 110, '2일전에': 111, '질외사정으로': 112, '48시간': 113, '지나기': 114, '몇시간': 115, '전에': 116, '노레보를': 117, '한알': 118, '먹었어요': 119, '5시간': 120, '정도': 121, '지났는데': 122, '두통이랑': 123, '피곤함이': 124, '임신': 125, '될수': 126, '있나요': 127, '17일에': 128, '처방': 129, '받아': 130, '생리주기가': 131, '앞당겨져': 132, '23': 133, '27일까지': 134, '했습니다': 135, '2월': 136, '3일에': 137, '먹었습니다': 138, '찾아보니': 139, '주기에': 140, '먹으며': 141, '효과가': 142, '없다는데': 143, '했으니': 144, '주기가': 145, '아닌가요': 146, '생리': 147, '날이라': 148, '시작하려는데': 149, '먹는': 150, '시간을': 151, '오후': 152, '2시쯤으로': 153, '하고': 154, '싶어서요': 155, '날': 156, '9시쯤에': 157, '그': 158, '다음날': 159, '부터': 160, '계속': 161, '시간에': 162, '먹어도': 163, '될까요': 164, '19일에': 165, '19시간만에': 166, '먹었는데': 167, '생리예정일은': 168, '불규칙하지만': 169, '대충': 170, '22': 171, '23일에': 172, '해야하는데요': 173, '생리가': 174, '15일째': 175, '있는데': 176, '이렇게': 177, '그런가요': 178, '불안합니다': 179, '내공100이요': 180, '일주일전': 181, '관계중': 182, '콘돔이': 183, '찢어진걸': 184, '확인하고': 185, '한시간정도': 186, '후에': 187, '복용하였습니다': 188, '있었는데': 189, '확실히': 190, '피임': 191, '된걸까요': 192, '혹시': 193, '있는중에': 194, '임신테스트기': 195, '사용해도': 196, '되나요': 197, '31일': 198, '오전': 199, '10시': 200, '반쯤': 201, '복용을': 202, '했고': 203, '아침에': 204, '피가': 205, '나왔는데': 206, '원래': 207, '생리주기대로면': 208, '내일이': 209, '예정일이긴': 210, '하거든요': 211, '이거': 212, '부정출혈일까요': 213, '생리일까요': 214, '복용하는법': 215}\n",
            "[[0.   0.   0.08 ... 0.   0.   0.  ]\n",
            " [0.   0.   0.03 ... 0.   0.   0.  ]\n",
            " [0.   0.06 0.   ... 0.   0.   0.  ]\n",
            " ...\n",
            " [0.   0.   0.   ... 0.   0.   0.  ]\n",
            " [0.   0.   0.   ... 0.05 0.05 0.  ]\n",
            " [0.   0.   0.   ... 0.   0.   0.5 ]]\n"
          ],
          "name": "stdout"
        }
      ]
    },
    {
      "cell_type": "markdown",
      "metadata": {
        "id": "clkZDwKC4uDb"
      },
      "source": [
        "# 뉴스 그룹 예시 (그룹 20개) \n",
        "텍스트 본문을 보고 주제 맞추기"
      ]
    },
    {
      "cell_type": "markdown",
      "metadata": {
        "id": "p6B69_da8aZB"
      },
      "source": [
        "데이터 학습 & 테스트"
      ]
    },
    {
      "cell_type": "code",
      "metadata": {
        "colab": {
          "base_uri": "https://localhost:8080/"
        },
        "id": "vLKqW2844xoi",
        "outputId": "37c2545a-37f2-495e-ad03-a1446355d13e"
      },
      "source": [
        "import pandas as pd\n",
        "from sklearn.datasets import fetch_20newsgroups\n",
        "%matplotlib inline\n",
        "import matplotlib.pyplot as plt\n",
        "from tensorflow.keras.preprocessing.text import Tokenizer\n",
        "from tensorflow.keras.utils import to_categorical\n",
        "\n",
        "#=======훈련 데이터 return \n",
        "newsdata = fetch_20newsgroups(subset = 'train')\n",
        "\n",
        "# print(newsdata.keys()) #6개 속성\n",
        "# print('훈련용 샘플의 개수 : {}'.format(len(newsdata.data)))\n",
        "# print('총 주제의 개수 : {}'.format(len(newsdata.target_names)))\n",
        "# print(newsdata.target_names)\n",
        "\n",
        "# print('첫번째 샘플의 레이블 : {}'.format(newsdata.target[0]))\n",
        "# print('7번 레이블이 의미하는 주제 : {}'.format(newsdata.target_names[7]))\n",
        "# print('첫번째 샘플의 본문\\n',newsdata.data[0]) # 첫번째 샘플 출력\n",
        "\n",
        "#=======훈련에 사용될 메일 본문인 data와 레이블인 target을 데이터프레임으로 만들기\n",
        "data = pd.DataFrame(newsdata.data, columns = ['email']) # data로부터 데이터프레임 생성\n",
        "data['target'] = pd.Series(newsdata.target) # target 열 추가\n",
        "data[:5] # 상위 5개 행을 출력\n",
        "# data.info()\n",
        "data.isnull().values.any()  #null값을 가진 샘플이 있는지 확인\n",
        "\n",
        "print('중복을 제외한 샘플의 수 : {}'.format(data['email'].nunique()))\n",
        "print('중복을 제외한 주제의 수 : {}'.format(data['target'].nunique()))\n",
        "# print(data.groupby('target').size().reset_index(name='count'))\n",
        "# data['target'].value_counts().plot(kind='bar');  #표 형태로 출력\n",
        "\n",
        "newsdata_test = fetch_20newsgroups(subset='test', shuffle=True) # 'test'를 기재하면 테스트 데이터만 리턴한다.\n",
        "train_email = data['email'] # 훈련 데이터의 본문 저장\n",
        "train_label = data['target'] # 훈련 데이터의 레이블 저장\n",
        "test_email = newsdata_test.data # 테스트 데이터의 본문 저장\n",
        "test_label = newsdata_test.target # 테스트 데이터의 레이블 저장\n",
        "\n",
        "\n",
        "#======전처리\n",
        "max_words = 10000 # 실습에 사용할 단어의 최대 개수\n",
        "num_classes = 20 # 레이블의 수\n",
        "\n",
        "def prepare_data(train_data, test_data, mode): # 전처리 함수\n",
        "    t = Tokenizer(num_words = max_words) # max_words 개수만큼의 단어만 사용한다.\n",
        "    t.fit_on_texts(train_data)\n",
        "    X_train = t.texts_to_matrix(train_data, mode=mode) # 샘플 수 × max_words 크기의 행렬 생성\n",
        "    X_test = t.texts_to_matrix(test_data, mode=mode) # 샘플 수 × max_words 크기의 행렬 생성\n",
        "    return X_train, X_test, t.index_word\n",
        "\n",
        "X_train, X_test, index_to_word = prepare_data(train_email, test_email, 'freq') # binary 모드로 변환\n",
        "y_train = to_categorical(train_label, num_classes) # 원-핫 인코딩\n",
        "y_test = to_categorical(test_label, num_classes) # 원-핫 인코딩.\n",
        "\n",
        "print('훈련 샘플 본문의 크기 : {}'.format(X_train.shape))  #샘플의 수 x .shape 행렬(max words)\n",
        "print('훈련 샘플 레이블의 크기 : {}'.format(y_train.shape)) \n",
        "print('테스트 샘플 본문의 크기 : {}'.format(X_test.shape))\n",
        "print('테스트 샘플 레이블의 크기 : {}'.format(y_test.shape))\n",
        "\n",
        "print('빈도수 상위 1번 단어 : {}'.format(index_to_word[1]))\n",
        "print('빈도수 상위 9999번 단어 : {}'.format(index_to_word[9999]))"
      ],
      "execution_count": null,
      "outputs": [
        {
          "output_type": "stream",
          "text": [
            "중복을 제외한 샘플의 수 : 11314\n",
            "중복을 제외한 주제의 수 : 20\n",
            "훈련 샘플 본문의 크기 : (11314, 10000)\n",
            "훈련 샘플 레이블의 크기 : (11314, 20)\n",
            "테스트 샘플 본문의 크기 : (7532, 10000)\n",
            "테스트 샘플 레이블의 크기 : (7532, 20)\n",
            "빈도수 상위 1번 단어 : the\n",
            "빈도수 상위 9999번 단어 : mic\n"
          ],
          "name": "stdout"
        }
      ]
    },
    {
      "cell_type": "markdown",
      "metadata": {
        "id": "vvF6yKcU8eNR"
      },
      "source": [
        "모델 설계"
      ]
    },
    {
      "cell_type": "code",
      "metadata": {
        "colab": {
          "base_uri": "https://localhost:8080/"
        },
        "id": "rv7BA_gz8gGh",
        "outputId": "ee5d9266-8b4f-4eed-fe85-e904fad2d0b5"
      },
      "source": [
        "from tensorflow.keras.models import Sequential\n",
        "from tensorflow.keras.layers import Dense, Dropout\n",
        "\n",
        "#======다층 퍼셉트론 설계\n",
        "def fit_and_evaluate(X_train, y_train, X_test, y_test):\n",
        "    model = Sequential()\n",
        "    model.add(Dense(256, input_shape=(max_words,), activation='relu'))\n",
        "    model.add(Dropout(0.5))\n",
        "    model.add(Dense(128, activation='relu'))\n",
        "    model.add(Dropout(0.5))\n",
        "    model.add(Dense(num_classes, activation='softmax'))\n",
        "\n",
        "    model.compile(loss='categorical_crossentropy', optimizer='adam', metrics=['accuracy'])\n",
        "    model.fit(X_train, y_train, batch_size=128, epochs=5, verbose=1, validation_split=0.1)\n",
        "    score = model.evaluate(X_test, y_test, batch_size=128, verbose=0)\n",
        "    return score[1]\n",
        "\n",
        "modes = ['binary', 'count', 'tfidf', 'freq'] # 4개의 모드를 리스트에 저장.\n",
        "\n",
        "for mode in modes: # 4개의 모드에 대해서 각각 아래의 작업을 반복한다.\n",
        "    X_train, X_test, _ = prepare_data(train_email, test_email, mode) # 모드에 따라서 데이터를 전처리\n",
        "    score = fit_and_evaluate(X_train, y_train, X_test, y_test) # 모델을 훈련하고 평가.\n",
        "    print(mode+' 모드의 테스트 정확도:', score)\n",
        "\n"
      ],
      "execution_count": null,
      "outputs": [
        {
          "output_type": "stream",
          "text": [
            "Epoch 1/5\n",
            "80/80 [==============================] - 4s 45ms/step - loss: 2.2879 - accuracy: 0.3453 - val_loss: 0.9510 - val_accuracy: 0.8339\n",
            "Epoch 2/5\n",
            "80/80 [==============================] - 4s 44ms/step - loss: 0.8626 - accuracy: 0.7715 - val_loss: 0.4446 - val_accuracy: 0.8878\n",
            "Epoch 3/5\n",
            "80/80 [==============================] - 4s 45ms/step - loss: 0.4243 - accuracy: 0.8889 - val_loss: 0.3357 - val_accuracy: 0.9019\n",
            "Epoch 4/5\n",
            "80/80 [==============================] - 3s 43ms/step - loss: 0.2505 - accuracy: 0.9377 - val_loss: 0.2975 - val_accuracy: 0.9161\n",
            "Epoch 5/5\n",
            "80/80 [==============================] - 4s 44ms/step - loss: 0.1587 - accuracy: 0.9622 - val_loss: 0.2986 - val_accuracy: 0.9090\n",
            "binary 모드의 테스트 정확도: 0.8308550119400024\n",
            "Epoch 1/5\n",
            "80/80 [==============================] - 4s 47ms/step - loss: 2.7072 - accuracy: 0.2566 - val_loss: 1.5737 - val_accuracy: 0.7429\n",
            "Epoch 2/5\n",
            "80/80 [==============================] - 5s 57ms/step - loss: 1.4222 - accuracy: 0.6231 - val_loss: 0.6812 - val_accuracy: 0.8507\n",
            "Epoch 3/5\n",
            "80/80 [==============================] - 5s 56ms/step - loss: 0.8011 - accuracy: 0.8004 - val_loss: 0.5117 - val_accuracy: 0.8825\n",
            "Epoch 4/5\n",
            "80/80 [==============================] - 4s 56ms/step - loss: 0.5041 - accuracy: 0.8725 - val_loss: 0.4567 - val_accuracy: 0.8843\n",
            "Epoch 5/5\n",
            "80/80 [==============================] - 5s 57ms/step - loss: 0.3534 - accuracy: 0.9114 - val_loss: 0.4080 - val_accuracy: 0.9019\n",
            "count 모드의 테스트 정확도: 0.8218268752098083\n",
            "Epoch 1/5\n",
            "80/80 [==============================] - 4s 50ms/step - loss: 2.2521 - accuracy: 0.3541 - val_loss: 0.7882 - val_accuracy: 0.8534\n",
            "Epoch 2/5\n",
            "80/80 [==============================] - 4s 47ms/step - loss: 0.8369 - accuracy: 0.7687 - val_loss: 0.4192 - val_accuracy: 0.8887\n",
            "Epoch 3/5\n",
            "80/80 [==============================] - 4s 46ms/step - loss: 0.4609 - accuracy: 0.8836 - val_loss: 0.3509 - val_accuracy: 0.9072\n",
            "Epoch 4/5\n",
            "80/80 [==============================] - 4s 47ms/step - loss: 0.2734 - accuracy: 0.9296 - val_loss: 0.3036 - val_accuracy: 0.9125\n",
            "Epoch 5/5\n",
            "80/80 [==============================] - 4s 46ms/step - loss: 0.1958 - accuracy: 0.9518 - val_loss: 0.3064 - val_accuracy: 0.9205\n",
            "tfidf 모드의 테스트 정확도: 0.8329792618751526\n",
            "Epoch 1/5\n",
            "80/80 [==============================] - 4s 50ms/step - loss: 2.9731 - accuracy: 0.0966 - val_loss: 2.9061 - val_accuracy: 0.2703\n",
            "Epoch 2/5\n",
            "80/80 [==============================] - 4s 46ms/step - loss: 2.6806 - accuracy: 0.2060 - val_loss: 2.3650 - val_accuracy: 0.3905\n",
            "Epoch 3/5\n",
            "80/80 [==============================] - 4s 46ms/step - loss: 2.1844 - accuracy: 0.3048 - val_loss: 1.9228 - val_accuracy: 0.5168\n",
            "Epoch 4/5\n",
            "80/80 [==============================] - 4s 46ms/step - loss: 1.7829 - accuracy: 0.4385 - val_loss: 1.5399 - val_accuracy: 0.6272\n",
            "Epoch 5/5\n",
            "80/80 [==============================] - 4s 46ms/step - loss: 1.4471 - accuracy: 0.5552 - val_loss: 1.2223 - val_accuracy: 0.7191\n",
            "freq 모드의 테스트 정확도: 0.6715347766876221\n"
          ],
          "name": "stdout"
        }
      ]
    }
  ]
}