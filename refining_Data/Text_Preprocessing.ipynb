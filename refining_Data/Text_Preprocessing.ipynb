{
  "nbformat": 4,
  "nbformat_minor": 0,
  "metadata": {
    "colab": {
      "name": "TextPreprocessing.ipynb",
      "provenance": [],
      "collapsed_sections": [],
      "authorship_tag": "ABX9TyMyrER71VqdYhDNiLsTclmt",
      "include_colab_link": true
    },
    "kernelspec": {
      "name": "python3",
      "display_name": "Python 3"
    },
    "language_info": {
      "name": "python"
    },
    "widgets": {
      "application/vnd.jupyter.widget-state+json": {
        "d0a613a24c284ad6bc81b1867f2b1538": {
          "model_module": "@jupyter-widgets/controls",
          "model_name": "HBoxModel",
          "state": {
            "_view_name": "HBoxView",
            "_dom_classes": [],
            "_model_name": "HBoxModel",
            "_view_module": "@jupyter-widgets/controls",
            "_model_module_version": "1.5.0",
            "_view_count": null,
            "_view_module_version": "1.5.0",
            "box_style": "",
            "layout": "IPY_MODEL_b059f39986254170b232b5589bbef6f2",
            "_model_module": "@jupyter-widgets/controls",
            "children": [
              "IPY_MODEL_72aac72889aa45df8e83c6e8e30c7a1a",
              "IPY_MODEL_e330e544f2fc49e9a7dae03c107e0197"
            ]
          }
        },
        "b059f39986254170b232b5589bbef6f2": {
          "model_module": "@jupyter-widgets/base",
          "model_name": "LayoutModel",
          "state": {
            "_view_name": "LayoutView",
            "grid_template_rows": null,
            "right": null,
            "justify_content": null,
            "_view_module": "@jupyter-widgets/base",
            "overflow": null,
            "_model_module_version": "1.2.0",
            "_view_count": null,
            "flex_flow": null,
            "width": null,
            "min_width": null,
            "border": null,
            "align_items": null,
            "bottom": null,
            "_model_module": "@jupyter-widgets/base",
            "top": null,
            "grid_column": null,
            "overflow_y": null,
            "overflow_x": null,
            "grid_auto_flow": null,
            "grid_area": null,
            "grid_template_columns": null,
            "flex": null,
            "_model_name": "LayoutModel",
            "justify_items": null,
            "grid_row": null,
            "max_height": null,
            "align_content": null,
            "visibility": null,
            "align_self": null,
            "height": null,
            "min_height": null,
            "padding": null,
            "grid_auto_rows": null,
            "grid_gap": null,
            "max_width": null,
            "order": null,
            "_view_module_version": "1.2.0",
            "grid_template_areas": null,
            "object_position": null,
            "object_fit": null,
            "grid_auto_columns": null,
            "margin": null,
            "display": null,
            "left": null
          }
        },
        "72aac72889aa45df8e83c6e8e30c7a1a": {
          "model_module": "@jupyter-widgets/controls",
          "model_name": "FloatProgressModel",
          "state": {
            "_view_name": "ProgressView",
            "style": "IPY_MODEL_47ba6442a1374fca9aebfa87ba4f7074",
            "_dom_classes": [],
            "description": "100%",
            "_model_name": "FloatProgressModel",
            "bar_style": "success",
            "max": 4,
            "_view_module": "@jupyter-widgets/controls",
            "_model_module_version": "1.5.0",
            "value": 4,
            "_view_count": null,
            "_view_module_version": "1.5.0",
            "orientation": "horizontal",
            "min": 0,
            "description_tooltip": null,
            "_model_module": "@jupyter-widgets/controls",
            "layout": "IPY_MODEL_b6af160e70a4433dbda3c775d4a84ace"
          }
        },
        "e330e544f2fc49e9a7dae03c107e0197": {
          "model_module": "@jupyter-widgets/controls",
          "model_name": "HTMLModel",
          "state": {
            "_view_name": "HTMLView",
            "style": "IPY_MODEL_ca88bace726241d5b8ca1d080e719821",
            "_dom_classes": [],
            "description": "",
            "_model_name": "HTMLModel",
            "placeholder": "​",
            "_view_module": "@jupyter-widgets/controls",
            "_model_module_version": "1.5.0",
            "value": " 4/4 [00:01&lt;00:00,  2.27it/s]",
            "_view_count": null,
            "_view_module_version": "1.5.0",
            "description_tooltip": null,
            "_model_module": "@jupyter-widgets/controls",
            "layout": "IPY_MODEL_2db8bbd760774bf7a88e86eb2a582125"
          }
        },
        "47ba6442a1374fca9aebfa87ba4f7074": {
          "model_module": "@jupyter-widgets/controls",
          "model_name": "ProgressStyleModel",
          "state": {
            "_view_name": "StyleView",
            "_model_name": "ProgressStyleModel",
            "description_width": "initial",
            "_view_module": "@jupyter-widgets/base",
            "_model_module_version": "1.5.0",
            "_view_count": null,
            "_view_module_version": "1.2.0",
            "bar_color": null,
            "_model_module": "@jupyter-widgets/controls"
          }
        },
        "b6af160e70a4433dbda3c775d4a84ace": {
          "model_module": "@jupyter-widgets/base",
          "model_name": "LayoutModel",
          "state": {
            "_view_name": "LayoutView",
            "grid_template_rows": null,
            "right": null,
            "justify_content": null,
            "_view_module": "@jupyter-widgets/base",
            "overflow": null,
            "_model_module_version": "1.2.0",
            "_view_count": null,
            "flex_flow": null,
            "width": null,
            "min_width": null,
            "border": null,
            "align_items": null,
            "bottom": null,
            "_model_module": "@jupyter-widgets/base",
            "top": null,
            "grid_column": null,
            "overflow_y": null,
            "overflow_x": null,
            "grid_auto_flow": null,
            "grid_area": null,
            "grid_template_columns": null,
            "flex": null,
            "_model_name": "LayoutModel",
            "justify_items": null,
            "grid_row": null,
            "max_height": null,
            "align_content": null,
            "visibility": null,
            "align_self": null,
            "height": null,
            "min_height": null,
            "padding": null,
            "grid_auto_rows": null,
            "grid_gap": null,
            "max_width": null,
            "order": null,
            "_view_module_version": "1.2.0",
            "grid_template_areas": null,
            "object_position": null,
            "object_fit": null,
            "grid_auto_columns": null,
            "margin": null,
            "display": null,
            "left": null
          }
        },
        "ca88bace726241d5b8ca1d080e719821": {
          "model_module": "@jupyter-widgets/controls",
          "model_name": "DescriptionStyleModel",
          "state": {
            "_view_name": "StyleView",
            "_model_name": "DescriptionStyleModel",
            "description_width": "",
            "_view_module": "@jupyter-widgets/base",
            "_model_module_version": "1.5.0",
            "_view_count": null,
            "_view_module_version": "1.2.0",
            "_model_module": "@jupyter-widgets/controls"
          }
        },
        "2db8bbd760774bf7a88e86eb2a582125": {
          "model_module": "@jupyter-widgets/base",
          "model_name": "LayoutModel",
          "state": {
            "_view_name": "LayoutView",
            "grid_template_rows": null,
            "right": null,
            "justify_content": null,
            "_view_module": "@jupyter-widgets/base",
            "overflow": null,
            "_model_module_version": "1.2.0",
            "_view_count": null,
            "flex_flow": null,
            "width": null,
            "min_width": null,
            "border": null,
            "align_items": null,
            "bottom": null,
            "_model_module": "@jupyter-widgets/base",
            "top": null,
            "grid_column": null,
            "overflow_y": null,
            "overflow_x": null,
            "grid_auto_flow": null,
            "grid_area": null,
            "grid_template_columns": null,
            "flex": null,
            "_model_name": "LayoutModel",
            "justify_items": null,
            "grid_row": null,
            "max_height": null,
            "align_content": null,
            "visibility": null,
            "align_self": null,
            "height": null,
            "min_height": null,
            "padding": null,
            "grid_auto_rows": null,
            "grid_gap": null,
            "max_width": null,
            "order": null,
            "_view_module_version": "1.2.0",
            "grid_template_areas": null,
            "object_position": null,
            "object_fit": null,
            "grid_auto_columns": null,
            "margin": null,
            "display": null,
            "left": null
          }
        },
        "a1facb798fcf4a52b035682633d0392e": {
          "model_module": "@jupyter-widgets/controls",
          "model_name": "HBoxModel",
          "state": {
            "_view_name": "HBoxView",
            "_dom_classes": [],
            "_model_name": "HBoxModel",
            "_view_module": "@jupyter-widgets/controls",
            "_model_module_version": "1.5.0",
            "_view_count": null,
            "_view_module_version": "1.5.0",
            "box_style": "",
            "layout": "IPY_MODEL_08e1038ac034468d999901a90696410b",
            "_model_module": "@jupyter-widgets/controls",
            "children": [
              "IPY_MODEL_5b10b465516f48b1b94dacd50822a96b",
              "IPY_MODEL_e473232da3164c519f304cf9d19c1d57"
            ]
          }
        },
        "08e1038ac034468d999901a90696410b": {
          "model_module": "@jupyter-widgets/base",
          "model_name": "LayoutModel",
          "state": {
            "_view_name": "LayoutView",
            "grid_template_rows": null,
            "right": null,
            "justify_content": null,
            "_view_module": "@jupyter-widgets/base",
            "overflow": null,
            "_model_module_version": "1.2.0",
            "_view_count": null,
            "flex_flow": null,
            "width": null,
            "min_width": null,
            "border": null,
            "align_items": null,
            "bottom": null,
            "_model_module": "@jupyter-widgets/base",
            "top": null,
            "grid_column": null,
            "overflow_y": null,
            "overflow_x": null,
            "grid_auto_flow": null,
            "grid_area": null,
            "grid_template_columns": null,
            "flex": null,
            "_model_name": "LayoutModel",
            "justify_items": null,
            "grid_row": null,
            "max_height": null,
            "align_content": null,
            "visibility": null,
            "align_self": null,
            "height": null,
            "min_height": null,
            "padding": null,
            "grid_auto_rows": null,
            "grid_gap": null,
            "max_width": null,
            "order": null,
            "_view_module_version": "1.2.0",
            "grid_template_areas": null,
            "object_position": null,
            "object_fit": null,
            "grid_auto_columns": null,
            "margin": null,
            "display": null,
            "left": null
          }
        },
        "5b10b465516f48b1b94dacd50822a96b": {
          "model_module": "@jupyter-widgets/controls",
          "model_name": "FloatProgressModel",
          "state": {
            "_view_name": "ProgressView",
            "style": "IPY_MODEL_efef5099ef024533a1ad81dbe1e0ff60",
            "_dom_classes": [],
            "description": "",
            "_model_name": "FloatProgressModel",
            "bar_style": "success",
            "max": 1,
            "_view_module": "@jupyter-widgets/controls",
            "_model_module_version": "1.5.0",
            "value": 1,
            "_view_count": null,
            "_view_module_version": "1.5.0",
            "orientation": "horizontal",
            "min": 0,
            "description_tooltip": null,
            "_model_module": "@jupyter-widgets/controls",
            "layout": "IPY_MODEL_a76447f5ef3345d4a6f87e11a919f394"
          }
        },
        "e473232da3164c519f304cf9d19c1d57": {
          "model_module": "@jupyter-widgets/controls",
          "model_name": "HTMLModel",
          "state": {
            "_view_name": "HTMLView",
            "style": "IPY_MODEL_7c9482d1da1743a9a7ce35e0a5e814eb",
            "_dom_classes": [],
            "description": "",
            "_model_name": "HTMLModel",
            "placeholder": "​",
            "_view_module": "@jupyter-widgets/controls",
            "_model_module_version": "1.5.0",
            "value": " 4/? [00:00&lt;00:00, 65.90it/s]",
            "_view_count": null,
            "_view_module_version": "1.5.0",
            "description_tooltip": null,
            "_model_module": "@jupyter-widgets/controls",
            "layout": "IPY_MODEL_aadf946d07a64c4d92f54a6f98d7ea26"
          }
        },
        "efef5099ef024533a1ad81dbe1e0ff60": {
          "model_module": "@jupyter-widgets/controls",
          "model_name": "ProgressStyleModel",
          "state": {
            "_view_name": "StyleView",
            "_model_name": "ProgressStyleModel",
            "description_width": "initial",
            "_view_module": "@jupyter-widgets/base",
            "_model_module_version": "1.5.0",
            "_view_count": null,
            "_view_module_version": "1.2.0",
            "bar_color": null,
            "_model_module": "@jupyter-widgets/controls"
          }
        },
        "a76447f5ef3345d4a6f87e11a919f394": {
          "model_module": "@jupyter-widgets/base",
          "model_name": "LayoutModel",
          "state": {
            "_view_name": "LayoutView",
            "grid_template_rows": null,
            "right": null,
            "justify_content": null,
            "_view_module": "@jupyter-widgets/base",
            "overflow": null,
            "_model_module_version": "1.2.0",
            "_view_count": null,
            "flex_flow": null,
            "width": null,
            "min_width": null,
            "border": null,
            "align_items": null,
            "bottom": null,
            "_model_module": "@jupyter-widgets/base",
            "top": null,
            "grid_column": null,
            "overflow_y": null,
            "overflow_x": null,
            "grid_auto_flow": null,
            "grid_area": null,
            "grid_template_columns": null,
            "flex": null,
            "_model_name": "LayoutModel",
            "justify_items": null,
            "grid_row": null,
            "max_height": null,
            "align_content": null,
            "visibility": null,
            "align_self": null,
            "height": null,
            "min_height": null,
            "padding": null,
            "grid_auto_rows": null,
            "grid_gap": null,
            "max_width": null,
            "order": null,
            "_view_module_version": "1.2.0",
            "grid_template_areas": null,
            "object_position": null,
            "object_fit": null,
            "grid_auto_columns": null,
            "margin": null,
            "display": null,
            "left": null
          }
        },
        "7c9482d1da1743a9a7ce35e0a5e814eb": {
          "model_module": "@jupyter-widgets/controls",
          "model_name": "DescriptionStyleModel",
          "state": {
            "_view_name": "StyleView",
            "_model_name": "DescriptionStyleModel",
            "description_width": "",
            "_view_module": "@jupyter-widgets/base",
            "_model_module_version": "1.5.0",
            "_view_count": null,
            "_view_module_version": "1.2.0",
            "_model_module": "@jupyter-widgets/controls"
          }
        },
        "aadf946d07a64c4d92f54a6f98d7ea26": {
          "model_module": "@jupyter-widgets/base",
          "model_name": "LayoutModel",
          "state": {
            "_view_name": "LayoutView",
            "grid_template_rows": null,
            "right": null,
            "justify_content": null,
            "_view_module": "@jupyter-widgets/base",
            "overflow": null,
            "_model_module_version": "1.2.0",
            "_view_count": null,
            "flex_flow": null,
            "width": null,
            "min_width": null,
            "border": null,
            "align_items": null,
            "bottom": null,
            "_model_module": "@jupyter-widgets/base",
            "top": null,
            "grid_column": null,
            "overflow_y": null,
            "overflow_x": null,
            "grid_auto_flow": null,
            "grid_area": null,
            "grid_template_columns": null,
            "flex": null,
            "_model_name": "LayoutModel",
            "justify_items": null,
            "grid_row": null,
            "max_height": null,
            "align_content": null,
            "visibility": null,
            "align_self": null,
            "height": null,
            "min_height": null,
            "padding": null,
            "grid_auto_rows": null,
            "grid_gap": null,
            "max_width": null,
            "order": null,
            "_view_module_version": "1.2.0",
            "grid_template_areas": null,
            "object_position": null,
            "object_fit": null,
            "grid_auto_columns": null,
            "margin": null,
            "display": null,
            "left": null
          }
        }
      }
    }
  },
  "cells": [
    {
      "cell_type": "markdown",
      "metadata": {
        "id": "view-in-github",
        "colab_type": "text"
      },
      "source": [
        "<a href=\"https://colab.research.google.com/github/dr-song-summer-project/ChatBot_Preprocessing/blob/main/refining_Data/Text_Preprocessing.ipynb\" target=\"_parent\"><img src=\"https://colab.research.google.com/assets/colab-badge.svg\" alt=\"Open In Colab\"/></a>"
      ]
    },
    {
      "cell_type": "code",
      "metadata": {
        "colab": {
          "base_uri": "https://localhost:8080/"
        },
        "id": "r38VCHGcjjgR",
        "outputId": "3ddd7094-05f7-4dd0-9480-e60ab3d30912"
      },
      "source": [
        "import nltk\n",
        "nltk.download('punkt')\n",
        "# from nltk.tokenize import word_tokenize  \n",
        "# print(word_tokenize(\"Don't be fooled by the dark sounding name, Mr. Jone's Orphanage is as cheery as cheery goes for a pastry shop.\"))  "
      ],
      "execution_count": null,
      "outputs": [
        {
          "output_type": "stream",
          "text": [
            "[nltk_data] Downloading package punkt to /root/nltk_data...\n",
            "[nltk_data]   Unzipping tokenizers/punkt.zip.\n"
          ],
          "name": "stdout"
        },
        {
          "output_type": "execute_result",
          "data": {
            "text/plain": [
              "True"
            ]
          },
          "metadata": {
            "tags": []
          },
          "execution_count": 4
        }
      ]
    },
    {
      "cell_type": "code",
      "metadata": {
        "id": "CA1bYicav_96",
        "colab": {
          "base_uri": "https://localhost:8080/",
          "height": 1000
        },
        "outputId": "83897a7a-d2c6-4058-9d6a-9d2568576d4a"
      },
      "source": [
        "!pip install git+https://github.com/haven-jeon/PyKoSpacing.git   #띄어쓰기\n",
        "!pip install git+https://github.com/ssut/py-hanspell.git          #맞춤법\n",
        "!pip install soynlp                  #반복 제거\n",
        "!pip install kss                     #문장 구분"
      ],
      "execution_count": null,
      "outputs": [
        {
          "output_type": "stream",
          "text": [
            "Collecting git+https://github.com/haven-jeon/PyKoSpacing.git\n",
            "  Cloning https://github.com/haven-jeon/PyKoSpacing.git to /tmp/pip-req-build-ffr1z904\n",
            "  Running command git clone -q https://github.com/haven-jeon/PyKoSpacing.git /tmp/pip-req-build-ffr1z904\n",
            "Requirement already satisfied: tensorflow==2.5.0 in /usr/local/lib/python3.7/dist-packages (from pykospacing==0.5) (2.5.0)\n",
            "Requirement already satisfied: h5py==3.1.0 in /usr/local/lib/python3.7/dist-packages (from pykospacing==0.5) (3.1.0)\n",
            "Collecting argparse>=1.4.0\n",
            "  Downloading https://files.pythonhosted.org/packages/f2/94/3af39d34be01a24a6e65433d19e107099374224905f1e0cc6bbe1fd22a2f/argparse-1.4.0-py2.py3-none-any.whl\n",
            "Requirement already satisfied: gast==0.4.0 in /usr/local/lib/python3.7/dist-packages (from tensorflow==2.5.0->pykospacing==0.5) (0.4.0)\n",
            "Requirement already satisfied: wrapt~=1.12.1 in /usr/local/lib/python3.7/dist-packages (from tensorflow==2.5.0->pykospacing==0.5) (1.12.1)\n",
            "Requirement already satisfied: protobuf>=3.9.2 in /usr/local/lib/python3.7/dist-packages (from tensorflow==2.5.0->pykospacing==0.5) (3.12.4)\n",
            "Requirement already satisfied: wheel~=0.35 in /usr/local/lib/python3.7/dist-packages (from tensorflow==2.5.0->pykospacing==0.5) (0.36.2)\n",
            "Requirement already satisfied: tensorflow-estimator<2.6.0,>=2.5.0rc0 in /usr/local/lib/python3.7/dist-packages (from tensorflow==2.5.0->pykospacing==0.5) (2.5.0)\n",
            "Requirement already satisfied: tensorboard~=2.5 in /usr/local/lib/python3.7/dist-packages (from tensorflow==2.5.0->pykospacing==0.5) (2.5.0)\n",
            "Requirement already satisfied: termcolor~=1.1.0 in /usr/local/lib/python3.7/dist-packages (from tensorflow==2.5.0->pykospacing==0.5) (1.1.0)\n",
            "Requirement already satisfied: keras-nightly~=2.5.0.dev in /usr/local/lib/python3.7/dist-packages (from tensorflow==2.5.0->pykospacing==0.5) (2.5.0.dev2021032900)\n",
            "Requirement already satisfied: opt-einsum~=3.3.0 in /usr/local/lib/python3.7/dist-packages (from tensorflow==2.5.0->pykospacing==0.5) (3.3.0)\n",
            "Requirement already satisfied: absl-py~=0.10 in /usr/local/lib/python3.7/dist-packages (from tensorflow==2.5.0->pykospacing==0.5) (0.12.0)\n",
            "Requirement already satisfied: astunparse~=1.6.3 in /usr/local/lib/python3.7/dist-packages (from tensorflow==2.5.0->pykospacing==0.5) (1.6.3)\n",
            "Requirement already satisfied: google-pasta~=0.2 in /usr/local/lib/python3.7/dist-packages (from tensorflow==2.5.0->pykospacing==0.5) (0.2.0)\n",
            "Requirement already satisfied: flatbuffers~=1.12.0 in /usr/local/lib/python3.7/dist-packages (from tensorflow==2.5.0->pykospacing==0.5) (1.12)\n",
            "Requirement already satisfied: grpcio~=1.34.0 in /usr/local/lib/python3.7/dist-packages (from tensorflow==2.5.0->pykospacing==0.5) (1.34.1)\n",
            "Requirement already satisfied: keras-preprocessing~=1.1.2 in /usr/local/lib/python3.7/dist-packages (from tensorflow==2.5.0->pykospacing==0.5) (1.1.2)\n",
            "Requirement already satisfied: numpy~=1.19.2 in /usr/local/lib/python3.7/dist-packages (from tensorflow==2.5.0->pykospacing==0.5) (1.19.5)\n",
            "Requirement already satisfied: six~=1.15.0 in /usr/local/lib/python3.7/dist-packages (from tensorflow==2.5.0->pykospacing==0.5) (1.15.0)\n",
            "Requirement already satisfied: typing-extensions~=3.7.4 in /usr/local/lib/python3.7/dist-packages (from tensorflow==2.5.0->pykospacing==0.5) (3.7.4.3)\n",
            "Requirement already satisfied: cached-property; python_version < \"3.8\" in /usr/local/lib/python3.7/dist-packages (from h5py==3.1.0->pykospacing==0.5) (1.5.2)\n",
            "Requirement already satisfied: setuptools in /usr/local/lib/python3.7/dist-packages (from protobuf>=3.9.2->tensorflow==2.5.0->pykospacing==0.5) (57.0.0)\n",
            "Requirement already satisfied: requests<3,>=2.21.0 in /usr/local/lib/python3.7/dist-packages (from tensorboard~=2.5->tensorflow==2.5.0->pykospacing==0.5) (2.23.0)\n",
            "Requirement already satisfied: tensorboard-data-server<0.7.0,>=0.6.0 in /usr/local/lib/python3.7/dist-packages (from tensorboard~=2.5->tensorflow==2.5.0->pykospacing==0.5) (0.6.1)\n",
            "Requirement already satisfied: werkzeug>=0.11.15 in /usr/local/lib/python3.7/dist-packages (from tensorboard~=2.5->tensorflow==2.5.0->pykospacing==0.5) (1.0.1)\n",
            "Requirement already satisfied: google-auth-oauthlib<0.5,>=0.4.1 in /usr/local/lib/python3.7/dist-packages (from tensorboard~=2.5->tensorflow==2.5.0->pykospacing==0.5) (0.4.4)\n",
            "Requirement already satisfied: google-auth<2,>=1.6.3 in /usr/local/lib/python3.7/dist-packages (from tensorboard~=2.5->tensorflow==2.5.0->pykospacing==0.5) (1.31.0)\n",
            "Requirement already satisfied: tensorboard-plugin-wit>=1.6.0 in /usr/local/lib/python3.7/dist-packages (from tensorboard~=2.5->tensorflow==2.5.0->pykospacing==0.5) (1.8.0)\n",
            "Requirement already satisfied: markdown>=2.6.8 in /usr/local/lib/python3.7/dist-packages (from tensorboard~=2.5->tensorflow==2.5.0->pykospacing==0.5) (3.3.4)\n",
            "Requirement already satisfied: chardet<4,>=3.0.2 in /usr/local/lib/python3.7/dist-packages (from requests<3,>=2.21.0->tensorboard~=2.5->tensorflow==2.5.0->pykospacing==0.5) (3.0.4)\n",
            "Requirement already satisfied: certifi>=2017.4.17 in /usr/local/lib/python3.7/dist-packages (from requests<3,>=2.21.0->tensorboard~=2.5->tensorflow==2.5.0->pykospacing==0.5) (2021.5.30)\n",
            "Requirement already satisfied: urllib3!=1.25.0,!=1.25.1,<1.26,>=1.21.1 in /usr/local/lib/python3.7/dist-packages (from requests<3,>=2.21.0->tensorboard~=2.5->tensorflow==2.5.0->pykospacing==0.5) (1.24.3)\n",
            "Requirement already satisfied: idna<3,>=2.5 in /usr/local/lib/python3.7/dist-packages (from requests<3,>=2.21.0->tensorboard~=2.5->tensorflow==2.5.0->pykospacing==0.5) (2.10)\n",
            "Requirement already satisfied: requests-oauthlib>=0.7.0 in /usr/local/lib/python3.7/dist-packages (from google-auth-oauthlib<0.5,>=0.4.1->tensorboard~=2.5->tensorflow==2.5.0->pykospacing==0.5) (1.3.0)\n",
            "Requirement already satisfied: cachetools<5.0,>=2.0.0 in /usr/local/lib/python3.7/dist-packages (from google-auth<2,>=1.6.3->tensorboard~=2.5->tensorflow==2.5.0->pykospacing==0.5) (4.2.2)\n",
            "Requirement already satisfied: rsa<5,>=3.1.4; python_version >= \"3.6\" in /usr/local/lib/python3.7/dist-packages (from google-auth<2,>=1.6.3->tensorboard~=2.5->tensorflow==2.5.0->pykospacing==0.5) (4.7.2)\n",
            "Requirement already satisfied: pyasn1-modules>=0.2.1 in /usr/local/lib/python3.7/dist-packages (from google-auth<2,>=1.6.3->tensorboard~=2.5->tensorflow==2.5.0->pykospacing==0.5) (0.2.8)\n",
            "Requirement already satisfied: importlib-metadata; python_version < \"3.8\" in /usr/local/lib/python3.7/dist-packages (from markdown>=2.6.8->tensorboard~=2.5->tensorflow==2.5.0->pykospacing==0.5) (4.5.0)\n",
            "Requirement already satisfied: oauthlib>=3.0.0 in /usr/local/lib/python3.7/dist-packages (from requests-oauthlib>=0.7.0->google-auth-oauthlib<0.5,>=0.4.1->tensorboard~=2.5->tensorflow==2.5.0->pykospacing==0.5) (3.1.1)\n",
            "Requirement already satisfied: pyasn1>=0.1.3 in /usr/local/lib/python3.7/dist-packages (from rsa<5,>=3.1.4; python_version >= \"3.6\"->google-auth<2,>=1.6.3->tensorboard~=2.5->tensorflow==2.5.0->pykospacing==0.5) (0.4.8)\n",
            "Requirement already satisfied: zipp>=0.5 in /usr/local/lib/python3.7/dist-packages (from importlib-metadata; python_version < \"3.8\"->markdown>=2.6.8->tensorboard~=2.5->tensorflow==2.5.0->pykospacing==0.5) (3.4.1)\n",
            "Building wheels for collected packages: pykospacing\n",
            "  Building wheel for pykospacing (setup.py) ... \u001b[?25l\u001b[?25hdone\n",
            "  Created wheel for pykospacing: filename=pykospacing-0.5-cp37-none-any.whl size=2255825 sha256=f52f57b0cd5ca7fe7d1fa21dbc5b6bf9b2ed09a0b52f46504d9c70faa21bd5c5\n",
            "  Stored in directory: /tmp/pip-ephem-wheel-cache-eyn7wuom/wheels/4d/45/58/e26cb2b7f6a063d234158c6fd1e5700f6e15b99d67154340ba\n",
            "Successfully built pykospacing\n",
            "Installing collected packages: argparse, pykospacing\n",
            "Successfully installed argparse-1.4.0 pykospacing-0.5\n"
          ],
          "name": "stdout"
        },
        {
          "output_type": "display_data",
          "data": {
            "application/vnd.colab-display-data+json": {
              "pip_warning": {
                "packages": [
                  "argparse"
                ]
              }
            }
          },
          "metadata": {
            "tags": []
          }
        },
        {
          "output_type": "stream",
          "text": [
            "Collecting git+https://github.com/ssut/py-hanspell.git\n",
            "  Cloning https://github.com/ssut/py-hanspell.git to /tmp/pip-req-build-lgs8qtyt\n",
            "  Running command git clone -q https://github.com/ssut/py-hanspell.git /tmp/pip-req-build-lgs8qtyt\n",
            "Requirement already satisfied: requests in /usr/local/lib/python3.7/dist-packages (from py-hanspell==1.1) (2.23.0)\n",
            "Requirement already satisfied: certifi>=2017.4.17 in /usr/local/lib/python3.7/dist-packages (from requests->py-hanspell==1.1) (2021.5.30)\n",
            "Requirement already satisfied: idna<3,>=2.5 in /usr/local/lib/python3.7/dist-packages (from requests->py-hanspell==1.1) (2.10)\n",
            "Requirement already satisfied: urllib3!=1.25.0,!=1.25.1,<1.26,>=1.21.1 in /usr/local/lib/python3.7/dist-packages (from requests->py-hanspell==1.1) (1.24.3)\n",
            "Requirement already satisfied: chardet<4,>=3.0.2 in /usr/local/lib/python3.7/dist-packages (from requests->py-hanspell==1.1) (3.0.4)\n",
            "Building wheels for collected packages: py-hanspell\n",
            "  Building wheel for py-hanspell (setup.py) ... \u001b[?25l\u001b[?25hdone\n",
            "  Created wheel for py-hanspell: filename=py_hanspell-1.1-cp37-none-any.whl size=4871 sha256=5680700e2530b18cdddfb3184897f905d3725d6dda125a9a7c938556cc31794c\n",
            "  Stored in directory: /tmp/pip-ephem-wheel-cache-c35rr1jj/wheels/0a/25/d1/e5e96476dbb1c318cc26c992dd493394fe42b0c204b3e65588\n",
            "Successfully built py-hanspell\n",
            "Installing collected packages: py-hanspell\n",
            "Successfully installed py-hanspell-1.1\n",
            "Collecting soynlp\n",
            "\u001b[?25l  Downloading https://files.pythonhosted.org/packages/7e/50/6913dc52a86a6b189419e59f9eef1b8d599cffb6f44f7bb91854165fc603/soynlp-0.0.493-py3-none-any.whl (416kB)\n",
            "\u001b[K     |████████████████████████████████| 419kB 7.7MB/s \n",
            "\u001b[?25hRequirement already satisfied: scipy>=1.1.0 in /usr/local/lib/python3.7/dist-packages (from soynlp) (1.4.1)\n",
            "Requirement already satisfied: psutil>=5.0.1 in /usr/local/lib/python3.7/dist-packages (from soynlp) (5.4.8)\n",
            "Requirement already satisfied: scikit-learn>=0.20.0 in /usr/local/lib/python3.7/dist-packages (from soynlp) (0.22.2.post1)\n",
            "Requirement already satisfied: numpy>=1.12.1 in /usr/local/lib/python3.7/dist-packages (from soynlp) (1.19.5)\n",
            "Requirement already satisfied: joblib>=0.11 in /usr/local/lib/python3.7/dist-packages (from scikit-learn>=0.20.0->soynlp) (1.0.1)\n",
            "Installing collected packages: soynlp\n",
            "Successfully installed soynlp-0.0.493\n",
            "Collecting kss\n",
            "\u001b[?25l  Downloading https://files.pythonhosted.org/packages/ed/ea/3030770642a58a08777dfa324a1b65a2f53f1574de8dd84424851f0c2ec7/kss-2.5.1-py3-none-any.whl (65kB)\n",
            "\u001b[K     |████████████████████████████████| 71kB 3.5MB/s \n",
            "\u001b[?25hInstalling collected packages: kss\n",
            "Successfully installed kss-2.5.1\n"
          ],
          "name": "stdout"
        }
      ]
    },
    {
      "cell_type": "code",
      "metadata": {
        "colab": {
          "base_uri": "https://localhost:8080/",
          "height": 136
        },
        "id": "c4fEip3Wj0oo",
        "outputId": "2c94315b-bd4d-4651-ca74-2e12cead90bf"
      },
      "source": [
        "#기초적 전처리, html tag 제거, 불필요 언어 제거, Lowercasing, punctuation(문장부호) 제거\n",
        "punct = \"/-'?!.,#$%\\'()*+-/:;<=>@[\\\\]^_`{|}~\" + '\"\"“”’' + '∞θ÷α•à−β∅³π‘₹´°£€\\×™√²—–&' \n",
        "punct_mapping = {\"‘\": \"'\", \"₹\": \"e\", \"´\": \"'\", \"°\": \"\", \"€\": \"e\", \"™\": \"tm\", \"√\": \" sqrt \", \"×\": \"x\", \"²\": \"2\", \"—\": \"-\", \"–\": \"-\", \"’\": \"'\", \"_\": \"-\", \"`\": \"'\", '“': '\"', '”': '\"', '“': '\"', \"£\": \"e\", '∞': 'infinity', 'θ': 'theta', '÷': '/', 'α': 'alpha', '•': '.', 'à': 'a', '−': '-', 'β': 'beta', '∅': '', '³': '3', 'π': 'pi', } \n",
        "def clean_punc(text, punct, mapping): \n",
        "  for p in mapping: \n",
        "    text = text.replace(p, mapping[p]) \n",
        "\n",
        "  for p in punct: \n",
        "    text = text.replace(p, f' {p} ') \n",
        "    \n",
        "  specials = {'\\u200b': ' ', '…': ' ... ', '\\ufeff': '', 'करना': '', 'है': ''} \n",
        "  for s in specials: \n",
        "    text = text.replace(s, specials[s]) \n",
        "    \n",
        "  return text.strip()\n",
        "\n",
        "import re\n",
        "\n",
        "def clean_text(texts):   \n",
        "    corpus = []\n",
        "   for i in range(0, len(texts)) : \n",
        "     review = re.sub(r'[@%\\\\*=()/~#&\\+á?\\xc3\\xa1\\-\\|\\.\\:\\;\\!\\-\\,\\_\\~\\$\\'\\\"]', '',str(texts[i])) #remove punctuation \n",
        "     review = re.sub(r'\\d+','', str(texts[i]))# remove number \n",
        "     review = review.lower() #lower case \n",
        "     review = re.sub(r'\\s+', ' ', review) #remove extra space \n",
        "     review = re.sub(r'<[^>]+>','',review) #remove Html tags \n",
        "     review = re.sub(r'\\s+', ' ', review) #remove spaces \n",
        "     review = re.sub(r\"^\\s+\", '', review) #remove space from start \n",
        "     review = re.sub(r'\\s+$', '', review) #remove space from the end \n",
        "     corpus.append(review) \n",
        "   return corpus"
      ],
      "execution_count": null,
      "outputs": [
        {
          "output_type": "error",
          "ename": "IndentationError",
          "evalue": "ignored",
          "traceback": [
            "\u001b[0;36m  File \u001b[0;32m\"<ipython-input-3-f4857b70025d>\"\u001b[0;36m, line \u001b[0;32m26\u001b[0m\n\u001b[0;31m    for i in range(0, len(texts)) :\u001b[0m\n\u001b[0m                                    ^\u001b[0m\n\u001b[0;31mIndentationError\u001b[0m\u001b[0;31m:\u001b[0m unindent does not match any outer indentation level\n"
          ]
        }
      ]
    },
    {
      "cell_type": "code",
      "metadata": {
        "colab": {
          "resources": {
            "http://localhost:8080/nbextensions/google.colab/files.js": {
              "data": "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",
              "ok": true,
              "headers": [
                [
                  "content-type",
                  "application/javascript"
                ]
              ],
              "status": 200,
              "status_text": ""
            }
          },
          "base_uri": "https://localhost:8080/",
          "height": 114
        },
        "id": "0nEL40Qa38c5",
        "outputId": "f74eb875-86c5-46c8-f1fc-77454ed772dc"
      },
      "source": [
        "from google.colab import files\n",
        "files.upload()\n"
      ],
      "execution_count": null,
      "outputs": [
        {
          "output_type": "display_data",
          "data": {
            "text/html": [
              "\n",
              "     <input type=\"file\" id=\"files-4340b03e-8656-4800-bf40-d6337b2ecd88\" name=\"files[]\" multiple disabled\n",
              "        style=\"border:none\" />\n",
              "     <output id=\"result-4340b03e-8656-4800-bf40-d6337b2ecd88\">\n",
              "      Upload widget is only available when the cell has been executed in the\n",
              "      current browser session. Please rerun this cell to enable.\n",
              "      </output>\n",
              "      <script src=\"/nbextensions/google.colab/files.js\"></script> "
            ],
            "text/plain": [
              "<IPython.core.display.HTML object>"
            ]
          },
          "metadata": {
            "tags": []
          }
        },
        {
          "output_type": "stream",
          "text": [
            "Saving sample_short.xlsx to sample_short.xlsx\n"
          ],
          "name": "stdout"
        },
        {
          "output_type": "execute_result",
          "data": {
            "text/plain": [
              "{'sample_short.xlsx': b'PK\\x03\\x04\\x14\\x00\\x06\\x00\\x08\\x00\\x00\\x00!\\x00A7\\x82\\xcfn\\x01\\x00\\x00\\x04\\x05\\x00\\x00\\x13\\x00\\x08\\x02[Content_Types].xml \\xa2\\x04\\x02(\\xa0\\x00\\x02\\x00\\x00\\x00\\x00\\x00\\x00\\x00\\x00\\x00\\x00\\x00\\x00\\x00\\x00\\x00\\x00\\x00\\x00\\x00\\x00\\x00\\x00\\x00\\x00\\x00\\x00\\x00\\x00\\x00\\x00\\x00\\x00\\x00\\x00\\x00\\x00\\x00\\x00\\x00\\x00\\x00\\x00\\x00\\x00\\x00\\x00\\x00\\x00\\x00\\x00\\x00\\x00\\x00\\x00\\x00\\x00\\x00\\x00\\x00\\x00\\x00\\x00\\x00\\x00\\x00\\x00\\x00\\x00\\x00\\x00\\x00\\x00\\x00\\x00\\x00\\x00\\x00\\x00\\x00\\x00\\x00\\x00\\x00\\x00\\x00\\x00\\x00\\x00\\x00\\x00\\x00\\x00\\x00\\x00\\x00\\x00\\x00\\x00\\x00\\x00\\x00\\x00\\x00\\x00\\x00\\x00\\x00\\x00\\x00\\x00\\x00\\x00\\x00\\x00\\x00\\x00\\x00\\x00\\x00\\x00\\x00\\x00\\x00\\x00\\x00\\x00\\x00\\x00\\x00\\x00\\x00\\x00\\x00\\x00\\x00\\x00\\x00\\x00\\x00\\x00\\x00\\x00\\x00\\x00\\x00\\x00\\x00\\x00\\x00\\x00\\x00\\x00\\x00\\x00\\x00\\x00\\x00\\x00\\x00\\x00\\x00\\x00\\x00\\x00\\x00\\x00\\x00\\x00\\x00\\x00\\x00\\x00\\x00\\x00\\x00\\x00\\x00\\x00\\x00\\x00\\x00\\x00\\x00\\x00\\x00\\x00\\x00\\x00\\x00\\x00\\x00\\x00\\x00\\x00\\x00\\x00\\x00\\x00\\x00\\x00\\x00\\x00\\x00\\x00\\x00\\x00\\x00\\x00\\x00\\x00\\x00\\x00\\x00\\x00\\x00\\x00\\x00\\x00\\x00\\x00\\x00\\x00\\x00\\x00\\x00\\x00\\x00\\x00\\x00\\x00\\x00\\x00\\x00\\x00\\x00\\x00\\x00\\x00\\x00\\x00\\x00\\x00\\x00\\x00\\x00\\x00\\x00\\x00\\x00\\x00\\x00\\x00\\x00\\x00\\x00\\x00\\x00\\x00\\x00\\x00\\x00\\x00\\x00\\x00\\x00\\x00\\x00\\x00\\x00\\x00\\x00\\x00\\x00\\x00\\x00\\x00\\x00\\x00\\x00\\x00\\x00\\x00\\x00\\x00\\x00\\x00\\x00\\x00\\x00\\x00\\x00\\x00\\x00\\x00\\x00\\x00\\x00\\x00\\x00\\x00\\x00\\x00\\x00\\x00\\x00\\x00\\x00\\x00\\x00\\x00\\x00\\x00\\x00\\x00\\x00\\x00\\x00\\x00\\x00\\x00\\x00\\x00\\x00\\x00\\x00\\x00\\x00\\x00\\x00\\x00\\x00\\x00\\x00\\x00\\x00\\x00\\x00\\x00\\x00\\x00\\x00\\x00\\x00\\x00\\x00\\x00\\x00\\x00\\x00\\x00\\x00\\x00\\x00\\x00\\x00\\x00\\x00\\x00\\x00\\x00\\x00\\x00\\x00\\x00\\x00\\x00\\x00\\x00\\x00\\x00\\x00\\x00\\x00\\x00\\x00\\x00\\x00\\x00\\x00\\x00\\x00\\x00\\x00\\x00\\x00\\x00\\x00\\x00\\x00\\x00\\x00\\x00\\x00\\x00\\x00\\x00\\x00\\x00\\x00\\x00\\x00\\x00\\x00\\x00\\x00\\x00\\x00\\x00\\x00\\x00\\x00\\x00\\x00\\x00\\x00\\x00\\x00\\x00\\x00\\x00\\x00\\x00\\x00\\x00\\x00\\x00\\x00\\x00\\x00\\x00\\x00\\x00\\x00\\x00\\x00\\x00\\x00\\x00\\x00\\x00\\x00\\x00\\x00\\x00\\x00\\x00\\x00\\x00\\x00\\x00\\x00\\x00\\x00\\x00\\x00\\x00\\x00\\x00\\x00\\x00\\x00\\x00\\x00\\x00\\x00\\x00\\x00\\x00\\x00\\x00\\x00\\x00\\x00\\x00\\x00\\x00\\x00\\x00\\x00\\x00\\x00\\x00\\x00\\x00\\x00\\x00\\x00\\x00\\x00\\x00\\x00\\x00\\x00\\x00\\x00\\x00\\x00\\x00\\x00\\x00\\x00\\x00\\x00\\x00\\x00\\x00\\x00\\x00\\x00\\x00\\x00\\x00\\xacT\\xc9n\\xc20\\x10\\xbdW\\xea?D\\xbeV\\x89\\xa1\\x87\\xaa\\xaa\\x08\\x1c\\xba\\x1c[$\\xe8\\x07\\x98x\\x92X$\\xb6\\xe5\\x19(\\xfc}\\'fQU\\xb1\\x08\\xc1%Ql\\xcf[&\\xf3<\\x18\\xad\\xda&YB@\\xe3l.\\xfaYO$`\\x0b\\xa7\\x8d\\xadr\\xf1=\\xfdH\\x9fE\\x82\\xa4\\xacV\\x8d\\xb3\\x90\\x8b5\\xa0\\x18\\r\\xef\\xef\\x06\\xd3\\xb5\\x07L\\xb8\\xdab.j\"\\xff\"%\\x165\\xb4\\n3\\xe7\\xc1\\xf2N\\xe9B\\xab\\x88?C%\\xbd*\\xe6\\xaa\\x02\\xf9\\xd8\\xeb=\\xc9\\xc2Y\\x02K)u\\x18b8x\\x83R-\\x1aJ\\xdeW\\xbc\\xbcQ23V$\\xaf\\x9bs\\x1dU.\\x94\\xf7\\x8d)\\x14\\xb1P\\xb9\\xb4\\xfa\\x1fI\\xea\\xca\\xd2\\x14\\xa0]\\xb1h\\x19:C\\x1f@i\\xac\\x01\\xa8m2\\x1f\\x0c3\\x86\\t\\x10\\xb11\\x14\\xf2 g\\x80\\x06/#\\xdd\\xba\\xca\\xb82\\n\\xc3\\xdax|`\\xebG\\x18\\xba\\x9d\\xe3\\xae\\xb6u_\\xfc;\\x82\\xd1\\x90\\x8cU\\xa0O\\xd5\\xb2w\\xb9j\\xe4\\x8f\\x0b\\xf3\\x99s\\xf3\\xec4\\xc8\\xa5\\xad\\x89-\\xcaZe\\xecN\\xf7\\t\\xfex\\x18e|\\xf5o,\\xa4\\xf3\\x17\\x81\\xcf\\xe8 \\x9e1\\x90\\xf1y\\xbd\\x84\\x08s\\x86\\x10i\\xdd\\x00\\xde\\xba\\xed\\x11\\xf4\\x1cs\\xad\\x02\\xe8\\t\\xf1\\xf4V7\\x17\\xf0\\x17\\xfb\\x94\\x0e\\x8e\\xd488\\x8f\\x9c\\xda\\x00\\x97wa\\x17\\x91\\xae:\\xf5\\x0c\\x04\\x81\\x0c\\xecCrh\\xd8\\xf6\\x8c\\x1c\\xf9\\xab\\xdb\\x0e\\xdd\\x9d\\xa2A\\x1f\\xe0\\x96\\xf1\\x0e\\x1b\\xfe\\x02\\x00\\x00\\xff\\xff\\x03\\x00PK\\x03\\x04\\x14\\x00\\x06\\x00\\x08\\x00\\x00\\x00!\\x00\\xb5U0#\\xf4\\x00\\x00\\x00L\\x02\\x00\\x00\\x0b\\x00\\x08\\x02_rels/.rels \\xa2\\x04\\x02(\\xa0\\x00\\x02\\x00\\x00\\x00\\x00\\x00\\x00\\x00\\x00\\x00\\x00\\x00\\x00\\x00\\x00\\x00\\x00\\x00\\x00\\x00\\x00\\x00\\x00\\x00\\x00\\x00\\x00\\x00\\x00\\x00\\x00\\x00\\x00\\x00\\x00\\x00\\x00\\x00\\x00\\x00\\x00\\x00\\x00\\x00\\x00\\x00\\x00\\x00\\x00\\x00\\x00\\x00\\x00\\x00\\x00\\x00\\x00\\x00\\x00\\x00\\x00\\x00\\x00\\x00\\x00\\x00\\x00\\x00\\x00\\x00\\x00\\x00\\x00\\x00\\x00\\x00\\x00\\x00\\x00\\x00\\x00\\x00\\x00\\x00\\x00\\x00\\x00\\x00\\x00\\x00\\x00\\x00\\x00\\x00\\x00\\x00\\x00\\x00\\x00\\x00\\x00\\x00\\x00\\x00\\x00\\x00\\x00\\x00\\x00\\x00\\x00\\x00\\x00\\x00\\x00\\x00\\x00\\x00\\x00\\x00\\x00\\x00\\x00\\x00\\x00\\x00\\x00\\x00\\x00\\x00\\x00\\x00\\x00\\x00\\x00\\x00\\x00\\x00\\x00\\x00\\x00\\x00\\x00\\x00\\x00\\x00\\x00\\x00\\x00\\x00\\x00\\x00\\x00\\x00\\x00\\x00\\x00\\x00\\x00\\x00\\x00\\x00\\x00\\x00\\x00\\x00\\x00\\x00\\x00\\x00\\x00\\x00\\x00\\x00\\x00\\x00\\x00\\x00\\x00\\x00\\x00\\x00\\x00\\x00\\x00\\x00\\x00\\x00\\x00\\x00\\x00\\x00\\x00\\x00\\x00\\x00\\x00\\x00\\x00\\x00\\x00\\x00\\x00\\x00\\x00\\x00\\x00\\x00\\x00\\x00\\x00\\x00\\x00\\x00\\x00\\x00\\x00\\x00\\x00\\x00\\x00\\x00\\x00\\x00\\x00\\x00\\x00\\x00\\x00\\x00\\x00\\x00\\x00\\x00\\x00\\x00\\x00\\x00\\x00\\x00\\x00\\x00\\x00\\x00\\x00\\x00\\x00\\x00\\x00\\x00\\x00\\x00\\x00\\x00\\x00\\x00\\x00\\x00\\x00\\x00\\x00\\x00\\x00\\x00\\x00\\x00\\x00\\x00\\x00\\x00\\x00\\x00\\x00\\x00\\x00\\x00\\x00\\x00\\x00\\x00\\x00\\x00\\x00\\x00\\x00\\x00\\x00\\x00\\x00\\x00\\x00\\x00\\x00\\x00\\x00\\x00\\x00\\x00\\x00\\x00\\x00\\x00\\x00\\x00\\x00\\x00\\x00\\x00\\x00\\x00\\x00\\x00\\x00\\x00\\x00\\x00\\x00\\x00\\x00\\x00\\x00\\x00\\x00\\x00\\x00\\x00\\x00\\x00\\x00\\x00\\x00\\x00\\x00\\x00\\x00\\x00\\x00\\x00\\x00\\x00\\x00\\x00\\x00\\x00\\x00\\x00\\x00\\x00\\x00\\x00\\x00\\x00\\x00\\x00\\x00\\x00\\x00\\x00\\x00\\x00\\x00\\x00\\x00\\x00\\x00\\x00\\x00\\x00\\x00\\x00\\x00\\x00\\x00\\x00\\x00\\x00\\x00\\x00\\x00\\x00\\x00\\x00\\x00\\x00\\x00\\x00\\x00\\x00\\x00\\x00\\x00\\x00\\x00\\x00\\x00\\x00\\x00\\x00\\x00\\x00\\x00\\x00\\x00\\x00\\x00\\x00\\x00\\x00\\x00\\x00\\x00\\x00\\x00\\x00\\x00\\x00\\x00\\x00\\x00\\x00\\x00\\x00\\x00\\x00\\x00\\x00\\x00\\x00\\x00\\x00\\x00\\x00\\x00\\x00\\x00\\x00\\x00\\x00\\x00\\x00\\x00\\x00\\x00\\x00\\x00\\x00\\x00\\x00\\x00\\x00\\x00\\x00\\x00\\x00\\x00\\x00\\x00\\x00\\x00\\x00\\x00\\x00\\x00\\x00\\x00\\x00\\x00\\x00\\x00\\x00\\x00\\x00\\x00\\x00\\x00\\x00\\x00\\x00\\x00\\x00\\x00\\x00\\x00\\x00\\x00\\x00\\x00\\x00\\x00\\x00\\x00\\x00\\x00\\x00\\x00\\x00\\x00\\x00\\x00\\x00\\x00\\x00\\x00\\x00\\x00\\x00\\x00\\x00\\x00\\x00\\x00\\x00\\x00\\xac\\x92MO\\xc30\\x0c\\x86\\xefH\\xfc\\x87\\xc8\\xf7\\xd5\\xdd\\x90\\x10BKwAH\\xbb!T~\\x80I\\xdc\\x0f\\xb5\\x8d\\xa3$\\x1b\\xdd\\xbf\\'\\x1c\\x10T\\x1a\\x83\\x03G\\x7f\\xbd~\\xfc\\xca\\xdb\\xdd<\\x8d\\xea\\xc8!\\xf6\\xe24\\xac\\x8b\\x12\\x14;#\\xb6w\\xad\\x86\\x97\\xfaqu\\x07*&r\\x96Fq\\xac\\xe1\\xc4\\x11v\\xd5\\xf5\\xd5\\xf6\\x99GJy(v\\xbd\\x8f*\\xab\\xb8\\xa8\\xa1K\\xc9\\xdf#F\\xd3\\xf1D\\xb1\\x10\\xcf.W\\x1a\\t\\x13\\xa5\\x1c\\x86\\x16=\\x99\\x81Z\\xc6MY\\xdeb\\xf8\\xae\\x01\\xd5BS\\xed\\xad\\x86\\xb0\\xb77\\xa0\\xea\\x93\\xcf\\x9b\\x7f\\xd7\\x96\\xa6\\xe9\\r?\\x889L\\xec\\xd2\\x99\\x15\\xc8sbg\\xd9\\xae|\\xc8l!\\xf5\\xf9\\x1aUSh9i\\xb0b\\x9er:\"y_dl\\xc0\\xf3D\\x9b\\xbf\\x13\\xfd|-N\\x9c\\xc8R\"4\\x12\\xf82\\xcfG\\xc7%\\xa0\\xf5\\x7fZ\\xb44\\xf1\\xcb\\x9dy\\xc47\\t\\xc3\\xab\\xc8\\xf0\\xc9\\x82\\x8b\\x1f\\xa8\\xde\\x01\\x00\\x00\\xff\\xff\\x03\\x00PK\\x03\\x04\\x14\\x00\\x06\\x00\\x08\\x00\\x00\\x00!\\x00\\xfe\\xef\\xa4\\xcb\\xe0\\x02\\x00\\x00\\xc3\\x06\\x00\\x00\\x0f\\x00\\x00\\x00xl/workbook.xml\\xacUMo\\xa30\\x10\\xbd\\xaf\\xb4\\xff\\x01\\xf9N\\xc1@H\\x82J\\xaa\\x10\\xa86\\xd2\\xee*\\xea\\xe7%R\\xe5\\x80\\x13\\xac\\x00fm\\xa7IU\\xf5\\xbf\\xef\\x18B\\xda4\\x97n\\xbb(\\x19c\\x0f<\\xbf\\x99y\\x1e\\xce/vea<R!\\x19\\xafB\\x84\\xcfld\\xd0*\\xe5\\x19\\xabV!\\xba\\xbd\\xb94\\x07\\xc8\\x90\\x8aT\\x19)xEC\\xf4D%\\xba\\x18}\\xffv\\xbe\\xe5b\\xbd\\xe0|m\\x00@%C\\x94+U\\x07\\x96%\\xd3\\x9c\\x96D\\x9e\\xf1\\x9aV\\xe0YrQ\\x12\\x05S\\xb1\\xb2d-(\\xc9dN\\xa9*\\x0b\\xcb\\xb1m\\xdf*\\t\\xabP\\x8b\\x10\\x88\\x8f`\\xf0\\xe5\\x92\\xa54\\xe6\\xe9\\xa6\\xa4\\x95jA\\x04-\\x88\\x02\\xfa2g\\xb5\\xec\\xd0\\xca\\xf4#p%\\x11\\xebMm\\xa6\\xbc\\xac\\x01b\\xc1\\n\\xa6\\x9e\\x1aPd\\x94i0]U\\\\\\x90E\\x01a\\xefp\\xcf\\xd8\\t\\xf8\\xf9\\xf0\\xc76\\x18\\xa7\\xdb\\t\\\\\\'[\\x95,\\x15\\\\\\xf2\\xa5:\\x03h\\xab%}\\x12?\\xb6-\\x8c\\x8fR\\xb0;\\xcd\\xc1\\xc7\\x90<K\\xd0G\\xa6kx`%\\xfcO\\xb2\\xf2\\x0fX\\xfe+\\x18\\xb6\\xbf\\x8c\\x86AZ\\x8dV\\x02H\\xde\\'\\xd1z\\x07n\\x0e\\x1a\\x9d/YA\\xefZ\\xe9\\x1a\\xa4\\xae\\x7f\\x93RW\\xaa@FA\\xa4J2\\xa6h\\x16\\xa2>L\\xf9\\x96\\x1e-\\x88M\\x1dmX\\x01^\\xc7\\xc3.F\\xd6\\xe8 \\xe7\\x99\\x80\\t\\xd4~\\\\(**\\xa2\\xe8\\x84W\\n\\xa4\\xb6\\xa7\\xfeUY5\\xd8\\x93\\x9c\\x83\\x88\\x8d+\\xfag\\xc3\\x04\\x85\\xb3\\x03\\x12\\x82p\\xc0\\x924 \\x0b9#*76\\xa2\\x08\\xd1$\\x98\\xdfJ\\x88\\xb0\\xb1\\xf3\\x98\\xca\\xb5\\xe2\\xf5<\\x15d[\\xc0\\x01\\x9dKR\\xd6\\x05\\x9d\\xbfQ\"9\\x95\\xfd?h\\x91\\xa4:\\x15\\x16\\x84\\xdfRl\\xef\\xdf\\xa7\\x02\\x98\\x8a\\xa0\\xd3\\xdbL\\t\\x03\\xee\\xa7\\xf1O\\xc8\\xf95y\\x84\\n@\\x9d\\xb3\\xfd\\x01\\x9dB\\x8a\\xb1\\xfbP\\xa5\"\\xc0\\x0f\\xcf\\xe3$\\x1aF\\xfdAd\\xfan/6\\xbd\\xc8\\xf6\\xcdA\\xd4\\xf7\\xcc\\xd8u\\xdd$\\xc6\\xd1p\\x90\\x8c_ \\x18\\xe1\\x07)\\'\\x1b\\x95\\xef\\x8b\\xab\\xa1C\\xe4A%O\\\\\\xbf\\xc8\\xae\\xf3`;\\xd8\\xb0\\xec\\x95\\xc6\\xb3\\xbd\\xbfL=\\xbe3\\x9d\\xefE\\x07\\xac\\xdb\\xd8\\x1d\\xa3[\\xf9*\\x03=5v\\xf7\\xac\\xca\\xf86D&v \\xa8\\xa7\\xe3\\xe9\\xb6q\\xde\\xb3L\\xe5\\xa0\\xa3\\xa1\\xed\\xc1#\\xed\\xda\\x0f\\xcaV90\\xc6\\xbd\\x81^\\x04\\xb9kf!:b\\x14\\xb7\\x8c.\\xe12\\xb59bd\\xbd\\xa1\\xd44L\\xa0\\xd6\\x8cF\\xd5\\x88\\xfcZ7Q\\x0c\\x9dY\\x8fM\\x92\\x91!\\x02\\xbd\\x87\\x98f\\x8d\\x9e\\xad\\xee\\xb5\\x94\\x14\\xe9L\\x18zh\\x1e\\xf4\\x9d!vu\\xd4t\\xa7~J\\xd5\\x8c 6\\x06\\xf4\\xb0g\\x8f\\xfb\\xf6\\xd03\\xed\\xc4\\xed\\x99\\xde`\\xe8\\x98\\x03\\xcfu\\xcc\\x89\\x17;I\\xaf\\x9f\\xc4I\\xd4\\xd3\\xf5\\xd1\\r?\\xf8\\x1fm\\xaf\\xd1|\\xd0}I4\\xcb\\x9c\\x08u#H\\xba\\x06y_\\xd1eD$\\x08\\xaa\\r\\x08\\xf8\\x82\\x1e;\\xd6V\\xf7\\xd6\\xe8/\\x00\\x00\\x00\\xff\\xff\\x03\\x00PK\\x03\\x04\\x14\\x00\\x06\\x00\\x08\\x00\\x00\\x00!\\x00\\x81>\\x94\\x97\\xf3\\x00\\x00\\x00\\xba\\x02\\x00\\x00\\x1a\\x00\\x08\\x01xl/_rels/workbook.xml.rels \\xa2\\x04\\x01(\\xa0\\x00\\x01\\x00\\x00\\x00\\x00\\x00\\x00\\x00\\x00\\x00\\x00\\x00\\x00\\x00\\x00\\x00\\x00\\x00\\x00\\x00\\x00\\x00\\x00\\x00\\x00\\x00\\x00\\x00\\x00\\x00\\x00\\x00\\x00\\x00\\x00\\x00\\x00\\x00\\x00\\x00\\x00\\x00\\x00\\x00\\x00\\x00\\x00\\x00\\x00\\x00\\x00\\x00\\x00\\x00\\x00\\x00\\x00\\x00\\x00\\x00\\x00\\x00\\x00\\x00\\x00\\x00\\x00\\x00\\x00\\x00\\x00\\x00\\x00\\x00\\x00\\x00\\x00\\x00\\x00\\x00\\x00\\x00\\x00\\x00\\x00\\x00\\x00\\x00\\x00\\x00\\x00\\x00\\x00\\x00\\x00\\x00\\x00\\x00\\x00\\x00\\x00\\x00\\x00\\x00\\x00\\x00\\x00\\x00\\x00\\x00\\x00\\x00\\x00\\x00\\x00\\x00\\x00\\x00\\x00\\x00\\x00\\x00\\x00\\x00\\x00\\x00\\x00\\x00\\x00\\x00\\x00\\x00\\x00\\x00\\x00\\x00\\x00\\x00\\x00\\x00\\x00\\x00\\x00\\x00\\x00\\x00\\x00\\x00\\x00\\x00\\x00\\x00\\x00\\x00\\x00\\x00\\x00\\x00\\x00\\x00\\x00\\x00\\x00\\x00\\x00\\x00\\x00\\x00\\x00\\x00\\x00\\x00\\x00\\x00\\x00\\x00\\x00\\x00\\x00\\x00\\x00\\x00\\x00\\x00\\x00\\x00\\x00\\x00\\x00\\x00\\x00\\x00\\x00\\x00\\x00\\x00\\x00\\x00\\x00\\x00\\x00\\x00\\x00\\x00\\x00\\x00\\x00\\x00\\x00\\x00\\x00\\x00\\x00\\x00\\x00\\x00\\x00\\x00\\x00\\x00\\x00\\x00\\x00\\x00\\x00\\x00\\x00\\x00\\x00\\x00\\x00\\x00\\x00\\x00\\x00\\x00\\x00\\x00\\x00\\x00\\x00\\x00\\x00\\x00\\x00\\x00\\x00\\x00\\x00\\x00\\x00\\x00\\x00\\x00\\x00\\x00\\x00\\xacRMK\\xc40\\x10\\xbd\\x0b\\xfe\\x870w\\x9bv\\x15\\x11\\xd9t/\"\\xecU\\xeb\\x0f\\x08\\xc9\\xb4)\\xdb&!3~\\xf4\\xdf\\x1b*\\xba]X\\xd6K/\\x03o\\x86y\\xef\\xcd\\xc7v\\xf75\\x0e\\xe2\\x03\\x13\\xf5\\xc1+\\xa8\\x8a\\x12\\x04z\\x13l\\xef;\\x05o\\xcd\\xf3\\xcd\\x03\\x08b\\xed\\xad\\x1e\\x82G\\x05\\x13\\x12\\xec\\xea\\xeb\\xab\\xed\\x0b\\x0e\\x9as\\x13\\xb9>\\x92\\xc8,\\x9e\\x148\\xe6\\xf8(%\\x19\\x87\\xa3\\xa6\"D\\xf4\\xb9\\xd2\\x864j\\xce0u2js\\xd0\\x1d\\xcaMY\\xde\\xcb\\xb4\\xe4\\x80\\xfa\\x84S\\xec\\xad\\x82\\xb4\\xb7\\xb7 \\x9a)f\\xe5\\xff\\xb9C\\xdb\\xf6\\x06\\x9f\\x82y\\x1f\\xd1\\xf3\\x19\\tI<\\ry\\x00\\xd1\\xe8\\xd4!+\\xf8\\xc1E\\xf6\\x08\\xf2\\xbc\\xfcfMy\\xcek\\xc1\\xa3\\xfa\\x0c\\xe5\\x1c\\xabK\\x1e\\xaa5=|\\x86t \\x87\\xc8G\\x1f\\x7f)\\x92s\\xe5\\xa2\\x99\\xbbU\\xef\\xe1tB\\xfb\\xca)\\xbf\\xdb\\xf2,\\xcb\\xf4\\xeff\\xe4\\xc9\\xc7\\xd5\\xdf\\x00\\x00\\x00\\xff\\xff\\x03\\x00PK\\x03\\x04\\x14\\x00\\x06\\x00\\x08\\x00\\x00\\x00!\\x00b\\x01Uf\\x02\\x03\\x00\\x001\\x07\\x00\\x00\\x18\\x00\\x00\\x00xl/worksheets/sheet1.xml\\x9c\\x92[o\\xc2 \\x18\\x86\\xef\\x97\\xec?\\x10\\xee-\\xad\\xcef6V\\xb3\\xb8,\\xdb\\xdd\\xb2\\xd3=\\xd2\\xaf\\x96\\xc8\\xa1\\x03<e\\xd9\\x7f\\xdfG\\x9d\\xba\\xc4\\x1b\\xb3\\xa6\\xa5\\x14\\xe8\\xf3~/\\xbc\\xe3\\xe9V+\\xb2\\x06\\xe7\\xa55%\\xcd\\x92\\x94\\x120\\xc2V\\xd2,J\\xfa\\xfe\\xf6\\xd0\\xbb\\xa5\\xc4\\x07n*\\xae\\xac\\x81\\x92\\xee\\xc0\\xd3\\xe9\\xe4\\xfaj\\xbc\\xb1n\\xe9\\x1b\\x80@\\x90`|I\\x9b\\x10\\xda\\x821/\\x1a\\xd0\\xdc\\'\\xb6\\x05\\x833\\xb5u\\x9a\\x07\\xfct\\x0b\\xe6[\\x07\\xbc\\xea~\\xd2\\x8a\\xf5\\xd34g\\x9aKC\\xf7\\x84\\xc2]\\xc2\\xb0u-\\x05\\xdc[\\xb1\\xd2`\\xc2\\x1e\\xe2@\\xf1\\x80\\xf5\\xfbF\\xb6\\xfe@\\xd3\\xe2\\x12\\x9c\\xe6n\\xb9j{\\xc2\\xea\\x16\\x11s\\xa9d\\xd8uPJ\\xb4(\\x9e\\x16\\xc6:>W\\xe8{\\x9b\\xddpA\\xb6\\x0e\\xef>>\\x83\\x83L7~\\xa6\\xa4\\xa5p\\xd6\\xdb:$Hf\\xfb\\x9a\\xcf\\xed\\x8f\\xd8\\x88qq$\\x9d\\xfb\\xbf\\x08\\x93\\xdd0\\x07k\\x19\\x0f\\xf0\\x84\\xea\\xff\\xaf\\xa4lxd\\xf5O\\xb0\\xc1?a\\xf9\\x11\\x16\\xb7\\xcb\\x15+Y\\x95\\xf4+\\xfd\\xbdz\\xf8\\xceb\\x93\\x9e\\x9a\\xc3\\xdc7\\x9d\\x8c+\\x89\\'\\x1c]\\x11\\x07uI\\xef\\xb2b6\\xa4l2\\xee\\xf2\\xf3!a\\xe3\\xff\\xf4I\\xe0\\xf3WP \\x02\\xa0FFI\\x8c\\xe7\\xdc\\xdae\\\\\\xf8\\x84C)\\x12}\\xb7 \\x12\\xb9\\x08r\\r3P\\n\\xc19&\\xfcs\\xaf\\x91G\\x01vT\\xf8\\xdb?\\xa8=t\\x81~v\\xa4\\x82\\x9a\\xafTx\\xb1\\x9bG\\x90\\x8b&\\xa0l\\x9e\\x0c\\xd1hLJQ\\xed\\xee\\xc1\\x0b\\x8c(J\\'\\x03\\xc4\\xfe\\x00\\x00\\x00\\xff\\xff\\x00\\x00\\x00\\xff\\xff\\x94\\x92[\\x0e\\x820\\x14D\\xb7B\\xee\\x02(\\xe5\\xe1\\x83\\xb4M\\x046\\xd2\\xd4&|\\xa1\\xa1\\x04u\\xf7\\xde\\xaa\\xa1\\xa5@\\xd4?`\\x0e\\xc3\\xc9PfZ\\xad\\x87F\\x0eR\\xb0\\xfer\\x8bz\\x0e\\x14\"s\\x95\\x9d\\xc1\\xab2\\x83\\xe8Ns\\xa9\\xca\\xf3\\xa3\\xd1F\\xe9n\\xe0\\x90\\xc4\\x19\\x08\\xa6,zB\\x16\\x9f\\x18\\xbc\\x1f\\x05M\\x18\\x19\\x05#\\xea\\x13V~\\x98\\xce\\xb3\\xda\\xcf\\xb2)#\\xa80y\\xa4\\x7fx \\xbb\\xeda\\x8b8\\xf8H`Z/\\t\\xba\\xee\\x84{\\xf8\\xdb\\xb4\\xf8QJ\\x8b\\xb8\\xf82\\x13\\xbe\\xe6\\xf4\\\\\\xf5k\\xc3\\xcav\\xce\\xf5\\xf2`\\xac7\\xe1OV\\xac\\xeb\\xe5\\x7fL\\x86\\xacs\\n~Oe\\x8b8\\xf8\\xda\\xbb\\xc0iI\\xec\\xd7\\x9dp\\x9b\\x9f\\x8f\\x13\\xb2\\xdb;\\xd9\\xa2\\xb9\\xd3!pZ\\x12\\xc7\\xc0\\x89\\xb8\\xe3\\xfe\\x04\\x00\\x00\\xff\\xff\\x00\\x00\\x00\\xff\\xff4\\x8eA\\n\\xc2@\\x0cE\\xaf2\\xe4\\x00\\xd6\"\"J\\xa7\\x1bW]\\x14\\x84\\x9e`\\xb4i\\'\\xa8\\x93\\x90FEO\\xefT\\xec\\xee\\xbf\\xbf\\xf8\\xefW\\x129\\xa1\\xd1\\xe5\\xa4n\\xe0dM\\xef\\xa1\\x04goA\\x0f\\x89\\x8f\\x9c\\x9e\\xa8\\x13q\\x82\\xa2\\xae$\\x8c\\xd8\\x06\\x1d)M\\xee\\x86\\x83yX\\xafv\\xe0\\x94\\xc6\\xb8dc\\xf9\\xb5[pg6\\xe3\\xfbB\\x11C\\x8f:\\xd3\\x06\\xb2\\x89m\\x81\\xffn\\x87\\xf6\\x10\\'AP;\\xfad\\xf9\\x1e\\x1c+a\\xb2`Y\\xefAXM\\x03Y\\xf6\\x1d(\\xbf\\xd4\\xa6/\\xe7S\\xc5\\x8b\\xf5:ED\\xab\\xbf\\x00\\x00\\x00\\xff\\xff\\x03\\x00PK\\x03\\x04\\x14\\x00\\x06\\x00\\x08\\x00\\x00\\x00!\\x00M?\\x80,\\x84\\x06\\x00\\x00\\x80\\x1a\\x00\\x00\\x13\\x00\\x00\\x00xl/theme/theme1.xml\\xecY\\xcfo\\xdb6\\x14\\xbe\\x0f\\xd8\\xff \\xe8\\xeeZ\\xb6%\\xd9\\x0e\\xea\\x14\\xb6l\\'k\\x93\\xb6h\\xdc\\x0e=\\xd26m\\xb1\\xa1DC\\xa4\\x93\\x1aE\\x81]w\\x190\\xa0\\x1bv\\x19\\xb0\\xdb\\x0e\\xc3\\x80\\x02\\xdbi\\x97\\xfd7-\\xb6\\xee\\x8f\\xd8#%[dL7\\xfd\\x91\\x02\\xdd\\xd0\\x18\\x08$\\xea{\\x8f\\x1f\\xdf{\\xfa\\xf8C\\xd7o<N\\xa8s\\x863NX\\xdaqk\\xd7<\\xd7\\xc1\\xe9\\x84MI:\\xef\\xb8\\xf7G\\xc3J\\xcbu\\xb8@\\xe9\\x14Q\\x96\\xe2\\x8e\\xbb\\xc2\\xdc\\xbd\\xb1\\xff\\xf9g\\xd7\\xd1\\x9e\\x88q\\x82\\x1d\\xb0O\\xf9\\x1e\\xea\\xb8\\xb1\\x10\\x8b\\xbdj\\x95O\\xa0\\x19\\xf1kl\\x81Sx6cY\\x82\\x04\\xdcf\\xf3\\xea4C\\xe7\\xe07\\xa1\\xd5\\xba\\xe7\\x85\\xd5\\x04\\x91\\xd4uR\\x94\\x80\\xdb;\\xb3\\x19\\x99`g$]\\xba\\xfbk\\xe7\\x03\\n\\xb7\\xa9\\xe0\\xb2aB\\xb3\\x13\\xe9\\x1a\\x1b\\x16\\n;=\\xadI\\x04_\\xf1\\x88f\\xce\\x19\\xa2\\x1d\\x17\\xfa\\x99\\xb2\\xf3\\x11~,\\\\\\x87\".\\xe0A\\xc7\\xf5\\xd4\\x9f[\\xdd\\xbf^E{\\x85\\x11\\x15;l5\\xbb\\xa1\\xfa+\\xec\\n\\x83\\xe9i]\\xf5\\x99\\xcd\\xc7\\x9bN}?\\xf0\\xc3\\xee\\xc6\\xbf\\x02P\\xb1\\x8d\\x1b4\\x07\\xe1 \\xdc\\xf8S\\x004\\x99\\xc0Hs.\\xba\\xcf\\xa0\\xd7\\xee\\xf5\\x83\\x02\\xab\\x81\\xf2K\\x8b\\xef~\\xb3\\xdf\\xa8\\x19x\\xcd\\x7fc\\x8bs7\\x90?\\x03\\xaf@\\xb9\\x7f\\x7f\\x0b?\\x1cF\\x10E\\x03\\xaf@9>\\xb0\\xc4\\xa4Y\\x8f|\\x03\\xaf@9>\\xdc\\xc27\\xbdn\\xdfo\\x1ax\\x05\\x8a)IO\\xb7\\xd0^\\x106\\xa2\\xf5h7\\x90\\x19\\xa3\\x87Vx;\\xf0\\x87\\xcdz\\xe1\\xbcDA5l\\xaaKv1c\\xa9\\xd8Uk\\tz\\xc4\\xb2!\\x00$\\x90\"ARG\\xac\\x16x\\x86&P\\xc5\\x11\\xa2d\\x9c\\x11\\xe7\\x88\\xccc(\\xbc\\x05J\\x19\\x87f\\xaf\\xee\\r\\xbd\\x06\\xfc\\x97?_]\\xa9\\x88\\xa0=\\x8c4k\\xc9\\x0b\\x98\\xf0\\xad&\\xc9\\xc7\\xe1\\x93\\x8c,D\\xc7\\xbd\\t^]\\r\\xf2p\\xe9\\x1c0\\x11\\x93I\\xd1\\xabrbX\\x1c\\xa2t\\xae[\\xbc\\xfa\\xf9\\xdb\\x7f~\\xfc\\xca\\xf9\\xfb\\xb7\\x9f^=\\xfb.\\xef\\xf4\"\\x9e\\xeb\\xf8\\x97\\xbf~\\xfd\\xf2\\x8f?_\\xe7\\x1e\\xc6Z\\x06\\xe1\\xc5\\xf7\\xcf_\\xfe\\xfe\\xfc\\xc5\\x0f\\xdf\\xfc\\xf5\\xcb3\\x8b\\xf7n\\x86\\xc6:|D\\x12\\xcc\\x9d\\xdb\\xf8\\xdc\\xb9\\xc7\\x12\\x18\\x9a\\x85?\\x1egog1\\x8a\\x111,P\\x0c\\xbe-\\xae\\x07\\x108\\x1dx{\\x85\\xa8\\r\\xd7\\xc3f\\x08\\x1fd\\xa0/6\\xe0\\xc1\\xf2\\x91\\xc1\\xf5$\\xce\\x96\\x82Xz\\xbe\\x15\\'\\x06\\xf0\\x981\\xdac\\x995\\x00\\xb7d_Z\\x84G\\xcbtn\\xef<[\\xea\\xb8{\\x08\\x9d\\xd9\\xfa\\x8ePj$x\\xb0\\\\\\x80\\xb0\\x12\\x9b\\xcb(\\xc6\\x06\\xcd\\xbb\\x14\\xa5\\x02\\xcdq\\x8a\\x85#\\x9f\\xb1S\\x8c-\\xa3{H\\x88\\x11\\xd7c2\\xc9\\x18g3\\xe1<$N\\x0f\\x11kHFdl\\x14RitH\\x12\\xc8\\xcb\\xcaF\\x10Rm\\xc4\\xe6\\xf8\\x81\\xd3c\\xd46\\xea>>3\\x91\\xf0Z j!?\\xc2\\xd4\\x08\\xe3\\x01Z\\n\\x94\\xd8\\\\\\x8ePB\\xf5\\x80\\x1f!\\x11\\xdbH\\x9e\\xac\\xb2\\x89\\x8e\\x1bp\\x01\\x99\\x9ec\\xca\\x9c\\xc1\\x14sn\\xb3\\xb9\\x93\\xc1x\\xb5\\xa4\\xdf\\x02m\\xb1\\xa7\\xfd\\x98\\xae\\x12\\x13\\x99\\trj\\xf3y\\x84\\x18\\xd3\\x91}v\\x1a\\xc5(YX9\\x934\\xd6\\xb1_\\xf0S(Q\\xe4\\xdce\\xc2\\x06?f\\xe6\\x1b\"\\xef!\\x0f(\\xdd\\x99\\xee\\x07\\x04\\x1b\\xe9\\xbe\\\\\\x08\\xee\\x83\\xac\\xea\\x94\\xca\\x02\\x91O\\x96\\x99%\\x97\\x07\\x98\\x99\\xef\\xe3\\x8a\\xce\\x10V*\\x03\\xaao\\x88yB\\xd2K\\x95\\xfd\\x82\\xa6\\x07\\x1fZ\\xd3\\xed\\xea|\\x05jnw\\xfc>:\\xde\\xcd\\x88\\xf5m:\\xbc\\xa0\\xde\\xbbp\\xffA\\xcd\\xee\\xa3ez\\x17\\xc3k\\xb2=g}\\x92\\xecO\\x92\\xed\\xfe\\xef%{\\xd7\\xbb|\\xf5B]j3\\xc8v\\xb9>W\\xab\\xf5d\\xe7b}F(=\\x11+\\x8a\\x8f\\xb8Z\\xafs\\x98\\x91\\xa6ChT\\x1b\\t\\xb5\\x9b\\xdcl\\xde\\x161\\\\\\x16[\\x03\\x037\\xcf\\x90\\xb2q2&\\xbe$\">\\x89\\xd1\\x02\\x16\\xf55\\xb5\\xf5\\x9c\\xf3\\xc2\\xf5\\x9c;\\x0b\\xc6a\\xad\\xaf\\x9a\\xd5&\\x18_\\xf0\\xadv\\x0c\\xcb\\xe4\\x98M\\xf3=j\\xad&\\xf7\\xa3\\xb9xp$\\xcav/\\xd8\\xb4\\xc3\\xfeB\\xe4\\xe8\\xb0Y\\xee\\xbb6\\xee\\xd5Nv\\xae\\xf6\\xc7k\\x02\\xd2\\xf6mHh\\x9d\\x99$\\x1a\\x16\\x12\\xcdu#d\\xe1u$\\xd4\\xc8\\xae\\x84E\\xdb\\xc2\\xa2%\\xdd\\xafS\\xb5\\xce\\xe2&\\x14@m\\x93\\x15X29\\xb0\\xd0\\xea\\xb8\\x81\\x9f\\xef\\xfda\\x1b\\x85(\\x9e\\xca<\\xe5\\xc7\\x00\\xeb\\xec\\xca\\xe4\\\\i\\xa6w\\x05\\x93\\xea\\x15\\x00\\xeb\\x87u\\x05\\x94\\x99nK\\xae;\\x87\\'G\\x97\\x97\\xda\\x1bd\\xda \\xa1\\x95\\x9bIB+\\xc3\\x18MqQ\\x9d\\xfaa\\xc9U\\xe6\\xba]\\xa6\\xd4\\xa0\\'C\\xb1~\\x1bJ\\x1a\\xcd\\xd6\\x87\\xc8\\xb5\\x14\\x91\\x0b\\xda@S])h\\xea\\x9cw\\xdc\\xb0\\x11\\xc0y\\xd8\\x04-:\\xee\\x0c\\xf6\\xfap\\x99,\\xa0v\\xb8\\\\\\xea\":\\x87\\x03\\xb3\\x89\\xc8\\xf2\\x17\\xfe]\\x94e\\x91q\\xd1G<\\xce\\x03\\xaeD\\'W\\x83\\x84\\x08\\x9c9\\x94$\\x1dW\\x0e\\x7fS\\r4U\\x1a\\xa2\\xb8\\xd5\\xea \\x08\\x1f-\\xb96\\xc8\\xca\\xc7F\\x0e\\x92n&\\x19\\xcffx\"\\xf4\\xb4k-2\\xd2\\xf9-(|\\xae\\x15\\xd6\\xa7\\xca\\xfc\\xdd\\xc1\\xd2\\x92-!\\xdd\\'\\xf1\\xf4\\xdc\\x19\\xd3ev\\x0fA\\x89\\x05\\xcd\\x9a\\x0c\\xe0\\x94p8\\xf2\\xa9\\xe5\\xd1\\x9c\\x128\\xc3\\xdc\\x08YY\\x7f\\x17&\\xa6Bv\\xf5CDUCy;\\xa2\\x8b\\x18\\x153\\x8a.\\xe69\\\\\\x89\\xe8\\x86\\x8e\\xba\\xdb\\xc4@\\xbb+\\xc6\\x0c\\x01\\xdd\\x0e\\xe1x.\\'\\xd8\\xf7\\x9eu/\\x9f\\xaae\\xe44\\xd1,\\xe7LCU\\xe4\\xaci\\x17\\xd3\\x0f7\\xc9k\\xac\\xcaI\\xd4`\\x95K\\xb7\\xda6\\xf0R\\xeb\\xdak\\xad\\x83B\\xb5\\xce\\x12\\x97\\xcc\\xbao0!h\\xd4\\xca\\xce\\x0cj\\x92\\xf1\\xb6\\x0cK\\xcd.ZMjW\\xb8 \\xd0\"\\x11\\xee\\x88\\xdbf\\x8e\\xb0F\\xe2]g~\\xb0\\xbbX\\xb5r\\x82X\\xaf+U\\xe1\\xab\\x8f\\x1d\\xfa\\xf7\\x086~\\x04\\xe2\\xd1\\x87\\x93\\xdf%\\x15\\\\\\xa5\\x12\\xbe6d\\x08\\x16}\\xf9\\xd9q.\\x1b\\xf0\\x8a<\\x16\\xc5\\x1a\\x11\\xae\\x9ceF:\\xee\\x13/\\xe8\\xfaQ=\\x88*^+\\x18T\\xfc\\x86\\xefUZA\\xb7Q\\xe9\\x06A\\xa36\\x08j^\\xbfW\\x7f\\n\\x13\\x8b\\x88\\x93Z\\x90\\x7fh\\x19\\xc2\\x11\\x14]\\x15\\x9f[T\\xfb\\xd6\\'\\x97d}\\xcavm\\xc2\\x92*S\\x9fT\\xaa\\x8a\\xb8\\xfa\\xe4R\\xab\\xef\\xfe\\xe4\\xe2\\x10\\x10\\x9d\\'a}\\xd8n\\xb4{a\\xa5\\xdd\\xe8\\x0e+~\\xbf\\xd7\\xaa\\xb4\\xa3\\xb0W\\xe9\\x87Q\\xb3?\\xecGA\\xab=|\\xea:g\\n\\xecw\\x1b\\x91\\x1f\\x0eZ\\x95\\xb0\\x16E\\x15?\\xf4$\\xfdV\\xbb\\xd2\\xf4\\xeb\\xf5\\xae\\xdf\\xec\\xb6\\x06~\\xf7i\\xb1\\x8c\\x81\\x91\\xe7\\xf2Q\\xc4\\x02\\xc2\\xabx\\xed\\xff\\x0b\\x00\\x00\\xff\\xff\\x03\\x00PK\\x03\\x04\\x14\\x00\\x06\\x00\\x08\\x00\\x00\\x00!\\x00\\xfa\\xb0v\\xf8\\x05\\x03\\x00\\x00\\xb1\\x07\\x00\\x00\\r\\x00\\x00\\x00xl/styles.xml\\xc4U\\xdb\\x8e\\xd30\\x10}G\\xe2\\x1f,\\xbfgsiS\\xda*\\xc9\\x8a\\xd2\\x8d\\xb4\\xd2\"!\\xed\"\\xf1\\xea&Nk\\xe1K\\xe4\\xb8%\\x05!\\xf1\\x0b+\\xc1\\x1bH< \\xf1\\x01\\xfc\\x15\\x97\\x7f`\\x9c\\xcb6\\xabE,,\\x0f\\xbc\\xb4\\xf6\\x8c}\\xe6\\xcc\\x9c\\xf1$:\\xae\\x05G;\\xaa+\\xa6d\\x8c\\xfd#\\x0f#*3\\x953\\xb9\\x8e\\xf1\\xd3\\x8b\\xd4\\x99bT\\x19\"s\\xc2\\x95\\xa41\\xde\\xd3\\n\\x1f\\'\\xf7\\xefE\\x95\\xd9sz\\xbe\\xa1\\xd4 \\x80\\x90U\\x8c7\\xc6\\x94s\\xd7\\xad\\xb2\\r\\x15\\xa4:R%\\x95\\xe0)\\x94\\x16\\xc4\\xc0V\\xaf\\xdd\\xaa\\xd4\\x94\\xe4\\x95\\xbd$\\xb8\\x1bx\\xde\\xc4\\x15\\x84I\\xdc\"\\xccE\\xf6\\' \\x82\\xe8\\xe7\\xdb\\xd2\\xc9\\x94(\\x89a+\\xc6\\x99\\xd97X\\x18\\x89l~\\xba\\x96J\\x93\\x15\\x07\\xaa\\xb5?&\\x19\\xaa\\xfd\\x89\\x0eP\\xad\\xfb \\x8d\\xf5F\\x1c\\xc12\\xad*U\\x98#\\xc0uUQ\\xb0\\x8c\\xde\\xa4;sg.\\xc9\\x0eH\\x80|7$?t\\xbd\\xe0Z\\xee\\xb5\\xbe#\\xd2\\xd8\\xd5t\\xc7\\xac|8\\x89\\n%M\\x852\\xb5\\x95&\\xc6\\x01\\x10\\xb5%\\x98?\\x97\\xea\\x85L\\xad\\x0b\\x14\\xeeN%Q\\xf5\\x12\\xed\\x08\\x07\\x8b\\x8f\\xdd$\\xca\\x14W\\x1a\\x19\\x90\\x0e*\\xd7X$\\x11\\xb4=\\xf1\\xed\\xf3\\xe5\\xf7\\x0fo\\xd0\\xd7/\\x1f\\xbf\\xbd}g\\x0f\\x17D0\\xbeo\\x9d\\x8154\\x9aw\\xa7\\x05\\x03\\x05\\xac\\xd1\\xb5lZN\\x87hS\\xeb\\xf9C\\xe8QClCt\\x05M\\xd6r\\rf\\xb7\\x85k\\xa2V\\x10\\x96q>(EkH\"\\xe8\\x19C\\xb5L\\xc1\\x8b\\xba\\xf5\\xc5\\xbe\\x84\\x9c%\\xb4w\\xcb\\x1a\\\\\\xb7\\x9e^k\\xb2\\xf7\\x83pp\\xc1m\\x02&\\xd1J\\xe9\\x1c\\x9eS/\\x82\\xadwkJ\"N\\x0b\\x03\\xd9k\\xb6\\xde\\xd8\\x7f\\xa3J\\xf8])c\\xa0\\xe5\\x92(gd\\xad$\\xe1\\xb6r\\xfd\\x8dn\\x01\\xe9d\\x94\\xf3s\\xfb\\xe4\\x9e\\x15\\xd7\\xb0\\xeb\\x02\\xc9\\xadH\\x859\\xcdc\\x0c\\x8f\\xd7\\xd6\\xbc_B\"\\xdd\\xb2\\xc5k7\\x16\\x7f\\x88\\xd6b\\x0f`\\xc7@\\xf9\\xefaQ]\\\\\\xe1\\xff\\xc3mD\\xca\\x92\\xef\\x1fr\\xb6\\x96\\x82\\xda.\\xb6\\x05$\\xfd\\x16\\xbd\\xd0\\xa4\\xbc\\xa0uc\\xb7\\x89\\xd4\\xc5\\x7f\\xe4\\xdaW\\x12j7\\x10\\xe8\\x9a<W\\x85F\\xb6\\xe7c\\xfc\\xe3\\xf2\\xfd\\xf7Oo\\xe0av\\xc5B\\xab-\\xe3\\x86\\xc9_H\\x03\\x98y}\\x10\\xdb\\xb3\\xbdf\\xecdk\\xda\\xe0*\\nh\\x9e\\xd3\\x82l\\xb9\\xb9\\xb8r\\xc6\\xf8\\xb0~Ls\\xb6\\x150\\x0b\\xbaSO\\xd8N\\x99\\x06\"\\xc6\\x87\\xf5\\x99\\xedI\\x7fbc@u\\xcf*x\\xb7\\xf0\\x8f\\xb6\\x9a\\xc5\\xf8\\xd5\\xc9\\xe2\\xc1ly\\x92\\x06\\xce\\xd4[L\\x9d\\xf1\\x88\\x86\\xce,\\\\,\\x9dp\\xfch\\xb1\\\\\\xa63/\\xf0\\x1e\\xbd\\x1e\\xcc\\xd7\\x7f\\x98\\xae\\xcd\\xe7\\x00$\\xf5\\xc7\\xf3\\x8a\\xc3\\x0c\\xd6]\\xb2\\x1d\\xf9\\xf3\\x83-\\xc6\\x83MK\\xbfy\\x8d@{\\xc8}\\x16L\\xbc\\x87\\xa1\\xef9\\xe9\\xc8\\xf3\\x9d\\xf1\\x84L\\x9d\\xe9d\\x14:i\\xe8\\x07\\xcb\\xc9xq\\x12\\xa6\\xe1\\x80{x\\xc7)\\xec\\xb9\\xbe\\xdf\\xcesK>\\x9c\\x1b&(g\\xb2\\xd7\\xaaWhh\\x05\\x91`\\xfb\\x9b$\\xdc^\\t\\xf7\\xf0\\xadM~\\x02\\x00\\x00\\xff\\xff\\x03\\x00PK\\x03\\x04\\x14\\x00\\x06\\x00\\x08\\x00\\x00\\x00!\\x00\\x07\\xc3\\xb0\\x0eD\\x05\\x00\\x00\\x1b\\x0b\\x00\\x00\\x14\\x00\\x00\\x00xl/sharedStrings.xml\\xacV\\xc1N\\x1bW\\x14\\xdd#\\xf1\\x0f/\\xb3\\xc8\\xaa` \\rT\\x04\\xcc\"R\\xa5\\xee\\xbah?\\xc0\\x02\\x07,\\xc1\\xd8e&Q\\xb3A\\x86\\x18:\\xb1\\x8d\\xea(\\x1e\\x18\\xc0\\xb6\\x06\\x01\\xc1\\xa8\\x962`\\xd3\\x18\\xc9\\xa8\\xff3\\xef\\xce?\\xf4\\xdc\\xf7\\x06\\xb0\\x89\\x1aU!\\x92\\x17c\\xfb\\xbd{\\xcf\\xbd\\xf7\\x9csgf\\xee\\xf7\\x95e\\xf1*\\xbdje\\xb2\\xe6\\xac1>:f\\x88\\xb49\\x9f]\\xc8\\x98\\x8b\\xb3\\xc6\\xaf\\xbf\\xfc8\\xf2\\x83!,;e.\\xa4\\x96\\xb3fz\\xd6x\\x9d\\xb6\\x8c\\xb9\\xe4\\xf0\\xd0\\x8ce\\xd9\\x02wMk\\xd6X\\xb2\\xed\\xdct\"a\\xcd/\\xa5WR\\xd6h6\\x976\\xf1\\xcf\\x8b\\xec\\xeaJ\\xca\\xc6\\xd7\\xd5\\xc5\\x84\\x95[M\\xa7\\x16\\xac\\xa5t\\xda^YNL\\x8c\\x8dM&VR\\x19\\xd3\\x10\\xf3\\xd9\\x97\\xa6\\x8d\\xbcO\\r\\xf1\\xd2\\xcc\\xfc\\xf62\\xfd<\\xfe\\xe1\\x89\\x91\\x9c\\xb12\\xc9\\x19\\x95d\\xda\\xca\\xa5\\xe6\\x91\\x1cQ\\xac\\xf4\\xea\\xab\\xb4\\x91\\x14#\\x82\\xde\\xac\\xcbRG\\xc8\\x8d\\x0e\\xed\\x9f\\x89iA\\xbb-jT\\xe8\\xaa\\x16^\\xb6h//\\xa8p\\x1ev\\xf2a\\xbb Oz\"r=\\xf2\\xf2\\xb2X\\x95\\xdb\\x01\\xedWGET\\xedQ\\xa3@\\xf5\\x82\\xa0Z!r;\\x03\\xd7\\xc3 \\x7fs\\xc0\\xbd\\xe63\\xb2y\\x15\\xb6}A\\r\\x87\\x8a\\x97\\xb2\\xe4\\xc8\\xd2\\xf1(\\x00\\xd4\\xe5\\x87\\x96\\x18\\xa7:\\xe2\\x1f\\xe0\\xd0\\xdf\\xf9\\xa8\\x10\\x08\\xba\\xbdB\\xbb\\x8e\\xce(\\x90\\x12\\x10j\\xe2\\xc9\\xc8\\xf7|\\x9a|W\\xfe\\x89\\xcc\\x03\\xc1\\xe5F\\x8d\\xc3\\xd0ne\\x10:\\xc0\\xd0aY\\x07\\xfaN\\xd0F\\x0b\\xb7\\x15n\\xd7\\xe1\\xb3\\xa8,\\xbc(\\x0bY\\xf1\\x90\\xae\\x1f\\xdd\\x85G\\xf5\\xf2ge\\xf0!.\\xc8-\\x0b\\xda\\xe9\\xc8bE\\x84\\xdd \\x0ctZ4\\xa4\\xe4S\\xdd\\x13\\xc8)\\x8b\\'\\xe8 \\xd5\\xd1\\x99\\x06\\x97A\\xa7yT17\\'\\xf0\\x10v\\x1d\\xc6\\x8f\\xde\\xd2\\xd6\\xf6\\xbd2\\xf4i\\xb4\\x19XU<Y\\xf1\\xc3\\xab\\xb2\\xec \\xd3\\xf99W\\x0e\\xa4\\x85\\x9a\\x08?u\\xa5\\xffG\\x1f`y\\xe5\\xcb\\x93\\xae\\x90\\xa5K\\xd9\\xce\\xabfb\\xc0\\xefk\\xf2C\\x07\\xf5\\xf1\\xccFg\\x12vr&\\xc1\\xac\\xf8\\x123\\x1e/\\xdb\\xcf\\xb2\\xd3\\xb9\\xc7\\x8b\\xf63\\xc1\\xcf\\x89\\xf8\\xcb\\xbd\\xdbI:ud\\xab\\xab~\\xcd-\\x81\\xdbvf\\xfe\\xe7U\\xf1\"k\\xda?-\\x80\\x91\\x86\\xb0_\\xe7\\xc093\\xfb<k\\xc6\\x021\\x12\\xfd\\xf9\\x93\\x1a\\xea\\x83\"\\xb4;`S\\xf4\\xe6s\\xbaQ\\xad\\'\\xfdc\\x90\\x0e\\xdcD\\xf1\\xc3C\\xe4\\x1d\\xcb\"F\\x9a\\x17\\x93tP\\x1d\\x9f\\x04\\x8f0\\x1cf\\xa5<u0\\x13y\\xfa\\x96\\x8ez`\\x047\\x97.\\xfe\\xa2\\xd3.\\xbe3\\x93c\\x9e\\x92\\xe7(\\xe6\\xf05>\\x06J\\x86\\x9fz\\x18\\x94\\x98B\\xc0\\xc9\\xb5)\\x96@\\xb4\\xf3\\x96\\xe9\\x81k}\\xa4\\xdaa\\x04j`\\r5:\\x1d\\x90e%?v\\xe5QS\\x03\\xed\\'\\xfe\\x1dx/V\\xc0\\xd4\\xda\\xf8\\x18C\\xf6\\x15\\xd3\\xa0\\'.\\xf0\\x0c\\xf2\\xad\\xf0\\x89\\xf0\\xbc\\xc34\\x07\\xbf\\x84b\\x1c\\x0b#/&XZt\\xe5\\xc9\\xc3\\x9a\\xe27p\\x80\\x8a\\xdbUY\\xef\\xb1\\xc6\\x81\\x89\\xffG\\xd1\\xfa\\xd4)T\\xf0\\xdfq\\x99o\\x1fZJ\\xc5~\\x8d\\xdb\\xc2\\t\\xb9U\\x0e\\x18\\xaf\\x14\\x0e=\\xe8\\x98\\xa0\\xbc{\\x1d\\xb6{8\\xb2\\xc7p8*\\xb4\\xc2\\x8a}\\xb3\\x0eOal\\xb4\\xbb\\x15^\\xf8t\\xe4\\x03\\xb1F\\xab\\xbbw7\\r\\xb9\\xc1\\xbc\\xc7dnP\\x015\\x8f\\xd3\\x93\\xdb\\xf8(\\x9f\\x10r\\xbd\\x18\\xf7ab\\xed\\t\\xca\\x80\\x99\\xa9bK\\xc7T\\x024m0x\\xa4\\xc6;\\xd8\\x07\\\\\\x87\\xf1\\xf7\\x85\\x80\\xdf\\x15\\xbaQ\\xc3\\x01\\x862\\xa6\\xc0\\xbd(\\xd5\\xb8\\xadaP\\x81S(o\\xf0o5\\xf6\\xe8\\xd1\\xffR\\x10\\xb9\\x8e\\xdct\\xd91\\x0b]\\xed\\x95x\\xac\\x83\\xa8\\'\\xb1\\xe7r\\xc1\\x1b-\\x11^\\xe5i\\xabL\\xbb\\x0156cO\\x1c\\x1e\\xc2f`\\x95~\\xa5\\xa2bWv\\xaf\\x85l_\\xc2\\xd6Q47\\xf0iT>\\x03\\x9f\\x85f}\\xd0\\xd4fw\\xeb\\xe6\\xb0$\\x87\\xd7\\xc0\\x9d5b\\x92~-\\xda\\xb9\\xb1_\\x1d6\\xdaob\\xa8\\xda\\xb4\\xd8\\xc91\\xbbo\\xd4\\x0fvL4\\x83\\x1d\\xf2^3\\xbeP\\x90\\xae&6nl\\xa1\\x9e\\xfc\\x98\\xe7\\xe1\\xeb+B\\xa3\\x1d\\\\9p\\x01Ui\\xbc\\x05`\\r\\x8a\\x94\\xcaf\\x07=;<\\x0f\\xd8\\xc7\\xc1\\xd2;\\x87\\x1d\\x1e\\xd2\\x06\\xcc\\x93ES\\xc9e\\xee\\xd1f\\x95c\\xc8\\xca\\xd9\\xed\\x08\\x85\\xb8o\\x95wU@\\x92\\xbe{\\xb3\\x0e\\x99\\x88G\\xcdx\\x99\\xc9z\\x81\\x0e\\xca\\xac\\xa8\\xdb\\xd3JWA5\\xfc\\xa7\\xca?\\xc7\\x13\\xddqb\\x9d\\r\\x0c\\x85m\\n\\xda\\xde\\xf0\\xd8\\x03\\x1e<\\x95\\xbd.\\xabW\\xbf \\xa86l\\x1dR\\xb1\\x85E7\\xc8TY8\\x8e\\xc1\\xeaf\\x83P\\x98\\x83\\xaf$\\xdb\\xd7\\x8f\\xe1!m\\xf4j\\xe9\\x06\\x08\\xcd\"\\x86\\xce\\x10\\x0f\\x9b\\\\\\xf9\\xd98\\xde\\x06\\xbc&|\\x89\\xea]\\xce\\xabm\\x98S\\xdf\\\\E}`$\\xe8\\xec\\xaf\\xab3\\xd8\\x83m\\xb6a!\\xab\\x01\\xaf\\xbd\\xf0\\x02j\\xd5\\xe2\\xbfpo\\x0e\\x9do\\xaaw\\x14~9\\xd9R\\xe0Tv\\xf5\\xfa\\x80\\xc5qX\\x93\\xb0<\\xc0\\x81\\xf2yK@\\xfcZ\\xb0\\x13@\\xe3\\xbb\\xd1\\x1e4\\x0c\\x13\\xa9{\\x91\\xbb\\x87\\x88H\\x01\\x8a\\x16\\xb83Q\\xb9\"KM\\xb616z\\x98\\xd4>L\\xae\\xfd\\x8e\\x0e*\\nQp\\x86\\xc5\\xc85n\\xaa\\xc1\\xa1F|G\\x1c\\xfc\\xa9\\xb6\\xc2\\xfbc&\\x8en\\x80\\x0c\\xaa\\xb2\\xb1\\xfd\\x05\\xee,d,\\xeb!\\x96\\xf0\\xa0\\xcb\\xa9\\xaf\\xcb\\x9c\\xc0\\xcbm\\xf2_\\x00\\x00\\x00\\xff\\xff\\x03\\x00PK\\x03\\x04\\x14\\x00\\x06\\x00\\x08\\x00\\x00\\x00!\\x00;m2K\\xc1\\x00\\x00\\x00B\\x01\\x00\\x00#\\x00\\x00\\x00xl/worksheets/_rels/sheet1.xml.rels\\x84\\x8f\\xc1\\x8a\\xc20\\x14E\\xf7\\x03\\xfeCx{\\x93\\xd6\\x85\\x0cCS7\"\\xb8U\\xe7\\x03b\\xfa\\xda\\x06\\xdb\\x97\\x90\\xf7\\x14\\xfd{\\xb3\\x1ce\\xc0\\xe5\\xe5p\\xcf\\xe56\\x9b\\xfb<\\xa9\\x1bf\\x0e\\x91,\\xd4\\xba\\x02\\x85\\xe4c\\x17h\\xb0\\xf0{\\xda-\\xbfA\\xb18\\xea\\xdc\\x14\\t-<\\x90a\\xd3.\\xbe\\x9a\\x03NNJ\\x89\\xc7\\x90X\\x15\\x0b\\xb1\\x85Q$\\xfd\\x18\\xc3~\\xc4\\xd9\\xb1\\x8e\\t\\xa9\\x90>\\xe6\\xd9I\\x89y0\\xc9\\xf9\\x8b\\x1b\\xd0\\xac\\xaajm\\xf2_\\x07\\xb4/N\\xb5\\xef,\\xe4}W\\x83:=RY\\xfe\\xec\\x8e}\\x1f<n\\xa3\\xbf\\xceH\\xf2\\xcf\\x84I9\\x90`>\\xa2H9\\xc8E\\xed\\xf2\\x80bA\\xebw\\xf6\\x9ek}\\x0e\\x04\\xa6m\\xcc\\xcb\\xf3\\xf6\\t\\x00\\x00\\xff\\xff\\x03\\x00PK\\x03\\x04\\x14\\x00\\x06\\x00\\x08\\x00\\x00\\x00!\\x00\\xfc_\\x1f}3\\x01\\x00\\x00\\x94\\n\\x00\\x00\\'\\x00\\x00\\x00xl/printerSettings/printerSettings1.bin\\xec\\x94=K\\xc3`\\x14\\x85\\x9f$~\\xc5\\xfaE\\xeb\\xe0\\xc7\\xe2\\xe6$\\x18\\x12R;V\\xaat\\xd3\\xb1\\xb8\\x05\\x17\\x17ut\\x10\\xffB\\x07\\x07\\x87\\xfe\\n\\xc7n\\xfe\\x00\\x17\\x87\\x0e\\x0e\\xfe\\x02\\x11\\\\\\x1c\\x04\\x0b\\xf5\\xdc\\xa4B\\xbb\\x88E\\x11\\x91\\\\8\\xef{rs\\xef\\xe1}o\\xc2\\xa9\\x93p\\xc2!\\xa7\\x1c\\xb3\\xc6>5v\\x19%\\x9c1\\xcfy\\xa0\\xed\\xef\\xdd88\\xf8\\xb4\\n\\xd1\\x14b\\xd0p]\\xed\\r\\xd7\\xd4\\xaaD#\\xa9~^l\\xea_\\x89s*l\\x13\\x13\\xeaNe6\\t\\xd8\\xd0Ib\\xed\\xb1X\\xa4\\xb7\\x15\\xad\\x963V\\x15\\xdbQ}\\xc8\\x96\\xaa\\x03e\\xca\\xe2\\xa1\\xf2\\x01\\x17?x\\xfa\\\\\\xea\\xb7&P\\xff\\xe6\\xbf\\x9d\\x7f\\xa9\\xff3\\x01/\\x01\\xb3\\xa2\\xeb\\xdbn\\xef\\xfe\\xec\\xad\\x97\\x94\\xe0h\\x15\\x96\\x943?\\x91i\\xa5a~\\x95y\\xd6\\xf0\\xdd\\xa7\\xf5h\\x98\\x13\\x96\\xfb\\x18\\xac\\xfb\\xd0\\xb3\\xae\\xd6\\n<\\x16\\xb2\\xfe\\x8e\\x84\\xaf\\xacAQ\\x9c\\x84\\x97\\xbey\\xdd\\x89_\\xfaY\\xfe`\\x11\\xcc5-\\x9aEx\\xd2\\xd9,\\xba3\\xaa\\x99\\x85\\x85\\xf5a4\\xc7\\xa1\\xedAIx\\x96^Mx\\xcdZ\\xd2u^\\xeb\\x84\\x90Z\\xef@>\\xa7\\xf9\\x04\\xf2\\t\\xe4\\x13\\xf8\\xeb\\x13x\\x07\\x00\\x00\\xff\\xff\\x03\\x00PK\\x03\\x04\\x14\\x00\\x06\\x00\\x08\\x00\\x00\\x00!\\x008n &E\\x01\\x00\\x00Y\\x02\\x00\\x00\\x11\\x00\\x08\\x01docProps/core.xml \\xa2\\x04\\x01(\\xa0\\x00\\x01\\x00\\x00\\x00\\x00\\x00\\x00\\x00\\x00\\x00\\x00\\x00\\x00\\x00\\x00\\x00\\x00\\x00\\x00\\x00\\x00\\x00\\x00\\x00\\x00\\x00\\x00\\x00\\x00\\x00\\x00\\x00\\x00\\x00\\x00\\x00\\x00\\x00\\x00\\x00\\x00\\x00\\x00\\x00\\x00\\x00\\x00\\x00\\x00\\x00\\x00\\x00\\x00\\x00\\x00\\x00\\x00\\x00\\x00\\x00\\x00\\x00\\x00\\x00\\x00\\x00\\x00\\x00\\x00\\x00\\x00\\x00\\x00\\x00\\x00\\x00\\x00\\x00\\x00\\x00\\x00\\x00\\x00\\x00\\x00\\x00\\x00\\x00\\x00\\x00\\x00\\x00\\x00\\x00\\x00\\x00\\x00\\x00\\x00\\x00\\x00\\x00\\x00\\x00\\x00\\x00\\x00\\x00\\x00\\x00\\x00\\x00\\x00\\x00\\x00\\x00\\x00\\x00\\x00\\x00\\x00\\x00\\x00\\x00\\x00\\x00\\x00\\x00\\x00\\x00\\x00\\x00\\x00\\x00\\x00\\x00\\x00\\x00\\x00\\x00\\x00\\x00\\x00\\x00\\x00\\x00\\x00\\x00\\x00\\x00\\x00\\x00\\x00\\x00\\x00\\x00\\x00\\x00\\x00\\x00\\x00\\x00\\x00\\x00\\x00\\x00\\x00\\x00\\x00\\x00\\x00\\x00\\x00\\x00\\x00\\x00\\x00\\x00\\x00\\x00\\x00\\x00\\x00\\x00\\x00\\x00\\x00\\x00\\x00\\x00\\x00\\x00\\x00\\x00\\x00\\x00\\x00\\x00\\x00\\x00\\x00\\x00\\x00\\x00\\x00\\x00\\x00\\x00\\x00\\x00\\x00\\x00\\x00\\x00\\x00\\x00\\x00\\x00\\x00\\x00\\x00\\x00\\x00\\x00\\x00\\x00\\x00\\x00\\x00\\x00\\x00\\x00\\x00\\x00\\x00\\x00\\x00\\x00\\x00\\x00\\x00\\x00\\x00\\x00\\x00\\x00\\x00\\x00\\x00\\x00\\x00\\x00\\x00\\x00\\x00\\x00\\x00|\\x92QK\\xc30\\x14\\x85\\xdf\\x05\\xffC\\xc9{\\x9b\\xa4ss\\x86\\xb6\\x03\\x95=9\\x10\\xdcP|\\x0b\\xc9\\xddVl\\xd2\\x90D\\xbb\\xfd{\\xd3v\\xab\\x95\\x89\\x8f\\xb9\\xe7\\xdc\\xef\\x9e{I\\xb68\\xa8*\\xfa\\x02\\xeb\\xcaZ\\xe7\\x88&\\x04E\\xa0E-K\\xbd\\xcb\\xd1f\\xbd\\x8c\\xe7(r\\x9ek\\xc9\\xabZC\\x8e\\x8e\\xe0\\xd0\\xa2\\xb8\\xbe\\xca\\x84a\\xa2\\xb6\\xf0lk\\x03\\xd6\\x97\\xe0\\xa2@\\xd2\\x8e\\t\\x93\\xa3\\xbd\\xf7\\x86a\\xec\\xc4\\x1e\\x14wIp\\xe8 nk\\xab\\xb8\\x0fO\\xbb\\xc3\\x86\\x8b\\x0f\\xbe\\x03\\x9c\\x122\\xc3\\n<\\x97\\xdcs\\xdc\\x02c3\\x10\\xd1\\t)\\xc5\\x804\\x9f\\xb6\\xea\\x00R`\\xa8@\\x81\\xf6\\x0e\\xd3\\x84\\xe2\\x1f\\xaf\\x07\\xab\\xdc\\x9f\\r\\x9d2r\\xaa\\xd2\\x1fM\\xd8\\xe9\\x14w\\xcc\\x96\\xa2\\x17\\x07\\xf7\\xc1\\x95\\x83\\xb1i\\x9a\\xa4\\x99t1B~\\x8a\\xdfVO/\\xdd\\xaaq\\xa9\\xdb[\\t@E&\\x05\\x13\\x16\\xb8\\xafm\\xb1q`3<*\\xb4\\xc7\\xab\\xb8\\xf3\\xabp\\xe7m\\t\\xf2\\xfex\\xf2\\\\\\xd6\\x03\\xa7\\x8b\\xdd\\xc3@F!\\x08\\xebc\\x9f\\x95\\xd7\\xc9\\xc3\\xe3z\\x89\\x8a\\x94\\xd0iLf1\\x99\\xae\\xe9\\x9c\\xd1;6\\xb9yo\\xc7\\xfe\\xeao\\x83\\xf5\\x05u\\x1a\\xfe/1\\xa51\\xb9m\\x89$et\\xc6\\xa6dD<\\x03\\x8a\\x0c_|\\x86\\xe2\\x1b\\x00\\x00\\xff\\xff\\x03\\x00PK\\x03\\x04\\x14\\x00\\x06\\x00\\x08\\x00\\x00\\x00!\\x00I\\x8ev~\\x9c\\x01\\x00\\x00\\x13\\x03\\x00\\x00\\x10\\x00\\x08\\x01docProps/app.xml \\xa2\\x04\\x01(\\xa0\\x00\\x01\\x00\\x00\\x00\\x00\\x00\\x00\\x00\\x00\\x00\\x00\\x00\\x00\\x00\\x00\\x00\\x00\\x00\\x00\\x00\\x00\\x00\\x00\\x00\\x00\\x00\\x00\\x00\\x00\\x00\\x00\\x00\\x00\\x00\\x00\\x00\\x00\\x00\\x00\\x00\\x00\\x00\\x00\\x00\\x00\\x00\\x00\\x00\\x00\\x00\\x00\\x00\\x00\\x00\\x00\\x00\\x00\\x00\\x00\\x00\\x00\\x00\\x00\\x00\\x00\\x00\\x00\\x00\\x00\\x00\\x00\\x00\\x00\\x00\\x00\\x00\\x00\\x00\\x00\\x00\\x00\\x00\\x00\\x00\\x00\\x00\\x00\\x00\\x00\\x00\\x00\\x00\\x00\\x00\\x00\\x00\\x00\\x00\\x00\\x00\\x00\\x00\\x00\\x00\\x00\\x00\\x00\\x00\\x00\\x00\\x00\\x00\\x00\\x00\\x00\\x00\\x00\\x00\\x00\\x00\\x00\\x00\\x00\\x00\\x00\\x00\\x00\\x00\\x00\\x00\\x00\\x00\\x00\\x00\\x00\\x00\\x00\\x00\\x00\\x00\\x00\\x00\\x00\\x00\\x00\\x00\\x00\\x00\\x00\\x00\\x00\\x00\\x00\\x00\\x00\\x00\\x00\\x00\\x00\\x00\\x00\\x00\\x00\\x00\\x00\\x00\\x00\\x00\\x00\\x00\\x00\\x00\\x00\\x00\\x00\\x00\\x00\\x00\\x00\\x00\\x00\\x00\\x00\\x00\\x00\\x00\\x00\\x00\\x00\\x00\\x00\\x00\\x00\\x00\\x00\\x00\\x00\\x00\\x00\\x00\\x00\\x00\\x00\\x00\\x00\\x00\\x00\\x00\\x00\\x00\\x00\\x00\\x00\\x00\\x00\\x00\\x00\\x00\\x00\\x00\\x00\\x00\\x00\\x00\\x00\\x00\\x00\\x00\\x00\\x00\\x00\\x00\\x00\\x00\\x00\\x00\\x00\\x00\\x00\\x00\\x00\\x00\\x00\\x00\\x00\\x00\\x00\\x00\\x00\\x00\\x00\\x00\\x00\\x00\\x00\\x00\\x00\\x9c\\x92\\xc1N\\xdc0\\x10\\x86\\xef\\x95x\\x87\\xc8w\\xd6YZ!\\xb4r\\x8c\\xd0R\\xc4\\xa1UW\\xda\\x85\\xbb\\xebL6\\x16\\x8em\\xd9C\\xb4\\xdb[\\xaf-o\\x00\\x8f\\xd0\\x07\\xe0\\xa1\\xe0\\x1d:I\\xc4\\x92\\x85\\x9ez\\x9b\\x99\\xff\\xd7\\xef\\xcfc\\x8b\\xd3Mc\\xb3\\x16b2\\xde\\x15l:\\xc9Y\\x06N\\xfb\\xd2\\xb8u\\xc1\\xaeV\\x17\\x87\\',K\\xa8\\\\\\xa9\\xacwP\\xb0-$v*\\x0f>\\x88E\\xf4\\x01\"\\x1aH\\x19E\\xb8T\\xb0\\x1a1\\xcc8O\\xba\\x86F\\xa5\\t\\xc9\\x8e\\x94\\xca\\xc7F!\\xb5q\\xcd}U\\x19\\r\\xe7^\\xdf6\\xe0\\x90\\x1f\\xe5\\xf91\\x87\\r\\x82+\\xa1<\\x0c\\xbb@6$\\xceZ\\xfc\\xdf\\xd0\\xd2\\xeb\\x8e/]\\xaf\\xb6\\x81\\x80\\xa58\\x0b\\xc1\\x1a\\xad\\x90n)\\xbf\\x1a\\x1d}\\xf2\\x15f\\x9f7\\x1a\\xac\\xe0cQ\\x10\\xdd\\x12\\xf4m4\\xb8\\x95\\xb9\\xe0\\xe3V,\\xb5\\xb20\\xa7`Y)\\x9b@\\xf0\\xd7\\x81\\xb8\\x04\\xd5-m\\xa1LLR\\xb48kA\\xa3\\x8fY2?hmG,\\xfb\\xae\\x12t8\\x05kU4\\xca!au\\xb6\\xa1\\xe9k\\x1b\\x12F\\xf9t\\x7f\\xf7\\xfc\\xf3\\xcf\\xd3\\xef\\x87\\xe7_\\x8f\\x82\\x93e\\x18\\xf7\\xe5\\xd8=\\xae\\xcd\\'9\\xed\\rT\\xec\\x1b\\xbb\\x80\\x01\\x85\\x84}\\xc8\\x95A\\x0b\\xe9[\\xb5P\\x11\\xff\\xc1<\\x1d3\\xf7\\x0c\\x03\\xf1\\x80\\xb3\\xac\\x01p8s\\xcc\\xd7_\\x9aNz\\x93=\\xf7MPnK\\xc2\\xae\\xfab\\xdcM\\xba\\n+\\x7f\\xae\\x10^\\x16\\xba?\\x14\\xcbZE(\\xe9\\rv\\x0b\\xdf\\r\\xc4%\\xed2\\xda.d^+\\xb7\\x86\\xf2\\xc5\\xf3^\\xe8\\x9e\\xffz\\xf8\\xe3rz<\\xc9?\\xe6\\xf4\\xb2\\xa3\\x99\\xe0\\xaf\\xbfY\\xfe\\x05\\x00\\x00\\xff\\xff\\x03\\x00PK\\x01\\x02-\\x00\\x14\\x00\\x06\\x00\\x08\\x00\\x00\\x00!\\x00A7\\x82\\xcfn\\x01\\x00\\x00\\x04\\x05\\x00\\x00\\x13\\x00\\x00\\x00\\x00\\x00\\x00\\x00\\x00\\x00\\x00\\x00\\x00\\x00\\x00\\x00\\x00\\x00[Content_Types].xmlPK\\x01\\x02-\\x00\\x14\\x00\\x06\\x00\\x08\\x00\\x00\\x00!\\x00\\xb5U0#\\xf4\\x00\\x00\\x00L\\x02\\x00\\x00\\x0b\\x00\\x00\\x00\\x00\\x00\\x00\\x00\\x00\\x00\\x00\\x00\\x00\\x00\\xa7\\x03\\x00\\x00_rels/.relsPK\\x01\\x02-\\x00\\x14\\x00\\x06\\x00\\x08\\x00\\x00\\x00!\\x00\\xfe\\xef\\xa4\\xcb\\xe0\\x02\\x00\\x00\\xc3\\x06\\x00\\x00\\x0f\\x00\\x00\\x00\\x00\\x00\\x00\\x00\\x00\\x00\\x00\\x00\\x00\\x00\\xcc\\x06\\x00\\x00xl/workbook.xmlPK\\x01\\x02-\\x00\\x14\\x00\\x06\\x00\\x08\\x00\\x00\\x00!\\x00\\x81>\\x94\\x97\\xf3\\x00\\x00\\x00\\xba\\x02\\x00\\x00\\x1a\\x00\\x00\\x00\\x00\\x00\\x00\\x00\\x00\\x00\\x00\\x00\\x00\\x00\\xd9\\t\\x00\\x00xl/_rels/workbook.xml.relsPK\\x01\\x02-\\x00\\x14\\x00\\x06\\x00\\x08\\x00\\x00\\x00!\\x00b\\x01Uf\\x02\\x03\\x00\\x001\\x07\\x00\\x00\\x18\\x00\\x00\\x00\\x00\\x00\\x00\\x00\\x00\\x00\\x00\\x00\\x00\\x00\\x0c\\x0c\\x00\\x00xl/worksheets/sheet1.xmlPK\\x01\\x02-\\x00\\x14\\x00\\x06\\x00\\x08\\x00\\x00\\x00!\\x00M?\\x80,\\x84\\x06\\x00\\x00\\x80\\x1a\\x00\\x00\\x13\\x00\\x00\\x00\\x00\\x00\\x00\\x00\\x00\\x00\\x00\\x00\\x00\\x00D\\x0f\\x00\\x00xl/theme/theme1.xmlPK\\x01\\x02-\\x00\\x14\\x00\\x06\\x00\\x08\\x00\\x00\\x00!\\x00\\xfa\\xb0v\\xf8\\x05\\x03\\x00\\x00\\xb1\\x07\\x00\\x00\\r\\x00\\x00\\x00\\x00\\x00\\x00\\x00\\x00\\x00\\x00\\x00\\x00\\x00\\xf9\\x15\\x00\\x00xl/styles.xmlPK\\x01\\x02-\\x00\\x14\\x00\\x06\\x00\\x08\\x00\\x00\\x00!\\x00\\x07\\xc3\\xb0\\x0eD\\x05\\x00\\x00\\x1b\\x0b\\x00\\x00\\x14\\x00\\x00\\x00\\x00\\x00\\x00\\x00\\x00\\x00\\x00\\x00\\x00\\x00)\\x19\\x00\\x00xl/sharedStrings.xmlPK\\x01\\x02-\\x00\\x14\\x00\\x06\\x00\\x08\\x00\\x00\\x00!\\x00;m2K\\xc1\\x00\\x00\\x00B\\x01\\x00\\x00#\\x00\\x00\\x00\\x00\\x00\\x00\\x00\\x00\\x00\\x00\\x00\\x00\\x00\\x9f\\x1e\\x00\\x00xl/worksheets/_rels/sheet1.xml.relsPK\\x01\\x02-\\x00\\x14\\x00\\x06\\x00\\x08\\x00\\x00\\x00!\\x00\\xfc_\\x1f}3\\x01\\x00\\x00\\x94\\n\\x00\\x00\\'\\x00\\x00\\x00\\x00\\x00\\x00\\x00\\x00\\x00\\x00\\x00\\x00\\x00\\xa1\\x1f\\x00\\x00xl/printerSettings/printerSettings1.binPK\\x01\\x02-\\x00\\x14\\x00\\x06\\x00\\x08\\x00\\x00\\x00!\\x008n &E\\x01\\x00\\x00Y\\x02\\x00\\x00\\x11\\x00\\x00\\x00\\x00\\x00\\x00\\x00\\x00\\x00\\x00\\x00\\x00\\x00\\x19!\\x00\\x00docProps/core.xmlPK\\x01\\x02-\\x00\\x14\\x00\\x06\\x00\\x08\\x00\\x00\\x00!\\x00I\\x8ev~\\x9c\\x01\\x00\\x00\\x13\\x03\\x00\\x00\\x10\\x00\\x00\\x00\\x00\\x00\\x00\\x00\\x00\\x00\\x00\\x00\\x00\\x00\\x95#\\x00\\x00docProps/app.xmlPK\\x05\\x06\\x00\\x00\\x00\\x00\\x0c\\x00\\x0c\\x00&\\x03\\x00\\x00g&\\x00\\x00\\x00\\x00'}"
            ]
          },
          "metadata": {
            "tags": []
          },
          "execution_count": 1
        }
      ]
    },
    {
      "cell_type": "code",
      "metadata": {
        "colab": {
          "base_uri": "https://localhost:8080/",
          "height": 117,
          "referenced_widgets": [
            "d0a613a24c284ad6bc81b1867f2b1538",
            "b059f39986254170b232b5589bbef6f2",
            "72aac72889aa45df8e83c6e8e30c7a1a",
            "e330e544f2fc49e9a7dae03c107e0197",
            "47ba6442a1374fca9aebfa87ba4f7074",
            "b6af160e70a4433dbda3c775d4a84ace",
            "ca88bace726241d5b8ca1d080e719821",
            "2db8bbd760774bf7a88e86eb2a582125",
            "a1facb798fcf4a52b035682633d0392e",
            "08e1038ac034468d999901a90696410b",
            "5b10b465516f48b1b94dacd50822a96b",
            "e473232da3164c519f304cf9d19c1d57",
            "efef5099ef024533a1ad81dbe1e0ff60",
            "a76447f5ef3345d4a6f87e11a919f394",
            "7c9482d1da1743a9a7ce35e0a5e814eb",
            "aadf946d07a64c4d92f54a6f98d7ea26"
          ]
        },
        "id": "2F7oCp3Ck0mz",
        "outputId": "5395a65f-cb9b-4ad8-825b-34bdd2e8d455"
      },
      "source": [
        "from sklearn.feature_extraction.text import TfidfVectorizer\n",
        "from collections import defaultdict\n",
        "import nltk\n",
        "import pandas as pd\n",
        "from openpyxl import Workbook\n",
        "from pykospacing import Spacing \n",
        "from hanspell import spell_checker\n",
        "from tqdm.notebook import tqdm\n",
        "from soynlp.normalizer import *\n",
        "import kss\n",
        "import re\n",
        "\n",
        "# ============================================\n",
        "# --  텍스트 전처리\n",
        "# ============================================\n",
        "spacing = Spacing()\n",
        "def spell_text(texts):\n",
        "  sample_space = spacing(texts)\n",
        "  # spelled_sent = spell_checker.check(sample_space)\n",
        "  # sampel_space_spell = spelled_sent.checked\n",
        "  return (sample_space)\n",
        "\n",
        "def process_sentence(texts):\n",
        "  chars = \"<o:p/>\"\n",
        "  tmp = ''\n",
        "  for sent_ in kss.split_sentences(texts):\n",
        "    if(('안녕하세요' in sent_) or ('하이닥' in sent_) or ('감사합니다' in sent_) or (len(sent_))>500) :\n",
        "      continue\n",
        "    tmp = tmp + ' ' + (spell_text(sent_))\n",
        "    #print(spell_text(sent_), end=' ')  \n",
        "  for i in range(len(chars)):\n",
        "    tmp = tmp.replace(chars[i],\"\")\n",
        "  if(tmp == \"\" or tmp == \"  \"):\n",
        "    return \"아직 답변이 작성되지 않았습니다.\"\n",
        "  return tmp\n",
        "\n",
        "# ============================================\n",
        "# --  파일 읽어오기\n",
        "# ============================================\n",
        "df = pd.read_excel('/content/sample_short.xlsx')\n",
        "df_np = pd.DataFrame.to_numpy(df)\n",
        "\n",
        "processed_sentence_question = []\n",
        "processed_sentence_answer = []\n",
        "\n",
        "for i in tqdm(range(0, len(df))):\n",
        "  processed_sentence_question.append(process_sentence(df_np[i][1]))\n",
        "  processed_sentence_answer.append(process_sentence(df_np[i][2]))  \n",
        "  #print(str(i)+' = '+processed_sentence_answer[i])\n",
        "\n",
        "# ============================================\n",
        "# --  Excel 입력\n",
        "# ============================================\n",
        "wb = Workbook() \n",
        "sheet = wb.active \n",
        "sheet.title = '전처리된 문장' # 컬럼명 지정(헤더) \n",
        "\n",
        "sheet.cell(row=1, column=1, value='질문')\n",
        "sheet.cell(row=1, column=2, value='답변')\n",
        "\n",
        "\n",
        "# 시트 저장 \n",
        "row_no = 2\n",
        "for n, rows in tqdm(enumerate(processed_sentence_question)): \n",
        "  for seq, value in enumerate(rows): \n",
        "    sheet.cell(row=row_no+n, column=1, value=processed_sentence_question[n]) \n",
        "    sheet.cell(row=row_no+n, column=2, value=processed_sentence_answer[n])\n",
        "\n",
        "wb.save('/content/sample_data_processed.xlsx')\n",
        "wb.close()\n",
        "\n"
      ],
      "execution_count": null,
      "outputs": [
        {
          "output_type": "display_data",
          "data": {
            "application/vnd.jupyter.widget-view+json": {
              "model_id": "d0a613a24c284ad6bc81b1867f2b1538",
              "version_minor": 0,
              "version_major": 2
            },
            "text/plain": [
              "HBox(children=(FloatProgress(value=0.0, max=4.0), HTML(value='')))"
            ]
          },
          "metadata": {
            "tags": []
          }
        },
        {
          "output_type": "stream",
          "text": [
            "\n"
          ],
          "name": "stdout"
        },
        {
          "output_type": "display_data",
          "data": {
            "application/vnd.jupyter.widget-view+json": {
              "model_id": "a1facb798fcf4a52b035682633d0392e",
              "version_minor": 0,
              "version_major": 2
            },
            "text/plain": [
              "HBox(children=(FloatProgress(value=1.0, bar_style='info', max=1.0), HTML(value='')))"
            ]
          },
          "metadata": {
            "tags": []
          }
        },
        {
          "output_type": "stream",
          "text": [
            "\n"
          ],
          "name": "stdout"
        }
      ]
    }
  ]
}